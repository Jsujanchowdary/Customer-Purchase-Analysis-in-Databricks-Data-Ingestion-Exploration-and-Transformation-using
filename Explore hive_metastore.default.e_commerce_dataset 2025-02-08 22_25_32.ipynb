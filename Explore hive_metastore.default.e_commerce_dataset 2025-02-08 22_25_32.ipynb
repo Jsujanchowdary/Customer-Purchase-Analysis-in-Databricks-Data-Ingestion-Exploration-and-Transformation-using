{
 "cells": [
  {
   "cell_type": "code",
   "execution_count": null,
   "metadata": {
    "application/vnd.databricks.v1+cell": {
     "cellMetadata": {
      "byteLimit": 2048000,
      "implicitDf": true,
      "rowLimit": 10000
     },
     "inputWidgets": {},
     "nuid": "980e471f-41ca-41c0-a7bf-3c9fdcac9104",
     "showTitle": false,
     "tableResultSettingsMap": {},
     "title": ""
    }
   },
   "outputs": [
    {
     "data": {
      "text/html": [
       "<style scoped>\n",
       "  .table-result-container {\n",
       "    max-height: 300px;\n",
       "    overflow: auto;\n",
       "  }\n",
       "  table, th, td {\n",
       "    border: 1px solid black;\n",
       "    border-collapse: collapse;\n",
       "  }\n",
       "  th, td {\n",
       "    padding: 5px;\n",
       "  }\n",
       "  th {\n",
       "    text-align: left;\n",
       "  }\n",
       "</style><div class='table-result-container'><table class='table-result'><thead style='background-color: white'><tr><th>Order_Date</th><th>Time</th><th>Aging</th><th>Customer_Id</th><th>Gender</th><th>Device_Type</th><th>Customer_Login_type</th><th>Product_Category</th><th>Product</th><th>Sales</th><th>Quantity</th><th>Discount</th><th>Profit</th><th>Shipping_Cost</th><th>Order_Priority</th><th>Payment_method</th><th>Order_Date_Standardized</th></tr></thead><tbody><tr><td>2018-01-02</td><td>2025-02-08T10:56:33Z</td><td>8.0</td><td>37077</td><td>Female</td><td>Web</td><td>Member</td><td>Auto & Accessories</td><td>Car Media Players</td><td>140.0</td><td>1.0</td><td>0.3</td><td>46.0</td><td>4.6</td><td>Medium</td><td>credit_card</td><td>2018-01-02</td></tr><tr><td>2018-07-24</td><td>2025-02-08T20:41:37Z</td><td>2.0</td><td>59173</td><td>Female</td><td>Web</td><td>Member</td><td>Auto & Accessories</td><td>Car Speakers</td><td>211.0</td><td>1.0</td><td>0.3</td><td>112.0</td><td>11.2</td><td>Medium</td><td>credit_card</td><td>2018-07-24</td></tr><tr><td>2018-11-08</td><td>2025-02-08T08:38:49Z</td><td>8.0</td><td>41066</td><td>Female</td><td>Web</td><td>Member</td><td>Auto & Accessories</td><td>Car Body Covers</td><td>117.0</td><td>5.0</td><td>0.1</td><td>31.2</td><td>3.1</td><td>Critical</td><td>credit_card</td><td>2018-11-08</td></tr><tr><td>2018-04-18</td><td>2025-02-08T19:28:06Z</td><td>7.0</td><td>50741</td><td>Female</td><td>Web</td><td>Member</td><td>Auto & Accessories</td><td>Car & Bike Care</td><td>118.0</td><td>1.0</td><td>0.3</td><td>26.2</td><td>2.6</td><td>High</td><td>credit_card</td><td>2018-04-18</td></tr><tr><td>2018-08-13</td><td>2025-02-08T21:18:39Z</td><td>9.0</td><td>53639</td><td>Female</td><td>Web</td><td>Member</td><td>Auto & Accessories</td><td>Tyre</td><td>250.0</td><td>1.0</td><td>0.3</td><td>160.0</td><td>16.0</td><td>Critical</td><td>credit_card</td><td>2018-08-13</td></tr><tr><td>2018-07-09</td><td>2025-02-08T21:57:05Z</td><td>8.0</td><td>39783</td><td>Female</td><td>Web</td><td>Member</td><td>Auto & Accessories</td><td>Bike Tyres</td><td>72.0</td><td>1.0</td><td>0.3</td><td>24.0</td><td>2.4</td><td>Critical</td><td>credit_card</td><td>2018-07-09</td></tr><tr><td>2018-05-16</td><td>2025-02-08T13:10:30Z</td><td>1.0</td><td>26767</td><td>Female</td><td>Web</td><td>Member</td><td>Auto & Accessories</td><td>Car Mat</td><td>54.0</td><td>1.0</td><td>0.3</td><td>54.0</td><td>5.4</td><td>High</td><td>credit_card</td><td>2018-05-16</td></tr><tr><td>2018-06-23</td><td>2025-02-08T18:29:09Z</td><td>7.0</td><td>20719</td><td>Female</td><td>Web</td><td>Member</td><td>Auto & Accessories</td><td>Car Seat Covers</td><td>114.0</td><td>5.0</td><td>0.2</td><td>22.6</td><td>2.3</td><td>Critical</td><td>credit_card</td><td>2018-06-23</td></tr><tr><td>2018-07-29</td><td>2025-02-08T11:55:02Z</td><td>7.0</td><td>46947</td><td>Female</td><td>Web</td><td>Member</td><td>Auto & Accessories</td><td>Car Pillow & Neck Rest</td><td>231.0</td><td>5.0</td><td>0.3</td><td>116.4</td><td>11.6</td><td>Critical</td><td>credit_card</td><td>2018-07-29</td></tr><tr><td>2018-05-16</td><td>2025-02-08T19:41:10Z</td><td>10.0</td><td>31839</td><td>Female</td><td>Web</td><td>Member</td><td>Auto & Accessories</td><td>Car Media Players</td><td>140.0</td><td>1.0</td><td>0.2</td><td>54.4</td><td>5.4</td><td>Critical</td><td>money_order</td><td>2018-05-16</td></tr></tbody></table></div>"
      ]
     },
     "metadata": {
      "application/vnd.databricks.v1+output": {
       "addedWidgets": {},
       "aggData": [],
       "aggError": "",
       "aggOverflow": false,
       "aggSchema": [],
       "aggSeriesLimitReached": false,
       "aggType": "",
       "arguments": {},
       "columnCustomDisplayInfos": {},
       "data": [
        [
         "2018-01-02",
         "2025-02-08T10:56:33Z",
         8,
         37077,
         "Female",
         "Web",
         "Member",
         "Auto & Accessories",
         "Car Media Players",
         140,
         1,
         0.3,
         46,
         4.6,
         "Medium",
         "credit_card",
         "2018-01-02"
        ],
        [
         "2018-07-24",
         "2025-02-08T20:41:37Z",
         2,
         59173,
         "Female",
         "Web",
         "Member",
         "Auto & Accessories",
         "Car Speakers",
         211,
         1,
         0.3,
         112,
         11.2,
         "Medium",
         "credit_card",
         "2018-07-24"
        ],
        [
         "2018-11-08",
         "2025-02-08T08:38:49Z",
         8,
         41066,
         "Female",
         "Web",
         "Member",
         "Auto & Accessories",
         "Car Body Covers",
         117,
         5,
         0.1,
         31.2,
         3.1,
         "Critical",
         "credit_card",
         "2018-11-08"
        ],
        [
         "2018-04-18",
         "2025-02-08T19:28:06Z",
         7,
         50741,
         "Female",
         "Web",
         "Member",
         "Auto & Accessories",
         "Car & Bike Care",
         118,
         1,
         0.3,
         26.2,
         2.6,
         "High",
         "credit_card",
         "2018-04-18"
        ],
        [
         "2018-08-13",
         "2025-02-08T21:18:39Z",
         9,
         53639,
         "Female",
         "Web",
         "Member",
         "Auto & Accessories",
         "Tyre",
         250,
         1,
         0.3,
         160,
         16,
         "Critical",
         "credit_card",
         "2018-08-13"
        ],
        [
         "2018-07-09",
         "2025-02-08T21:57:05Z",
         8,
         39783,
         "Female",
         "Web",
         "Member",
         "Auto & Accessories",
         "Bike Tyres",
         72,
         1,
         0.3,
         24,
         2.4,
         "Critical",
         "credit_card",
         "2018-07-09"
        ],
        [
         "2018-05-16",
         "2025-02-08T13:10:30Z",
         1,
         26767,
         "Female",
         "Web",
         "Member",
         "Auto & Accessories",
         "Car Mat",
         54,
         1,
         0.3,
         54,
         5.4,
         "High",
         "credit_card",
         "2018-05-16"
        ],
        [
         "2018-06-23",
         "2025-02-08T18:29:09Z",
         7,
         20719,
         "Female",
         "Web",
         "Member",
         "Auto & Accessories",
         "Car Seat Covers",
         114,
         5,
         0.2,
         22.6,
         2.3,
         "Critical",
         "credit_card",
         "2018-06-23"
        ],
        [
         "2018-07-29",
         "2025-02-08T11:55:02Z",
         7,
         46947,
         "Female",
         "Web",
         "Member",
         "Auto & Accessories",
         "Car Pillow & Neck Rest",
         231,
         5,
         0.3,
         116.4,
         11.6,
         "Critical",
         "credit_card",
         "2018-07-29"
        ],
        [
         "2018-05-16",
         "2025-02-08T19:41:10Z",
         10,
         31839,
         "Female",
         "Web",
         "Member",
         "Auto & Accessories",
         "Car Media Players",
         140,
         1,
         0.2,
         54.4,
         5.4,
         "Critical",
         "money_order",
         "2018-05-16"
        ]
       ],
       "datasetInfos": [],
       "dbfsResultPath": null,
       "isJsonSchema": true,
       "metadata": {
        "createTempViewForImplicitDf": true,
        "dataframeName": "_sqldf",
        "executionCount": 94
       },
       "overflow": false,
       "plotOptions": {
        "customPlotOptions": {},
        "displayType": "table",
        "pivotAggregation": null,
        "pivotColumns": null,
        "xColumns": null,
        "yColumns": null
       },
       "removedWidgets": [],
       "schema": [
        {
         "metadata": "{\"__detected_date_formats\":\"yyyy-M-d\"}",
         "name": "Order_Date",
         "type": "\"date\""
        },
        {
         "metadata": "{}",
         "name": "Time",
         "type": "\"timestamp\""
        },
        {
         "metadata": "{}",
         "name": "Aging",
         "type": "\"double\""
        },
        {
         "metadata": "{}",
         "name": "Customer_Id",
         "type": "\"long\""
        },
        {
         "metadata": "{}",
         "name": "Gender",
         "type": "\"string\""
        },
        {
         "metadata": "{}",
         "name": "Device_Type",
         "type": "\"string\""
        },
        {
         "metadata": "{}",
         "name": "Customer_Login_type",
         "type": "\"string\""
        },
        {
         "metadata": "{}",
         "name": "Product_Category",
         "type": "\"string\""
        },
        {
         "metadata": "{}",
         "name": "Product",
         "type": "\"string\""
        },
        {
         "metadata": "{}",
         "name": "Sales",
         "type": "\"double\""
        },
        {
         "metadata": "{}",
         "name": "Quantity",
         "type": "\"double\""
        },
        {
         "metadata": "{}",
         "name": "Discount",
         "type": "\"double\""
        },
        {
         "metadata": "{}",
         "name": "Profit",
         "type": "\"double\""
        },
        {
         "metadata": "{}",
         "name": "Shipping_Cost",
         "type": "\"double\""
        },
        {
         "metadata": "{}",
         "name": "Order_Priority",
         "type": "\"string\""
        },
        {
         "metadata": "{}",
         "name": "Payment_method",
         "type": "\"string\""
        },
        {
         "metadata": "{}",
         "name": "Order_Date_Standardized",
         "type": "\"date\""
        }
       ],
       "type": "table"
      }
     },
     "output_type": "display_data"
    }
   ],
   "source": [
    "%sql\n",
    "SELECT * FROM `hive_metastore`.`default`.`e_commerce_dataset`LIMIT 10;"
   ]
  },
  {
   "cell_type": "code",
   "execution_count": null,
   "metadata": {
    "application/vnd.databricks.v1+cell": {
     "cellMetadata": {
      "byteLimit": 2048000,
      "rowLimit": 10000
     },
     "inputWidgets": {},
     "nuid": "d0bd2d1c-2324-416a-b17a-a12f52e8a3c1",
     "showTitle": false,
     "tableResultSettingsMap": {},
     "title": ""
    }
   },
   "outputs": [],
   "source": [
    "from pyspark.sql.functions import col"
   ]
  },
  {
   "cell_type": "code",
   "execution_count": null,
   "metadata": {
    "application/vnd.databricks.v1+cell": {
     "cellMetadata": {
      "byteLimit": 2048000,
      "rowLimit": 10000
     },
     "inputWidgets": {},
     "nuid": "bdffceaa-410a-44ea-a688-567189796df2",
     "showTitle": false,
     "tableResultSettingsMap": {},
     "title": ""
    }
   },
   "outputs": [
    {
     "data": {
      "text/plain": [
       "DataFrame[Order_Date: date, Time: timestamp, Aging: double, Customer_Id: bigint, Gender: string, Device_Type: string, Customer_Login_type: string, Product_Category: string, Product: string, Sales: double, Quantity: double, Discount: double, Profit: double, Shipping_Cost: double, Order_Priority: string, Payment_method: string, Order_Date_Standardized: date]"
      ]
     },
     "execution_count": 96,
     "metadata": {},
     "output_type": "execute_result"
    }
   ],
   "source": [
    "# Load the data into a DataFrame\n",
    "df = spark.read.table(\"hive_metastore.default.e_commerce_dataset\")\n",
    "df"
   ]
  },
  {
   "cell_type": "code",
   "execution_count": null,
   "metadata": {
    "application/vnd.databricks.v1+cell": {
     "cellMetadata": {
      "byteLimit": 2048000,
      "rowLimit": 10000
     },
     "inputWidgets": {},
     "nuid": "ab1f2f16-cf7a-4ade-a2e6-80e643b35a48",
     "showTitle": false,
     "tableResultSettingsMap": {},
     "title": ""
    }
   },
   "outputs": [
    {
     "data": {
      "text/plain": [
       "\u001b[0;31m---------------------------------------------------------------------------\u001b[0m\n",
       "\u001b[0;31mSparkRuntimeException\u001b[0m                     Traceback (most recent call last)\n",
       "File \u001b[0;32m<command-5934850968746440>, line 5\u001b[0m\n",
       "\u001b[1;32m      2\u001b[0m partition_columns \u001b[38;5;241m=\u001b[39m [\u001b[38;5;124m\"\u001b[39m\u001b[38;5;124mOrder_Date\u001b[39m\u001b[38;5;124m\"\u001b[39m, \u001b[38;5;124m\"\u001b[39m\u001b[38;5;124mProduct_Category\u001b[39m\u001b[38;5;124m\"\u001b[39m]\n",
       "\u001b[1;32m      4\u001b[0m \u001b[38;5;66;03m# Write the partitioned table back to Hive metastore\u001b[39;00m\n",
       "\u001b[0;32m----> 5\u001b[0m df\u001b[38;5;241m.\u001b[39mwrite\u001b[38;5;241m.\u001b[39mmode(\u001b[38;5;124m\"\u001b[39m\u001b[38;5;124moverwrite\u001b[39m\u001b[38;5;124m\"\u001b[39m)\u001b[38;5;241m.\u001b[39mpartitionBy(\u001b[38;5;241m*\u001b[39mpartition_columns)\u001b[38;5;241m.\u001b[39mformat(\u001b[38;5;124m\"\u001b[39m\u001b[38;5;124mparquet\u001b[39m\u001b[38;5;124m\"\u001b[39m)\u001b[38;5;241m.\u001b[39msaveAsTable(\u001b[38;5;124m\"\u001b[39m\u001b[38;5;124mhive_metastore.default.e_commerce_partitioned\u001b[39m\u001b[38;5;124m\"\u001b[39m)\n",
       "\u001b[1;32m      7\u001b[0m \u001b[38;5;28mprint\u001b[39m(\u001b[38;5;124m\"\u001b[39m\u001b[38;5;124mPartitioning completed successfully.\u001b[39m\u001b[38;5;124m\"\u001b[39m)\n",
       "\n",
       "File \u001b[0;32m/databricks/spark/python/pyspark/instrumentation_utils.py:47\u001b[0m, in \u001b[0;36m_wrap_function.<locals>.wrapper\u001b[0;34m(*args, **kwargs)\u001b[0m\n",
       "\u001b[1;32m     45\u001b[0m start \u001b[38;5;241m=\u001b[39m time\u001b[38;5;241m.\u001b[39mperf_counter()\n",
       "\u001b[1;32m     46\u001b[0m \u001b[38;5;28;01mtry\u001b[39;00m:\n",
       "\u001b[0;32m---> 47\u001b[0m     res \u001b[38;5;241m=\u001b[39m func(\u001b[38;5;241m*\u001b[39margs, \u001b[38;5;241m*\u001b[39m\u001b[38;5;241m*\u001b[39mkwargs)\n",
       "\u001b[1;32m     48\u001b[0m     logger\u001b[38;5;241m.\u001b[39mlog_success(\n",
       "\u001b[1;32m     49\u001b[0m         module_name, class_name, function_name, time\u001b[38;5;241m.\u001b[39mperf_counter() \u001b[38;5;241m-\u001b[39m start, signature\n",
       "\u001b[1;32m     50\u001b[0m     )\n",
       "\u001b[1;32m     51\u001b[0m     \u001b[38;5;28;01mreturn\u001b[39;00m res\n",
       "\n",
       "File \u001b[0;32m/databricks/spark/python/pyspark/sql/readwriter.py:1855\u001b[0m, in \u001b[0;36mDataFrameWriter.saveAsTable\u001b[0;34m(self, name, format, mode, partitionBy, **options)\u001b[0m\n",
       "\u001b[1;32m   1853\u001b[0m \u001b[38;5;28;01mif\u001b[39;00m \u001b[38;5;28mformat\u001b[39m \u001b[38;5;129;01mis\u001b[39;00m \u001b[38;5;129;01mnot\u001b[39;00m \u001b[38;5;28;01mNone\u001b[39;00m:\n",
       "\u001b[1;32m   1854\u001b[0m     \u001b[38;5;28mself\u001b[39m\u001b[38;5;241m.\u001b[39mformat(\u001b[38;5;28mformat\u001b[39m)\n",
       "\u001b[0;32m-> 1855\u001b[0m \u001b[38;5;28mself\u001b[39m\u001b[38;5;241m.\u001b[39m_jwrite\u001b[38;5;241m.\u001b[39msaveAsTable(name)\n",
       "\n",
       "File \u001b[0;32m/databricks/spark/python/lib/py4j-0.10.9.7-src.zip/py4j/java_gateway.py:1355\u001b[0m, in \u001b[0;36mJavaMember.__call__\u001b[0;34m(self, *args)\u001b[0m\n",
       "\u001b[1;32m   1349\u001b[0m command \u001b[38;5;241m=\u001b[39m proto\u001b[38;5;241m.\u001b[39mCALL_COMMAND_NAME \u001b[38;5;241m+\u001b[39m\\\n",
       "\u001b[1;32m   1350\u001b[0m     \u001b[38;5;28mself\u001b[39m\u001b[38;5;241m.\u001b[39mcommand_header \u001b[38;5;241m+\u001b[39m\\\n",
       "\u001b[1;32m   1351\u001b[0m     args_command \u001b[38;5;241m+\u001b[39m\\\n",
       "\u001b[1;32m   1352\u001b[0m     proto\u001b[38;5;241m.\u001b[39mEND_COMMAND_PART\n",
       "\u001b[1;32m   1354\u001b[0m answer \u001b[38;5;241m=\u001b[39m \u001b[38;5;28mself\u001b[39m\u001b[38;5;241m.\u001b[39mgateway_client\u001b[38;5;241m.\u001b[39msend_command(command)\n",
       "\u001b[0;32m-> 1355\u001b[0m return_value \u001b[38;5;241m=\u001b[39m get_return_value(\n",
       "\u001b[1;32m   1356\u001b[0m     answer, \u001b[38;5;28mself\u001b[39m\u001b[38;5;241m.\u001b[39mgateway_client, \u001b[38;5;28mself\u001b[39m\u001b[38;5;241m.\u001b[39mtarget_id, \u001b[38;5;28mself\u001b[39m\u001b[38;5;241m.\u001b[39mname)\n",
       "\u001b[1;32m   1358\u001b[0m \u001b[38;5;28;01mfor\u001b[39;00m temp_arg \u001b[38;5;129;01min\u001b[39;00m temp_args:\n",
       "\u001b[1;32m   1359\u001b[0m     \u001b[38;5;28;01mif\u001b[39;00m \u001b[38;5;28mhasattr\u001b[39m(temp_arg, \u001b[38;5;124m\"\u001b[39m\u001b[38;5;124m_detach\u001b[39m\u001b[38;5;124m\"\u001b[39m):\n",
       "\n",
       "File \u001b[0;32m/databricks/spark/python/pyspark/errors/exceptions/captured.py:269\u001b[0m, in \u001b[0;36mcapture_sql_exception.<locals>.deco\u001b[0;34m(*a, **kw)\u001b[0m\n",
       "\u001b[1;32m    265\u001b[0m converted \u001b[38;5;241m=\u001b[39m convert_exception(e\u001b[38;5;241m.\u001b[39mjava_exception)\n",
       "\u001b[1;32m    266\u001b[0m \u001b[38;5;28;01mif\u001b[39;00m \u001b[38;5;129;01mnot\u001b[39;00m \u001b[38;5;28misinstance\u001b[39m(converted, UnknownException):\n",
       "\u001b[1;32m    267\u001b[0m     \u001b[38;5;66;03m# Hide where the exception came from that shows a non-Pythonic\u001b[39;00m\n",
       "\u001b[1;32m    268\u001b[0m     \u001b[38;5;66;03m# JVM exception message.\u001b[39;00m\n",
       "\u001b[0;32m--> 269\u001b[0m     \u001b[38;5;28;01mraise\u001b[39;00m converted \u001b[38;5;28;01mfrom\u001b[39;00m \u001b[38;5;28;01mNone\u001b[39;00m\n",
       "\u001b[1;32m    270\u001b[0m \u001b[38;5;28;01melse\u001b[39;00m:\n",
       "\u001b[1;32m    271\u001b[0m     \u001b[38;5;28;01mraise\u001b[39;00m\n",
       "\n",
       "\u001b[0;31mSparkRuntimeException\u001b[0m: [LOCATION_ALREADY_EXISTS] Cannot name the managed table as `hive_metastore`.`default`.`e_commerce_partitioned`, as its associated location 'dbfs:/user/hive/warehouse/e_commerce_partitioned' already exists. Please pick a different table name, or remove the existing location first. SQLSTATE: 42710"
      ]
     },
     "metadata": {
      "application/vnd.databricks.v1+output": {
       "addedWidgets": {},
       "arguments": {},
       "datasetInfos": [],
       "jupyterProps": {
        "ename": "SparkRuntimeException",
        "evalue": "[LOCATION_ALREADY_EXISTS] Cannot name the managed table as `hive_metastore`.`default`.`e_commerce_partitioned`, as its associated location 'dbfs:/user/hive/warehouse/e_commerce_partitioned' already exists. Please pick a different table name, or remove the existing location first. SQLSTATE: 42710"
       },
       "metadata": {
        "errorSummary": "[LOCATION_ALREADY_EXISTS] Cannot name the managed table as `hive_metastore`.`default`.`e_commerce_partitioned`, as its associated location 'dbfs:/user/hive/warehouse/e_commerce_partitioned' already exists. Please pick a different table name, or remove the existing location first. SQLSTATE: 42710"
       },
       "removedWidgets": [],
       "sqlProps": {
        "errorClass": "LOCATION_ALREADY_EXISTS",
        "pysparkCallSite": "",
        "pysparkFragment": "",
        "sqlState": "42710",
        "stackTrace": null,
        "startIndex": null,
        "stopIndex": null
       },
       "stackFrames": [
        "\u001b[0;31m---------------------------------------------------------------------------\u001b[0m",
        "\u001b[0;31mSparkRuntimeException\u001b[0m                     Traceback (most recent call last)",
        "File \u001b[0;32m<command-5934850968746440>, line 5\u001b[0m\n\u001b[1;32m      2\u001b[0m partition_columns \u001b[38;5;241m=\u001b[39m [\u001b[38;5;124m\"\u001b[39m\u001b[38;5;124mOrder_Date\u001b[39m\u001b[38;5;124m\"\u001b[39m, \u001b[38;5;124m\"\u001b[39m\u001b[38;5;124mProduct_Category\u001b[39m\u001b[38;5;124m\"\u001b[39m]\n\u001b[1;32m      4\u001b[0m \u001b[38;5;66;03m# Write the partitioned table back to Hive metastore\u001b[39;00m\n\u001b[0;32m----> 5\u001b[0m df\u001b[38;5;241m.\u001b[39mwrite\u001b[38;5;241m.\u001b[39mmode(\u001b[38;5;124m\"\u001b[39m\u001b[38;5;124moverwrite\u001b[39m\u001b[38;5;124m\"\u001b[39m)\u001b[38;5;241m.\u001b[39mpartitionBy(\u001b[38;5;241m*\u001b[39mpartition_columns)\u001b[38;5;241m.\u001b[39mformat(\u001b[38;5;124m\"\u001b[39m\u001b[38;5;124mparquet\u001b[39m\u001b[38;5;124m\"\u001b[39m)\u001b[38;5;241m.\u001b[39msaveAsTable(\u001b[38;5;124m\"\u001b[39m\u001b[38;5;124mhive_metastore.default.e_commerce_partitioned\u001b[39m\u001b[38;5;124m\"\u001b[39m)\n\u001b[1;32m      7\u001b[0m \u001b[38;5;28mprint\u001b[39m(\u001b[38;5;124m\"\u001b[39m\u001b[38;5;124mPartitioning completed successfully.\u001b[39m\u001b[38;5;124m\"\u001b[39m)\n",
        "File \u001b[0;32m/databricks/spark/python/pyspark/instrumentation_utils.py:47\u001b[0m, in \u001b[0;36m_wrap_function.<locals>.wrapper\u001b[0;34m(*args, **kwargs)\u001b[0m\n\u001b[1;32m     45\u001b[0m start \u001b[38;5;241m=\u001b[39m time\u001b[38;5;241m.\u001b[39mperf_counter()\n\u001b[1;32m     46\u001b[0m \u001b[38;5;28;01mtry\u001b[39;00m:\n\u001b[0;32m---> 47\u001b[0m     res \u001b[38;5;241m=\u001b[39m func(\u001b[38;5;241m*\u001b[39margs, \u001b[38;5;241m*\u001b[39m\u001b[38;5;241m*\u001b[39mkwargs)\n\u001b[1;32m     48\u001b[0m     logger\u001b[38;5;241m.\u001b[39mlog_success(\n\u001b[1;32m     49\u001b[0m         module_name, class_name, function_name, time\u001b[38;5;241m.\u001b[39mperf_counter() \u001b[38;5;241m-\u001b[39m start, signature\n\u001b[1;32m     50\u001b[0m     )\n\u001b[1;32m     51\u001b[0m     \u001b[38;5;28;01mreturn\u001b[39;00m res\n",
        "File \u001b[0;32m/databricks/spark/python/pyspark/sql/readwriter.py:1855\u001b[0m, in \u001b[0;36mDataFrameWriter.saveAsTable\u001b[0;34m(self, name, format, mode, partitionBy, **options)\u001b[0m\n\u001b[1;32m   1853\u001b[0m \u001b[38;5;28;01mif\u001b[39;00m \u001b[38;5;28mformat\u001b[39m \u001b[38;5;129;01mis\u001b[39;00m \u001b[38;5;129;01mnot\u001b[39;00m \u001b[38;5;28;01mNone\u001b[39;00m:\n\u001b[1;32m   1854\u001b[0m     \u001b[38;5;28mself\u001b[39m\u001b[38;5;241m.\u001b[39mformat(\u001b[38;5;28mformat\u001b[39m)\n\u001b[0;32m-> 1855\u001b[0m \u001b[38;5;28mself\u001b[39m\u001b[38;5;241m.\u001b[39m_jwrite\u001b[38;5;241m.\u001b[39msaveAsTable(name)\n",
        "File \u001b[0;32m/databricks/spark/python/lib/py4j-0.10.9.7-src.zip/py4j/java_gateway.py:1355\u001b[0m, in \u001b[0;36mJavaMember.__call__\u001b[0;34m(self, *args)\u001b[0m\n\u001b[1;32m   1349\u001b[0m command \u001b[38;5;241m=\u001b[39m proto\u001b[38;5;241m.\u001b[39mCALL_COMMAND_NAME \u001b[38;5;241m+\u001b[39m\\\n\u001b[1;32m   1350\u001b[0m     \u001b[38;5;28mself\u001b[39m\u001b[38;5;241m.\u001b[39mcommand_header \u001b[38;5;241m+\u001b[39m\\\n\u001b[1;32m   1351\u001b[0m     args_command \u001b[38;5;241m+\u001b[39m\\\n\u001b[1;32m   1352\u001b[0m     proto\u001b[38;5;241m.\u001b[39mEND_COMMAND_PART\n\u001b[1;32m   1354\u001b[0m answer \u001b[38;5;241m=\u001b[39m \u001b[38;5;28mself\u001b[39m\u001b[38;5;241m.\u001b[39mgateway_client\u001b[38;5;241m.\u001b[39msend_command(command)\n\u001b[0;32m-> 1355\u001b[0m return_value \u001b[38;5;241m=\u001b[39m get_return_value(\n\u001b[1;32m   1356\u001b[0m     answer, \u001b[38;5;28mself\u001b[39m\u001b[38;5;241m.\u001b[39mgateway_client, \u001b[38;5;28mself\u001b[39m\u001b[38;5;241m.\u001b[39mtarget_id, \u001b[38;5;28mself\u001b[39m\u001b[38;5;241m.\u001b[39mname)\n\u001b[1;32m   1358\u001b[0m \u001b[38;5;28;01mfor\u001b[39;00m temp_arg \u001b[38;5;129;01min\u001b[39;00m temp_args:\n\u001b[1;32m   1359\u001b[0m     \u001b[38;5;28;01mif\u001b[39;00m \u001b[38;5;28mhasattr\u001b[39m(temp_arg, \u001b[38;5;124m\"\u001b[39m\u001b[38;5;124m_detach\u001b[39m\u001b[38;5;124m\"\u001b[39m):\n",
        "File \u001b[0;32m/databricks/spark/python/pyspark/errors/exceptions/captured.py:269\u001b[0m, in \u001b[0;36mcapture_sql_exception.<locals>.deco\u001b[0;34m(*a, **kw)\u001b[0m\n\u001b[1;32m    265\u001b[0m converted \u001b[38;5;241m=\u001b[39m convert_exception(e\u001b[38;5;241m.\u001b[39mjava_exception)\n\u001b[1;32m    266\u001b[0m \u001b[38;5;28;01mif\u001b[39;00m \u001b[38;5;129;01mnot\u001b[39;00m \u001b[38;5;28misinstance\u001b[39m(converted, UnknownException):\n\u001b[1;32m    267\u001b[0m     \u001b[38;5;66;03m# Hide where the exception came from that shows a non-Pythonic\u001b[39;00m\n\u001b[1;32m    268\u001b[0m     \u001b[38;5;66;03m# JVM exception message.\u001b[39;00m\n\u001b[0;32m--> 269\u001b[0m     \u001b[38;5;28;01mraise\u001b[39;00m converted \u001b[38;5;28;01mfrom\u001b[39;00m \u001b[38;5;28;01mNone\u001b[39;00m\n\u001b[1;32m    270\u001b[0m \u001b[38;5;28;01melse\u001b[39;00m:\n\u001b[1;32m    271\u001b[0m     \u001b[38;5;28;01mraise\u001b[39;00m\n",
        "\u001b[0;31mSparkRuntimeException\u001b[0m: [LOCATION_ALREADY_EXISTS] Cannot name the managed table as `hive_metastore`.`default`.`e_commerce_partitioned`, as its associated location 'dbfs:/user/hive/warehouse/e_commerce_partitioned' already exists. Please pick a different table name, or remove the existing location first. SQLSTATE: 42710"
       ],
       "type": "baseError"
      }
     },
     "output_type": "display_data"
    }
   ],
   "source": [
    "# Define partition columns\n",
    "partition_columns = [\"Order_Date\", \"Product_Category\"]\n",
    "\n",
    "# Write the partitioned table back to Hive metastore\n",
    "df.write.mode(\"overwrite\").partitionBy(*partition_columns).format(\"parquet\").saveAsTable(\"hive_metastore.default.e_commerce_partitioned\")\n",
    "\n",
    "print(\"Partitioning completed successfully.\")"
   ]
  },
  {
   "cell_type": "code",
   "execution_count": null,
   "metadata": {
    "application/vnd.databricks.v1+cell": {
     "cellMetadata": {
      "byteLimit": 2048000,
      "rowLimit": 10000
     },
     "inputWidgets": {},
     "nuid": "516d5c71-e17b-49ac-b92e-b8ef66b3607f",
     "showTitle": false,
     "tableResultSettingsMap": {},
     "title": ""
    }
   },
   "outputs": [
    {
     "name": "stdout",
     "output_type": "stream",
     "text": [
      "root\n",
      " |-- Order_Date: date (nullable = true)\n",
      " |-- Time: timestamp (nullable = true)\n",
      " |-- Aging: double (nullable = true)\n",
      " |-- Customer_Id: long (nullable = true)\n",
      " |-- Gender: string (nullable = true)\n",
      " |-- Device_Type: string (nullable = true)\n",
      " |-- Customer_Login_type: string (nullable = true)\n",
      " |-- Product_Category: string (nullable = true)\n",
      " |-- Product: string (nullable = true)\n",
      " |-- Sales: double (nullable = true)\n",
      " |-- Quantity: double (nullable = true)\n",
      " |-- Discount: double (nullable = true)\n",
      " |-- Profit: double (nullable = true)\n",
      " |-- Shipping_Cost: double (nullable = true)\n",
      " |-- Order_Priority: string (nullable = true)\n",
      " |-- Payment_method: string (nullable = true)\n",
      " |-- Order_Date_Standardized: date (nullable = true)\n",
      "\n"
     ]
    }
   ],
   "source": [
    "# Display the schema of the partitioned table\n",
    "df.printSchema()"
   ]
  },
  {
   "cell_type": "code",
   "execution_count": null,
   "metadata": {
    "application/vnd.databricks.v1+cell": {
     "cellMetadata": {
      "byteLimit": 2048000,
      "implicitDf": true,
      "rowLimit": 10000
     },
     "inputWidgets": {},
     "nuid": "ee53e22e-ba88-4c63-85c8-678df8edf438",
     "showTitle": false,
     "tableResultSettingsMap": {},
     "title": ""
    }
   },
   "outputs": [
    {
     "data": {
      "text/html": [
       "<style scoped>\n",
       "  .table-result-container {\n",
       "    max-height: 300px;\n",
       "    overflow: auto;\n",
       "  }\n",
       "  table, th, td {\n",
       "    border: 1px solid black;\n",
       "    border-collapse: collapse;\n",
       "  }\n",
       "  th, td {\n",
       "    padding: 5px;\n",
       "  }\n",
       "  th {\n",
       "    text-align: left;\n",
       "  }\n",
       "</style><div class='table-result-container'><table class='table-result'><thead style='background-color: white'><tr><th>col_name</th><th>data_type</th><th>comment</th></tr></thead><tbody><tr><td>Order_Date</td><td>date</td><td>null</td></tr><tr><td>Time</td><td>timestamp</td><td>null</td></tr><tr><td>Aging</td><td>double</td><td>null</td></tr><tr><td>Customer_Id</td><td>bigint</td><td>null</td></tr><tr><td>Gender</td><td>string</td><td>null</td></tr><tr><td>Device_Type</td><td>string</td><td>null</td></tr><tr><td>Customer_Login_type</td><td>string</td><td>null</td></tr><tr><td>Product_Category</td><td>string</td><td>null</td></tr><tr><td>Product</td><td>string</td><td>null</td></tr><tr><td>Sales</td><td>double</td><td>null</td></tr><tr><td>Quantity</td><td>double</td><td>null</td></tr><tr><td>Discount</td><td>double</td><td>null</td></tr><tr><td>Profit</td><td>double</td><td>null</td></tr><tr><td>Shipping_Cost</td><td>double</td><td>null</td></tr><tr><td>Order_Priority</td><td>string</td><td>null</td></tr><tr><td>Payment_method</td><td>string</td><td>null</td></tr><tr><td>Order_Date_Standardized</td><td>date</td><td>null</td></tr><tr><td></td><td></td><td></td></tr><tr><td># Delta Statistics Columns</td><td></td><td></td></tr><tr><td>Column Names</td><td>Quantity, Aging, Sales, Order_Date_Standardized, Discount, Customer_Login_type, Profit, Shipping_Cost, Device_Type, Order_Priority, Payment_method, Product_Category, Product, Gender, Order_Date, Time, Customer_Id</td><td></td></tr><tr><td>Column Selection Method</td><td>first-32</td><td></td></tr><tr><td></td><td></td><td></td></tr><tr><td># Detailed Table Information</td><td></td><td></td></tr><tr><td>Catalog</td><td>hive_metastore</td><td></td></tr><tr><td>Database</td><td>default</td><td></td></tr><tr><td>Table</td><td>e_commerce_dataset</td><td></td></tr><tr><td>Created Time</td><td>Sat Feb 08 16:55:22 UTC 2025</td><td></td></tr><tr><td>Last Access</td><td>UNKNOWN</td><td></td></tr><tr><td>Created By</td><td>Spark 3.5.0</td><td></td></tr><tr><td>Statistics</td><td>854504 bytes</td><td></td></tr><tr><td>Type</td><td>MANAGED</td><td></td></tr><tr><td>Comment</td><td>Created by the file upload UI</td><td></td></tr><tr><td>Location</td><td>dbfs:/user/hive/warehouse/e_commerce_dataset</td><td></td></tr><tr><td>Provider</td><td>delta</td><td></td></tr><tr><td>Owner</td><td>(Unknown)chowdarysujan27</td><td></td></tr><tr><td>Is_managed_location</td><td>true</td><td></td></tr><tr><td>Table Properties</td><td>[delta.checkpoint.writeStatsAsJson=false,delta.checkpoint.writeStatsAsStruct=true,delta.enableDeletionVectors=true,delta.feature.deletionVectors=supported,delta.minReaderVersion=3,delta.minWriterVersion=7]</td><td></td></tr></tbody></table></div>"
      ]
     },
     "metadata": {
      "application/vnd.databricks.v1+output": {
       "addedWidgets": {},
       "aggData": [],
       "aggError": "",
       "aggOverflow": false,
       "aggSchema": [],
       "aggSeriesLimitReached": false,
       "aggType": "",
       "arguments": {},
       "columnCustomDisplayInfos": {},
       "data": [
        [
         "Order_Date",
         "date",
         null
        ],
        [
         "Time",
         "timestamp",
         null
        ],
        [
         "Aging",
         "double",
         null
        ],
        [
         "Customer_Id",
         "bigint",
         null
        ],
        [
         "Gender",
         "string",
         null
        ],
        [
         "Device_Type",
         "string",
         null
        ],
        [
         "Customer_Login_type",
         "string",
         null
        ],
        [
         "Product_Category",
         "string",
         null
        ],
        [
         "Product",
         "string",
         null
        ],
        [
         "Sales",
         "double",
         null
        ],
        [
         "Quantity",
         "double",
         null
        ],
        [
         "Discount",
         "double",
         null
        ],
        [
         "Profit",
         "double",
         null
        ],
        [
         "Shipping_Cost",
         "double",
         null
        ],
        [
         "Order_Priority",
         "string",
         null
        ],
        [
         "Payment_method",
         "string",
         null
        ],
        [
         "Order_Date_Standardized",
         "date",
         null
        ],
        [
         "",
         "",
         ""
        ],
        [
         "# Delta Statistics Columns",
         "",
         ""
        ],
        [
         "Column Names",
         "Quantity, Aging, Sales, Order_Date_Standardized, Discount, Customer_Login_type, Profit, Shipping_Cost, Device_Type, Order_Priority, Payment_method, Product_Category, Product, Gender, Order_Date, Time, Customer_Id",
         ""
        ],
        [
         "Column Selection Method",
         "first-32",
         ""
        ],
        [
         "",
         "",
         ""
        ],
        [
         "# Detailed Table Information",
         "",
         ""
        ],
        [
         "Catalog",
         "hive_metastore",
         ""
        ],
        [
         "Database",
         "default",
         ""
        ],
        [
         "Table",
         "e_commerce_dataset",
         ""
        ],
        [
         "Created Time",
         "Sat Feb 08 16:55:22 UTC 2025",
         ""
        ],
        [
         "Last Access",
         "UNKNOWN",
         ""
        ],
        [
         "Created By",
         "Spark 3.5.0",
         ""
        ],
        [
         "Statistics",
         "854504 bytes",
         ""
        ],
        [
         "Type",
         "MANAGED",
         ""
        ],
        [
         "Comment",
         "Created by the file upload UI",
         ""
        ],
        [
         "Location",
         "dbfs:/user/hive/warehouse/e_commerce_dataset",
         ""
        ],
        [
         "Provider",
         "delta",
         ""
        ],
        [
         "Owner",
         "(Unknown)chowdarysujan27",
         ""
        ],
        [
         "Is_managed_location",
         "true",
         ""
        ],
        [
         "Table Properties",
         "[delta.checkpoint.writeStatsAsJson=false,delta.checkpoint.writeStatsAsStruct=true,delta.enableDeletionVectors=true,delta.feature.deletionVectors=supported,delta.minReaderVersion=3,delta.minWriterVersion=7]",
         ""
        ]
       ],
       "datasetInfos": [],
       "dbfsResultPath": null,
       "isJsonSchema": true,
       "metadata": {
        "createTempViewForImplicitDf": true,
        "dataframeName": "_sqldf",
        "executionCount": 100
       },
       "overflow": false,
       "plotOptions": {
        "customPlotOptions": {},
        "displayType": "table",
        "pivotAggregation": null,
        "pivotColumns": null,
        "xColumns": null,
        "yColumns": null
       },
       "removedWidgets": [],
       "schema": [
        {
         "metadata": "{\"comment\":\"name of the column\"}",
         "name": "col_name",
         "type": "\"string\""
        },
        {
         "metadata": "{\"comment\":\"data type of the column\"}",
         "name": "data_type",
         "type": "\"string\""
        },
        {
         "metadata": "{\"comment\":\"comment of the column\"}",
         "name": "comment",
         "type": "\"string\""
        }
       ],
       "type": "table"
      }
     },
     "output_type": "display_data"
    }
   ],
   "source": [
    "%sql\n",
    "DESCRIBE FORMATTED `hive_metastore`.`default`.`e_commerce_dataset`;"
   ]
  },
  {
   "cell_type": "code",
   "execution_count": null,
   "metadata": {
    "application/vnd.databricks.v1+cell": {
     "cellMetadata": {
      "byteLimit": 2048000,
      "implicitDf": true,
      "rowLimit": 10000
     },
     "inputWidgets": {},
     "nuid": "794bf146-413a-4cf4-ac47-310f39ba1ff9",
     "showTitle": false,
     "tableResultSettingsMap": {},
     "title": ""
    }
   },
   "outputs": [
    {
     "data": {
      "text/html": [
       "<style scoped>\n",
       "  .table-result-container {\n",
       "    max-height: 300px;\n",
       "    overflow: auto;\n",
       "  }\n",
       "  table, th, td {\n",
       "    border: 1px solid black;\n",
       "    border-collapse: collapse;\n",
       "  }\n",
       "  th, td {\n",
       "    padding: 5px;\n",
       "  }\n",
       "  th {\n",
       "    text-align: left;\n",
       "  }\n",
       "</style><div class='table-result-container'><table class='table-result'><thead style='background-color: white'><tr><th>total_records</th></tr></thead><tbody><tr><td>51290</td></tr></tbody></table></div>"
      ]
     },
     "metadata": {
      "application/vnd.databricks.v1+output": {
       "addedWidgets": {},
       "aggData": [],
       "aggError": "",
       "aggOverflow": false,
       "aggSchema": [],
       "aggSeriesLimitReached": false,
       "aggType": "",
       "arguments": {},
       "columnCustomDisplayInfos": {},
       "data": [
        [
         51290
        ]
       ],
       "datasetInfos": [],
       "dbfsResultPath": null,
       "isJsonSchema": true,
       "metadata": {
        "createTempViewForImplicitDf": true,
        "dataframeName": "_sqldf",
        "executionCount": 101
       },
       "overflow": false,
       "plotOptions": {
        "customPlotOptions": {},
        "displayType": "table",
        "pivotAggregation": null,
        "pivotColumns": null,
        "xColumns": null,
        "yColumns": null
       },
       "removedWidgets": [],
       "schema": [
        {
         "metadata": "{}",
         "name": "total_records",
         "type": "\"long\""
        }
       ],
       "type": "table"
      }
     },
     "output_type": "display_data"
    }
   ],
   "source": [
    "%sql\n",
    "SELECT COUNT(*) AS total_records FROM `hive_metastore`.`default`.`e_commerce_dataset`;"
   ]
  },
  {
   "cell_type": "code",
   "execution_count": null,
   "metadata": {
    "application/vnd.databricks.v1+cell": {
     "cellMetadata": {
      "byteLimit": 2048000,
      "implicitDf": true,
      "rowLimit": 10000
     },
     "inputWidgets": {},
     "nuid": "0e25acb8-4449-4afb-bb4f-993049ed1e78",
     "showTitle": false,
     "tableResultSettingsMap": {},
     "title": ""
    }
   },
   "outputs": [
    {
     "data": {
      "text/html": [
       "<style scoped>\n",
       "  .table-result-container {\n",
       "    max-height: 300px;\n",
       "    overflow: auto;\n",
       "  }\n",
       "  table, th, td {\n",
       "    border: 1px solid black;\n",
       "    border-collapse: collapse;\n",
       "  }\n",
       "  th, td {\n",
       "    padding: 5px;\n",
       "  }\n",
       "  th {\n",
       "    text-align: left;\n",
       "  }\n",
       "</style><div class='table-result-container'><table class='table-result'><thead style='background-color: white'><tr><th>total_records</th><th>missing_Order_Date</th><th>missing_Customer_id</th><th>missing_Gender</th><th>missing_Product_Category</th></tr></thead><tbody><tr><td>51290</td><td>0</td><td>0</td><td>0</td><td>0</td></tr></tbody></table></div>"
      ]
     },
     "metadata": {
      "application/vnd.databricks.v1+output": {
       "addedWidgets": {},
       "aggData": [],
       "aggError": "",
       "aggOverflow": false,
       "aggSchema": [],
       "aggSeriesLimitReached": false,
       "aggType": "",
       "arguments": {},
       "columnCustomDisplayInfos": {},
       "data": [
        [
         51290,
         0,
         0,
         0,
         0
        ]
       ],
       "datasetInfos": [],
       "dbfsResultPath": null,
       "isJsonSchema": true,
       "metadata": {
        "createTempViewForImplicitDf": true,
        "dataframeName": "_sqldf",
        "executionCount": 102
       },
       "overflow": false,
       "plotOptions": {
        "customPlotOptions": {},
        "displayType": "table",
        "pivotAggregation": null,
        "pivotColumns": null,
        "xColumns": null,
        "yColumns": null
       },
       "removedWidgets": [],
       "schema": [
        {
         "metadata": "{}",
         "name": "total_records",
         "type": "\"long\""
        },
        {
         "metadata": "{}",
         "name": "missing_Order_Date",
         "type": "\"long\""
        },
        {
         "metadata": "{}",
         "name": "missing_Customer_id",
         "type": "\"long\""
        },
        {
         "metadata": "{}",
         "name": "missing_Gender",
         "type": "\"long\""
        },
        {
         "metadata": "{}",
         "name": "missing_Product_Category",
         "type": "\"long\""
        }
       ],
       "type": "table"
      }
     },
     "output_type": "display_data"
    }
   ],
   "source": [
    "%sql\n",
    "SELECT \n",
    "    COUNT(*) AS total_records,\n",
    "    SUM(CASE WHEN Order_Date IS NULL THEN 1 ELSE 0 END) AS missing_Order_Date,\n",
    "    SUM(CASE WHEN Customer_id IS NULL THEN 1 ELSE 0 END) AS missing_Customer_id,\n",
    "    SUM(CASE WHEN Gender IS NULL THEN 1 ELSE 0 END) AS missing_Gender,\n",
    "    SUM(CASE WHEN Product_Category IS NULL THEN 1 ELSE 0 END) AS missing_Product_Category\n",
    "FROM `hive_metastore`.`default`.`e_commerce_dataset`;"
   ]
  },
  {
   "cell_type": "code",
   "execution_count": null,
   "metadata": {
    "application/vnd.databricks.v1+cell": {
     "cellMetadata": {
      "byteLimit": 2048000,
      "implicitDf": true,
      "rowLimit": 10000
     },
     "inputWidgets": {},
     "nuid": "f9d380f6-2cc7-4e6e-8f7a-d5b6cfdd0457",
     "showTitle": false,
     "tableResultSettingsMap": {},
     "title": ""
    }
   },
   "outputs": [
    {
     "data": {
      "text/html": [
       "<style scoped>\n",
       "  .table-result-container {\n",
       "    max-height: 300px;\n",
       "    overflow: auto;\n",
       "  }\n",
       "  table, th, td {\n",
       "    border: 1px solid black;\n",
       "    border-collapse: collapse;\n",
       "  }\n",
       "  th, td {\n",
       "    padding: 5px;\n",
       "  }\n",
       "  th {\n",
       "    text-align: left;\n",
       "  }\n",
       "</style><div class='table-result-container'><table class='table-result'><thead style='background-color: white'><tr><th>min_sales</th><th>max_sales</th><th>avg_sales</th><th>min_profit</th><th>max_profit</th><th>avg_profit</th></tr></thead><tbody><tr><td>33.0</td><td>250.0</td><td>152.34087231180175</td><td>0.5</td><td>167.5</td><td>70.40722558003488</td></tr></tbody></table></div>"
      ]
     },
     "metadata": {
      "application/vnd.databricks.v1+output": {
       "addedWidgets": {},
       "aggData": [],
       "aggError": "",
       "aggOverflow": false,
       "aggSchema": [],
       "aggSeriesLimitReached": false,
       "aggType": "",
       "arguments": {},
       "columnCustomDisplayInfos": {},
       "data": [
        [
         33,
         250,
         152.34087231180175,
         0.5,
         167.5,
         70.40722558003488
        ]
       ],
       "datasetInfos": [],
       "dbfsResultPath": null,
       "isJsonSchema": true,
       "metadata": {
        "createTempViewForImplicitDf": true,
        "dataframeName": "_sqldf",
        "executionCount": 103
       },
       "overflow": false,
       "plotOptions": {
        "customPlotOptions": {},
        "displayType": "table",
        "pivotAggregation": null,
        "pivotColumns": null,
        "xColumns": null,
        "yColumns": null
       },
       "removedWidgets": [],
       "schema": [
        {
         "metadata": "{}",
         "name": "min_sales",
         "type": "\"double\""
        },
        {
         "metadata": "{}",
         "name": "max_sales",
         "type": "\"double\""
        },
        {
         "metadata": "{}",
         "name": "avg_sales",
         "type": "\"double\""
        },
        {
         "metadata": "{}",
         "name": "min_profit",
         "type": "\"double\""
        },
        {
         "metadata": "{}",
         "name": "max_profit",
         "type": "\"double\""
        },
        {
         "metadata": "{}",
         "name": "avg_profit",
         "type": "\"double\""
        }
       ],
       "type": "table"
      }
     },
     "output_type": "display_data"
    }
   ],
   "source": [
    "%sql\n",
    "SELECT \n",
    "    MIN(Sales) AS min_sales, \n",
    "    MAX(Sales) AS max_sales, \n",
    "    AVG(Sales) AS avg_sales, \n",
    "    MIN(Profit) AS min_profit, \n",
    "    MAX(Profit) AS max_profit, \n",
    "    AVG(Profit) AS avg_profit\n",
    "FROM `hive_metastore`.`default`.`e_commerce_dataset`;"
   ]
  },
  {
   "cell_type": "code",
   "execution_count": null,
   "metadata": {
    "application/vnd.databricks.v1+cell": {
     "cellMetadata": {
      "byteLimit": 2048000,
      "implicitDf": true,
      "rowLimit": 10000
     },
     "inputWidgets": {},
     "nuid": "df4998f9-477d-4c23-ad22-10516eb1cfff",
     "showTitle": false,
     "tableResultSettingsMap": {},
     "title": ""
    }
   },
   "outputs": [
    {
     "data": {
      "text/html": [
       "<style scoped>\n",
       "  .table-result-container {\n",
       "    max-height: 300px;\n",
       "    overflow: auto;\n",
       "  }\n",
       "  table, th, td {\n",
       "    border: 1px solid black;\n",
       "    border-collapse: collapse;\n",
       "  }\n",
       "  th, td {\n",
       "    padding: 5px;\n",
       "  }\n",
       "  th {\n",
       "    text-align: left;\n",
       "  }\n",
       "</style><div class='table-result-container'><table class='table-result'><thead style='background-color: white'><tr><th>Device_Type</th><th>order_count</th></tr></thead><tbody><tr><td>Web</td><td>47632</td></tr><tr><td>Mobile</td><td>3658</td></tr></tbody></table></div>"
      ]
     },
     "metadata": {
      "application/vnd.databricks.v1+output": {
       "addedWidgets": {},
       "aggData": [],
       "aggError": "",
       "aggOverflow": false,
       "aggSchema": [],
       "aggSeriesLimitReached": false,
       "aggType": "",
       "arguments": {},
       "columnCustomDisplayInfos": {},
       "data": [
        [
         "Web",
         47632
        ],
        [
         "Mobile",
         3658
        ]
       ],
       "datasetInfos": [],
       "dbfsResultPath": null,
       "isJsonSchema": true,
       "metadata": {
        "createTempViewForImplicitDf": true,
        "dataframeName": "_sqldf",
        "executionCount": 104
       },
       "overflow": false,
       "plotOptions": {
        "customPlotOptions": {},
        "displayType": "table",
        "pivotAggregation": null,
        "pivotColumns": null,
        "xColumns": null,
        "yColumns": null
       },
       "removedWidgets": [],
       "schema": [
        {
         "metadata": "{}",
         "name": "Device_Type",
         "type": "\"string\""
        },
        {
         "metadata": "{}",
         "name": "order_count",
         "type": "\"long\""
        }
       ],
       "type": "table"
      }
     },
     "output_type": "display_data"
    }
   ],
   "source": [
    "%sql\n",
    "SELECT Device_Type, COUNT(*) AS order_count \n",
    "FROM `hive_metastore`.`default`.`e_commerce_dataset`\n",
    "GROUP BY Device_Type\n",
    "ORDER BY order_count DESC;"
   ]
  },
  {
   "cell_type": "code",
   "execution_count": null,
   "metadata": {
    "application/vnd.databricks.v1+cell": {
     "cellMetadata": {
      "byteLimit": 2048000,
      "implicitDf": true,
      "rowLimit": 10000
     },
     "inputWidgets": {},
     "nuid": "cbb3ec1f-5593-453c-8501-3619a7975d27",
     "showTitle": false,
     "tableResultSettingsMap": {},
     "title": ""
    }
   },
   "outputs": [
    {
     "data": {
      "text/html": [
       "<style scoped>\n",
       "  .table-result-container {\n",
       "    max-height: 300px;\n",
       "    overflow: auto;\n",
       "  }\n",
       "  table, th, td {\n",
       "    border: 1px solid black;\n",
       "    border-collapse: collapse;\n",
       "  }\n",
       "  th, td {\n",
       "    padding: 5px;\n",
       "  }\n",
       "  th {\n",
       "    text-align: left;\n",
       "  }\n",
       "</style><div class='table-result-container'><table class='table-result'><thead style='background-color: white'><tr><th>Product_Category</th><th>total_quantity_sold</th></tr></thead><tbody><tr><td>Fashion</td><td>66639.0</td></tr><tr><td>Home & Furniture</td><td>38190.0</td></tr><tr><td>Auto & Accessories</td><td>17593.0</td></tr><tr><td>Electronic</td><td>5951.0</td></tr></tbody></table></div>"
      ]
     },
     "metadata": {
      "application/vnd.databricks.v1+output": {
       "addedWidgets": {},
       "aggData": [],
       "aggError": "",
       "aggOverflow": false,
       "aggSchema": [],
       "aggSeriesLimitReached": false,
       "aggType": "",
       "arguments": {},
       "columnCustomDisplayInfos": {},
       "data": [
        [
         "Fashion",
         66639
        ],
        [
         "Home & Furniture",
         38190
        ],
        [
         "Auto & Accessories",
         17593
        ],
        [
         "Electronic",
         5951
        ]
       ],
       "datasetInfos": [],
       "dbfsResultPath": null,
       "isJsonSchema": true,
       "metadata": {
        "createTempViewForImplicitDf": true,
        "dataframeName": "_sqldf",
        "executionCount": 12
       },
       "overflow": false,
       "plotOptions": {
        "customPlotOptions": {},
        "displayType": "table",
        "pivotAggregation": null,
        "pivotColumns": null,
        "xColumns": null,
        "yColumns": null
       },
       "removedWidgets": [],
       "schema": [
        {
         "metadata": "{}",
         "name": "Product_Category",
         "type": "\"string\""
        },
        {
         "metadata": "{}",
         "name": "total_quantity_sold",
         "type": "\"double\""
        }
       ],
       "type": "table"
      }
     },
     "output_type": "display_data"
    }
   ],
   "source": [
    "%sql\n",
    "SELECT Product_Category, SUM(Quantity) AS total_quantity_sold \n",
    "FROM `hive_metastore`.`default`.`e_commerce_dataset`\n",
    "GROUP BY Product_Category\n",
    "ORDER BY total_quantity_sold DESC\n",
    "LIMIT 5;"
   ]
  },
  {
   "cell_type": "code",
   "execution_count": null,
   "metadata": {
    "application/vnd.databricks.v1+cell": {
     "cellMetadata": {
      "byteLimit": 2048000,
      "implicitDf": true,
      "rowLimit": 10000
     },
     "inputWidgets": {},
     "nuid": "df03b3d7-1b0c-4edb-bd0a-35c332838549",
     "showTitle": false,
     "tableResultSettingsMap": {},
     "title": ""
    }
   },
   "outputs": [],
   "source": [
    "%sql\n",
    "SELECT Order_Date, SUM(Sales) AS total_sales\n",
    "FROM `hive_metastore`.`default`.`e_commerce_dataset`\n",
    "GROUP BY Order_Date\n",
    "ORDER BY Order_Date ASC;"
   ]
  },
  {
   "cell_type": "code",
   "execution_count": null,
   "metadata": {
    "application/vnd.databricks.v1+cell": {
     "cellMetadata": {
      "byteLimit": 2048000,
      "implicitDf": true,
      "rowLimit": 10000
     },
     "inputWidgets": {},
     "nuid": "f6f3ad23-c0e1-4569-9729-be45e1694d9b",
     "showTitle": false,
     "tableResultSettingsMap": {},
     "title": ""
    }
   },
   "outputs": [
    {
     "data": {
      "text/html": [
       "<style scoped>\n",
       "  .table-result-container {\n",
       "    max-height: 300px;\n",
       "    overflow: auto;\n",
       "  }\n",
       "  table, th, td {\n",
       "    border: 1px solid black;\n",
       "    border-collapse: collapse;\n",
       "  }\n",
       "  th, td {\n",
       "    padding: 5px;\n",
       "  }\n",
       "  th {\n",
       "    text-align: left;\n",
       "  }\n",
       "</style><div class='table-result-container'><table class='table-result'><thead style='background-color: white'><tr><th>Product_Category</th><th>total_profit</th></tr></thead><tbody><tr><td>Fashion</td><td>2072623.9000000951</td></tr><tr><td>Home & Furniture</td><td>880058.9000000106</td></tr><tr><td>Auto & Accessories</td><td>484313.1999999963</td></tr><tr><td>Electronic</td><td>174190.60000000143</td></tr></tbody></table></div>"
      ]
     },
     "metadata": {
      "application/vnd.databricks.v1+output": {
       "addedWidgets": {},
       "aggData": [],
       "aggError": "",
       "aggOverflow": false,
       "aggSchema": [],
       "aggSeriesLimitReached": false,
       "aggType": "",
       "arguments": {},
       "columnCustomDisplayInfos": {},
       "data": [
        [
         "Fashion",
         2072623.9000000951
        ],
        [
         "Home & Furniture",
         880058.9000000106
        ],
        [
         "Auto & Accessories",
         484313.1999999963
        ],
        [
         "Electronic",
         174190.60000000143
        ]
       ],
       "datasetInfos": [],
       "dbfsResultPath": null,
       "isJsonSchema": true,
       "metadata": {
        "createTempViewForImplicitDf": true,
        "dataframeName": "_sqldf",
        "executionCount": 14
       },
       "overflow": false,
       "plotOptions": {
        "customPlotOptions": {},
        "displayType": "table",
        "pivotAggregation": null,
        "pivotColumns": null,
        "xColumns": null,
        "yColumns": null
       },
       "removedWidgets": [],
       "schema": [
        {
         "metadata": "{}",
         "name": "Product_Category",
         "type": "\"string\""
        },
        {
         "metadata": "{}",
         "name": "total_profit",
         "type": "\"double\""
        }
       ],
       "type": "table"
      }
     },
     "output_type": "display_data"
    }
   ],
   "source": [
    "%sql\n",
    "SELECT Product_Category, SUM(Profit) AS total_profit\n",
    "FROM `hive_metastore`.`default`.`e_commerce_dataset`\n",
    "GROUP BY Product_Category\n",
    "ORDER BY total_profit DESC;"
   ]
  },
  {
   "cell_type": "code",
   "execution_count": null,
   "metadata": {
    "application/vnd.databricks.v1+cell": {
     "cellMetadata": {
      "byteLimit": 2048000,
      "implicitDf": true,
      "rowLimit": 10000
     },
     "inputWidgets": {},
     "nuid": "fc09e1c9-cc81-4f4e-85b4-97131406211a",
     "showTitle": false,
     "tableResultSettingsMap": {},
     "title": ""
    }
   },
   "outputs": [
    {
     "data": {
      "text/html": [
       "<style scoped>\n",
       "  .table-result-container {\n",
       "    max-height: 300px;\n",
       "    overflow: auto;\n",
       "  }\n",
       "  table, th, td {\n",
       "    border: 1px solid black;\n",
       "    border-collapse: collapse;\n",
       "  }\n",
       "  th, td {\n",
       "    padding: 5px;\n",
       "  }\n",
       "  th {\n",
       "    text-align: left;\n",
       "  }\n",
       "</style><div class='table-result-container'><table class='table-result'><thead style='background-color: white'><tr><th>Order_Priority</th><th>order_count</th></tr></thead><tbody><tr><td>Medium</td><td>29433</td></tr><tr><td>High</td><td>15499</td></tr><tr><td>Critical</td><td>3932</td></tr><tr><td>Low</td><td>2424</td></tr><tr><td>null</td><td>2</td></tr></tbody></table></div>"
      ]
     },
     "metadata": {
      "application/vnd.databricks.v1+output": {
       "addedWidgets": {},
       "aggData": [],
       "aggError": "",
       "aggOverflow": false,
       "aggSchema": [],
       "aggSeriesLimitReached": false,
       "aggType": "",
       "arguments": {},
       "columnCustomDisplayInfos": {},
       "data": [
        [
         "Medium",
         29433
        ],
        [
         "High",
         15499
        ],
        [
         "Critical",
         3932
        ],
        [
         "Low",
         2424
        ],
        [
         null,
         2
        ]
       ],
       "datasetInfos": [],
       "dbfsResultPath": null,
       "isJsonSchema": true,
       "metadata": {
        "createTempViewForImplicitDf": true,
        "dataframeName": "_sqldf",
        "executionCount": 15
       },
       "overflow": false,
       "plotOptions": {
        "customPlotOptions": {},
        "displayType": "table",
        "pivotAggregation": null,
        "pivotColumns": null,
        "xColumns": null,
        "yColumns": null
       },
       "removedWidgets": [],
       "schema": [
        {
         "metadata": "{}",
         "name": "Order_Priority",
         "type": "\"string\""
        },
        {
         "metadata": "{}",
         "name": "order_count",
         "type": "\"long\""
        }
       ],
       "type": "table"
      }
     },
     "output_type": "display_data"
    }
   ],
   "source": [
    "%sql\n",
    "SELECT Order_Priority, COUNT(*) AS order_count\n",
    "FROM `hive_metastore`.`default`.`e_commerce_dataset`\n",
    "GROUP BY Order_Priority\n",
    "ORDER BY order_count DESC;"
   ]
  },
  {
   "cell_type": "code",
   "execution_count": null,
   "metadata": {
    "application/vnd.databricks.v1+cell": {
     "cellMetadata": {
      "byteLimit": 2048000,
      "implicitDf": true,
      "rowLimit": 10000
     },
     "inputWidgets": {},
     "nuid": "65d9d5e2-2dc1-4465-9a2f-4db4ad086213",
     "showTitle": false,
     "tableResultSettingsMap": {},
     "title": ""
    }
   },
   "outputs": [
    {
     "data": {
      "text/html": [
       "<style scoped>\n",
       "  .table-result-container {\n",
       "    max-height: 300px;\n",
       "    overflow: auto;\n",
       "  }\n",
       "  table, th, td {\n",
       "    border: 1px solid black;\n",
       "    border-collapse: collapse;\n",
       "  }\n",
       "  th, td {\n",
       "    padding: 5px;\n",
       "  }\n",
       "  th {\n",
       "    text-align: left;\n",
       "  }\n",
       "</style><div class='table-result-container'><table class='table-result'><thead style='background-color: white'><tr><th>Payment_method</th><th>payment_count</th></tr></thead><tbody><tr><td>credit_card</td><td>38137</td></tr><tr><td>money_order</td><td>9629</td></tr><tr><td>e_wallet</td><td>2789</td></tr><tr><td>debit_card</td><td>734</td></tr><tr><td>not_defined</td><td>1</td></tr></tbody></table></div>"
      ]
     },
     "metadata": {
      "application/vnd.databricks.v1+output": {
       "addedWidgets": {},
       "aggData": [],
       "aggError": "",
       "aggOverflow": false,
       "aggSchema": [],
       "aggSeriesLimitReached": false,
       "aggType": "",
       "arguments": {},
       "columnCustomDisplayInfos": {},
       "data": [
        [
         "credit_card",
         38137
        ],
        [
         "money_order",
         9629
        ],
        [
         "e_wallet",
         2789
        ],
        [
         "debit_card",
         734
        ],
        [
         "not_defined",
         1
        ]
       ],
       "datasetInfos": [],
       "dbfsResultPath": null,
       "isJsonSchema": true,
       "metadata": {
        "createTempViewForImplicitDf": true,
        "dataframeName": "_sqldf",
        "executionCount": 16
       },
       "overflow": false,
       "plotOptions": {
        "customPlotOptions": {},
        "displayType": "table",
        "pivotAggregation": null,
        "pivotColumns": null,
        "xColumns": null,
        "yColumns": null
       },
       "removedWidgets": [],
       "schema": [
        {
         "metadata": "{}",
         "name": "Payment_method",
         "type": "\"string\""
        },
        {
         "metadata": "{}",
         "name": "payment_count",
         "type": "\"long\""
        }
       ],
       "type": "table"
      }
     },
     "output_type": "display_data"
    }
   ],
   "source": [
    "%sql\n",
    "SELECT Payment_method, COUNT(*) AS payment_count\n",
    "FROM `hive_metastore`.`default`.`e_commerce_dataset`\n",
    "GROUP BY Payment_method\n",
    "ORDER BY payment_count DESC;"
   ]
  },
  {
   "cell_type": "code",
   "execution_count": null,
   "metadata": {
    "application/vnd.databricks.v1+cell": {
     "cellMetadata": {
      "byteLimit": 2048000,
      "implicitDf": true,
      "rowLimit": 10000
     },
     "inputWidgets": {},
     "nuid": "120dd831-b02b-44e5-a856-eeab7039d890",
     "showTitle": false,
     "tableResultSettingsMap": {},
     "title": ""
    }
   },
   "outputs": [
    {
     "data": {
      "text/html": [
       "<style scoped>\n",
       "  .table-result-container {\n",
       "    max-height: 300px;\n",
       "    overflow: auto;\n",
       "  }\n",
       "  table, th, td {\n",
       "    border: 1px solid black;\n",
       "    border-collapse: collapse;\n",
       "  }\n",
       "  th, td {\n",
       "    padding: 5px;\n",
       "  }\n",
       "  th {\n",
       "    text-align: left;\n",
       "  }\n",
       "</style><div class='table-result-container'><table class='table-result'><thead style='background-color: white'><tr><th>total_records</th><th>avg_sales</th><th>std_sales</th><th>min_sales</th><th>max_sales</th><th>avg_quantity</th><th>std_quantity</th><th>min_quantity</th><th>max_quantity</th><th>avg_discount</th><th>std_discount</th><th>min_discount</th><th>max_discount</th><th>avg_profit</th><th>std_profit</th><th>min_profit</th><th>max_profit</th><th>avg_shipping_cost</th><th>std_shipping_cost</th><th>min_shipping_cost</th><th>max_shipping_cost</th><th>avg_aging</th><th>std_aging</th><th>min_aging</th><th>max_aging</th></tr></thead><tbody><tr><td>51290</td><td>152.34087231180175</td><td>66.49541941735221</td><td>33.0</td><td>250.0</td><td>2.5029831539541414</td><td>1.5118586336411253</td><td>1.0</td><td>5.0</td><td>0.3038214821891464</td><td>0.13102661107663202</td><td>0.1</td><td>0.5</td><td>70.40722558003488</td><td>48.72948829951265</td><td>0.5</td><td>167.5</td><td>7.041556669071595</td><td>4.871744672835287</td><td>0.1</td><td>16.8</td><td>5.255035192731385</td><td>2.959948361375533</td><td>1.0</td><td>10.5</td></tr></tbody></table></div>"
      ]
     },
     "metadata": {
      "application/vnd.databricks.v1+output": {
       "addedWidgets": {},
       "aggData": [],
       "aggError": "",
       "aggOverflow": false,
       "aggSchema": [],
       "aggSeriesLimitReached": false,
       "aggType": "",
       "arguments": {},
       "columnCustomDisplayInfos": {},
       "data": [
        [
         51290,
         152.34087231180175,
         66.49541941735221,
         33,
         250,
         2.5029831539541414,
         1.5118586336411253,
         1,
         5,
         0.3038214821891464,
         0.13102661107663202,
         0.1,
         0.5,
         70.40722558003488,
         48.72948829951265,
         0.5,
         167.5,
         7.041556669071595,
         4.871744672835287,
         0.1,
         16.8,
         5.255035192731385,
         2.959948361375533,
         1,
         10.5
        ]
       ],
       "datasetInfos": [],
       "dbfsResultPath": null,
       "isJsonSchema": true,
       "metadata": {
        "createTempViewForImplicitDf": true,
        "dataframeName": "_sqldf",
        "executionCount": 17
       },
       "overflow": false,
       "plotOptions": {
        "customPlotOptions": {},
        "displayType": "table",
        "pivotAggregation": null,
        "pivotColumns": null,
        "xColumns": null,
        "yColumns": null
       },
       "removedWidgets": [],
       "schema": [
        {
         "metadata": "{}",
         "name": "total_records",
         "type": "\"long\""
        },
        {
         "metadata": "{}",
         "name": "avg_sales",
         "type": "\"double\""
        },
        {
         "metadata": "{}",
         "name": "std_sales",
         "type": "\"double\""
        },
        {
         "metadata": "{}",
         "name": "min_sales",
         "type": "\"double\""
        },
        {
         "metadata": "{}",
         "name": "max_sales",
         "type": "\"double\""
        },
        {
         "metadata": "{}",
         "name": "avg_quantity",
         "type": "\"double\""
        },
        {
         "metadata": "{}",
         "name": "std_quantity",
         "type": "\"double\""
        },
        {
         "metadata": "{}",
         "name": "min_quantity",
         "type": "\"double\""
        },
        {
         "metadata": "{}",
         "name": "max_quantity",
         "type": "\"double\""
        },
        {
         "metadata": "{}",
         "name": "avg_discount",
         "type": "\"double\""
        },
        {
         "metadata": "{}",
         "name": "std_discount",
         "type": "\"double\""
        },
        {
         "metadata": "{}",
         "name": "min_discount",
         "type": "\"double\""
        },
        {
         "metadata": "{}",
         "name": "max_discount",
         "type": "\"double\""
        },
        {
         "metadata": "{}",
         "name": "avg_profit",
         "type": "\"double\""
        },
        {
         "metadata": "{}",
         "name": "std_profit",
         "type": "\"double\""
        },
        {
         "metadata": "{}",
         "name": "min_profit",
         "type": "\"double\""
        },
        {
         "metadata": "{}",
         "name": "max_profit",
         "type": "\"double\""
        },
        {
         "metadata": "{}",
         "name": "avg_shipping_cost",
         "type": "\"double\""
        },
        {
         "metadata": "{}",
         "name": "std_shipping_cost",
         "type": "\"double\""
        },
        {
         "metadata": "{}",
         "name": "min_shipping_cost",
         "type": "\"double\""
        },
        {
         "metadata": "{}",
         "name": "max_shipping_cost",
         "type": "\"double\""
        },
        {
         "metadata": "{}",
         "name": "avg_aging",
         "type": "\"double\""
        },
        {
         "metadata": "{}",
         "name": "std_aging",
         "type": "\"double\""
        },
        {
         "metadata": "{}",
         "name": "min_aging",
         "type": "\"double\""
        },
        {
         "metadata": "{}",
         "name": "max_aging",
         "type": "\"double\""
        }
       ],
       "type": "table"
      }
     },
     "output_type": "display_data"
    }
   ],
   "source": [
    "%sql\n",
    "SELECT \n",
    "    COUNT(*) AS total_records,\n",
    "    AVG(Sales) AS avg_sales,\n",
    "    STDDEV(Sales) AS std_sales,\n",
    "    MIN(Sales) AS min_sales,\n",
    "    MAX(Sales) AS max_sales,\n",
    "    \n",
    "    AVG(Quantity) AS avg_quantity,\n",
    "    STDDEV(Quantity) AS std_quantity,\n",
    "    MIN(Quantity) AS min_quantity,\n",
    "    MAX(Quantity) AS max_quantity,\n",
    "    \n",
    "    AVG(Discount) AS avg_discount,\n",
    "    STDDEV(Discount) AS std_discount,\n",
    "    MIN(Discount) AS min_discount,\n",
    "    MAX(Discount) AS max_discount,\n",
    "    \n",
    "    AVG(Profit) AS avg_profit,\n",
    "    STDDEV(Profit) AS std_profit,\n",
    "    MIN(Profit) AS min_profit,\n",
    "    MAX(Profit) AS max_profit,\n",
    "    \n",
    "    AVG(Shipping_cost) AS avg_shipping_cost,\n",
    "    STDDEV(Shipping_cost) AS std_shipping_cost,\n",
    "    MIN(Shipping_cost) AS min_shipping_cost,\n",
    "    MAX(Shipping_cost) AS max_shipping_cost,\n",
    "    \n",
    "    AVG(Aging) AS avg_aging,\n",
    "    STDDEV(Aging) AS std_aging,\n",
    "    MIN(Aging) AS min_aging,\n",
    "    MAX(Aging) AS max_aging\n",
    "\n",
    "FROM `hive_metastore`.`default`.`e_commerce_dataset`;"
   ]
  },
  {
   "cell_type": "code",
   "execution_count": null,
   "metadata": {
    "application/vnd.databricks.v1+cell": {
     "cellMetadata": {
      "byteLimit": 2048000,
      "rowLimit": 10000
     },
     "inputWidgets": {},
     "nuid": "59625359-04ba-43f0-adef-cd1ead22a664",
     "showTitle": false,
     "tableResultSettingsMap": {},
     "title": ""
    }
   },
   "outputs": [
    {
     "name": "stdout",
     "output_type": "stream",
     "text": [
      "+-------+------------------+------------------+-------------------+-----------------+-----------------+-----------------+\n",
      "|summary|             Sales|          Quantity|           Discount|           Profit|    Shipping_cost|            Aging|\n",
      "+-------+------------------+------------------+-------------------+-----------------+-----------------+-----------------+\n",
      "|  count|             51289|             51288|              51289|            51290|            51289|            51289|\n",
      "|   mean|152.34087231180175|2.5029831539541414| 0.3038214821891464|70.40722558003488|7.041556669071595|5.255035192731385|\n",
      "| stddev| 66.49541941735221|1.5118586336411253|0.13102661107663202|48.72948829951265|4.871744672835287|2.959948361375533|\n",
      "|    min|              33.0|               1.0|                0.1|              0.5|              0.1|              1.0|\n",
      "|    max|             250.0|               5.0|                0.5|            167.5|             16.8|             10.5|\n",
      "+-------+------------------+------------------+-------------------+-----------------+-----------------+-----------------+\n",
      "\n"
     ]
    }
   ],
   "source": [
    "# Load the dataset\n",
    "df = spark.read.table(\"hive_metastore.default.e_commerce_dataset\")\n",
    "\n",
    "# Describe numerical columns\n",
    "numerical_columns = [\"Sales\", \"Quantity\", \"Discount\", \"Profit\", \"Shipping_cost\", \"Aging\"]\n",
    "\n",
    "# Generate summary statistics\n",
    "df.select(numerical_columns).describe().show()"
   ]
  },
  {
   "cell_type": "code",
   "execution_count": null,
   "metadata": {
    "application/vnd.databricks.v1+cell": {
     "cellMetadata": {
      "byteLimit": 2048000,
      "rowLimit": 10000
     },
     "inputWidgets": {},
     "nuid": "751ebd5b-6d66-459b-aeea-b12212508b7e",
     "showTitle": false,
     "tableResultSettingsMap": {},
     "title": ""
    }
   },
   "outputs": [
    {
     "name": "stdout",
     "output_type": "stream",
     "text": [
      "Distribution for Gender:\n",
      "+------+-----+\n",
      "|Gender|count|\n",
      "+------+-----+\n",
      "|  Male|28138|\n",
      "|Female|23152|\n",
      "+------+-----+\n",
      "\n",
      "Distribution for Device_Type:\n",
      "+-----------+-----+\n",
      "|Device_Type|count|\n",
      "+-----------+-----+\n",
      "|        Web|47632|\n",
      "|     Mobile| 3658|\n",
      "+-----------+-----+\n",
      "\n",
      "Distribution for Customer_Login_Type:\n",
      "+-------------------+-----+\n",
      "|Customer_Login_Type|count|\n",
      "+-------------------+-----+\n",
      "|             Member|49097|\n",
      "|              Guest| 1993|\n",
      "|       First SignUp|  173|\n",
      "|               New |   27|\n",
      "+-------------------+-----+\n",
      "\n",
      "Distribution for Product_Category:\n",
      "+------------------+-----+\n",
      "|  Product_Category|count|\n",
      "+------------------+-----+\n",
      "|           Fashion|25646|\n",
      "|  Home & Furniture|15438|\n",
      "|Auto & Accessories| 7505|\n",
      "|        Electronic| 2701|\n",
      "+------------------+-----+\n",
      "\n",
      "Distribution for Order_Priority:\n",
      "+--------------+-----+\n",
      "|Order_Priority|count|\n",
      "+--------------+-----+\n",
      "|        Medium|29433|\n",
      "|          High|15499|\n",
      "|      Critical| 3932|\n",
      "|           Low| 2424|\n",
      "|          NULL|    2|\n",
      "+--------------+-----+\n",
      "\n",
      "Distribution for Payment_method:\n",
      "+--------------+-----+\n",
      "|Payment_method|count|\n",
      "+--------------+-----+\n",
      "|   credit_card|38137|\n",
      "|   money_order| 9629|\n",
      "|      e_wallet| 2789|\n",
      "|    debit_card|  734|\n",
      "|   not_defined|    1|\n",
      "+--------------+-----+\n",
      "\n"
     ]
    }
   ],
   "source": [
    "# Load dataset\n",
    "df = spark.read.table(\"hive_metastore.default.e_commerce_dataset\")\n",
    "\n",
    "# List of categorical columns\n",
    "categorical_columns = [\"Gender\", \"Device_Type\", \"Customer_Login_Type\", \"Product_Category\", \"Order_Priority\", \"Payment_method\"]\n",
    "\n",
    "# Display unique value counts for each categorical column\n",
    "for col_name in categorical_columns:\n",
    "    print(f\"Distribution for {col_name}:\")\n",
    "    df.groupBy(col_name).count().orderBy(\"count\", ascending=False).show()"
   ]
  },
  {
   "cell_type": "code",
   "execution_count": null,
   "metadata": {
    "application/vnd.databricks.v1+cell": {
     "cellMetadata": {
      "byteLimit": 2048000,
      "implicitDf": true,
      "rowLimit": 10000
     },
     "inputWidgets": {},
     "nuid": "8e09badb-2628-443d-87dc-ea325db18be6",
     "showTitle": false,
     "tableResultSettingsMap": {},
     "title": ""
    }
   },
   "outputs": [
    {
     "data": {
      "text/html": [
       "<style scoped>\n",
       "  .table-result-container {\n",
       "    max-height: 300px;\n",
       "    overflow: auto;\n",
       "  }\n",
       "  table, th, td {\n",
       "    border: 1px solid black;\n",
       "    border-collapse: collapse;\n",
       "  }\n",
       "  th, td {\n",
       "    padding: 5px;\n",
       "  }\n",
       "  th {\n",
       "    text-align: left;\n",
       "  }\n",
       "</style><div class='table-result-container'><table class='table-result'><thead style='background-color: white'><tr><th>Gender</th><th>count</th></tr></thead><tbody><tr><td>Male</td><td>28138</td></tr><tr><td>Female</td><td>23152</td></tr></tbody></table></div>"
      ]
     },
     "metadata": {
      "application/vnd.databricks.v1+output": {
       "addedWidgets": {},
       "aggData": [],
       "aggError": "",
       "aggOverflow": false,
       "aggSchema": [],
       "aggSeriesLimitReached": false,
       "aggType": "",
       "arguments": {},
       "columnCustomDisplayInfos": {},
       "data": [
        [
         "Male",
         28138
        ],
        [
         "Female",
         23152
        ]
       ],
       "datasetInfos": [],
       "dbfsResultPath": null,
       "isJsonSchema": true,
       "metadata": {
        "createTempViewForImplicitDf": true,
        "dataframeName": "_sqldf",
        "executionCount": 20
       },
       "overflow": false,
       "plotOptions": {
        "customPlotOptions": {},
        "displayType": "table",
        "pivotAggregation": null,
        "pivotColumns": null,
        "xColumns": null,
        "yColumns": null
       },
       "removedWidgets": [],
       "schema": [
        {
         "metadata": "{}",
         "name": "Gender",
         "type": "\"string\""
        },
        {
         "metadata": "{}",
         "name": "count",
         "type": "\"long\""
        }
       ],
       "type": "table"
      }
     },
     "output_type": "display_data"
    }
   ],
   "source": [
    "%sql\n",
    "SELECT Gender, COUNT(*) AS count\n",
    "FROM `hive_metastore`.`default`.`e_commerce_dataset`\n",
    "GROUP BY Gender\n",
    "ORDER BY count DESC;"
   ]
  },
  {
   "cell_type": "code",
   "execution_count": null,
   "metadata": {
    "application/vnd.databricks.v1+cell": {
     "cellMetadata": {
      "byteLimit": 2048000,
      "rowLimit": 10000
     },
     "inputWidgets": {},
     "nuid": "6d5b4a9b-22eb-4b45-ac59-213fc65c5681",
     "showTitle": false,
     "tableResultSettingsMap": {},
     "title": ""
    }
   },
   "outputs": [
    {
     "data": {
      "image/png": "[encoded data removed]",
      "text/plain": [
       "<Figure size 600x600 with 1 Axes>"
      ]
     },
     "metadata": {},
     "output_type": "display_data"
    }
   ],
   "source": [
    "import matplotlib.pyplot as plt\n",
    "\n",
    "# Data\n",
    "labels = ['Male', 'Female']\n",
    "sizes = [28138, 23152]\n",
    "colors = ['lightblue', 'pink']\n",
    "\n",
    "# Create Pie Chart\n",
    "plt.figure(figsize=(6,6))\n",
    "plt.pie(sizes, labels=labels, autopct='%1.1f%%', colors=colors, startangle=90)\n",
    "plt.title(\"Gender Distribution in Orders\")\n",
    "plt.show()\n"
   ]
  },
  {
   "cell_type": "code",
   "execution_count": null,
   "metadata": {
    "application/vnd.databricks.v1+cell": {
     "cellMetadata": {
      "byteLimit": 2048000,
      "implicitDf": true,
      "rowLimit": 10000
     },
     "inputWidgets": {},
     "nuid": "990d59a4-c51d-4a82-9c5f-89dd521d8daf",
     "showTitle": false,
     "tableResultSettingsMap": {},
     "title": ""
    }
   },
   "outputs": [
    {
     "data": {
      "text/html": [
       "<style scoped>\n",
       "  .table-result-container {\n",
       "    max-height: 300px;\n",
       "    overflow: auto;\n",
       "  }\n",
       "  table, th, td {\n",
       "    border: 1px solid black;\n",
       "    border-collapse: collapse;\n",
       "  }\n",
       "  th, td {\n",
       "    padding: 5px;\n",
       "  }\n",
       "  th {\n",
       "    text-align: left;\n",
       "  }\n",
       "</style><div class='table-result-container'><table class='table-result'><thead style='background-color: white'><tr><th>Device_Type</th><th>count</th></tr></thead><tbody><tr><td>Web</td><td>47632</td></tr><tr><td>Mobile</td><td>3658</td></tr></tbody></table></div>"
      ]
     },
     "metadata": {
      "application/vnd.databricks.v1+output": {
       "addedWidgets": {},
       "aggData": [],
       "aggError": "",
       "aggOverflow": false,
       "aggSchema": [],
       "aggSeriesLimitReached": false,
       "aggType": "",
       "arguments": {},
       "columnCustomDisplayInfos": {},
       "data": [
        [
         "Web",
         47632
        ],
        [
         "Mobile",
         3658
        ]
       ],
       "datasetInfos": [],
       "dbfsResultPath": null,
       "isJsonSchema": true,
       "metadata": {
        "createTempViewForImplicitDf": true,
        "dataframeName": "_sqldf",
        "executionCount": 21
       },
       "overflow": false,
       "plotOptions": {
        "customPlotOptions": {},
        "displayType": "table",
        "pivotAggregation": null,
        "pivotColumns": null,
        "xColumns": null,
        "yColumns": null
       },
       "removedWidgets": [],
       "schema": [
        {
         "metadata": "{}",
         "name": "Device_Type",
         "type": "\"string\""
        },
        {
         "metadata": "{}",
         "name": "count",
         "type": "\"long\""
        }
       ],
       "type": "table"
      }
     },
     "output_type": "display_data"
    }
   ],
   "source": [
    "%sql\n",
    "SELECT Device_Type, COUNT(*) AS count\n",
    "FROM `hive_metastore`.`default`.`e_commerce_dataset`\n",
    "GROUP BY Device_Type\n",
    "ORDER BY count DESC;"
   ]
  },
  {
   "cell_type": "code",
   "execution_count": null,
   "metadata": {
    "application/vnd.databricks.v1+cell": {
     "cellMetadata": {
      "byteLimit": 2048000,
      "rowLimit": 10000
     },
     "inputWidgets": {},
     "nuid": "07eb1c6b-4640-4170-996f-479ff34e62a3",
     "showTitle": false,
     "tableResultSettingsMap": {},
     "title": ""
    }
   },
   "outputs": [
    {
     "data": {
      "image/png": "[encoded data removed]",
      "text/plain": [
       "<Figure size 800x500 with 1 Axes>"
      ]
     },
     "metadata": {},
     "output_type": "display_data"
    }
   ],
   "source": [
    "import matplotlib.pyplot as plt\n",
    "\n",
    "# Data\n",
    "device_types = [\"Web\", \"Mobile\"]\n",
    "order_counts = [47632, 3658]\n",
    "\n",
    "# Create Bar Chart\n",
    "plt.figure(figsize=(8,5))\n",
    "plt.bar(device_types, order_counts, color=['blue', 'orange'])\n",
    "plt.xlabel(\"Device Type\")\n",
    "plt.ylabel(\"Order Count\")\n",
    "plt.title(\"Device Type Usage in E-Commerce Orders\")\n",
    "plt.show()\n"
   ]
  },
  {
   "cell_type": "code",
   "execution_count": null,
   "metadata": {
    "application/vnd.databricks.v1+cell": {
     "cellMetadata": {
      "byteLimit": 2048000,
      "implicitDf": true,
      "rowLimit": 10000
     },
     "inputWidgets": {},
     "nuid": "2641309d-47cd-4ef1-8841-5db559009387",
     "showTitle": false,
     "tableResultSettingsMap": {},
     "title": ""
    }
   },
   "outputs": [
    {
     "data": {
      "text/html": [
       "<style scoped>\n",
       "  .table-result-container {\n",
       "    max-height: 300px;\n",
       "    overflow: auto;\n",
       "  }\n",
       "  table, th, td {\n",
       "    border: 1px solid black;\n",
       "    border-collapse: collapse;\n",
       "  }\n",
       "  th, td {\n",
       "    padding: 5px;\n",
       "  }\n",
       "  th {\n",
       "    text-align: left;\n",
       "  }\n",
       "</style><div class='table-result-container'><table class='table-result'><thead style='background-color: white'><tr><th>Customer_Login_Type</th><th>count</th></tr></thead><tbody><tr><td>Member</td><td>49097</td></tr><tr><td>Guest</td><td>1993</td></tr><tr><td>First SignUp</td><td>173</td></tr><tr><td>New </td><td>27</td></tr></tbody></table></div>"
      ]
     },
     "metadata": {
      "application/vnd.databricks.v1+output": {
       "addedWidgets": {},
       "aggData": [],
       "aggError": "",
       "aggOverflow": false,
       "aggSchema": [],
       "aggSeriesLimitReached": false,
       "aggType": "",
       "arguments": {},
       "columnCustomDisplayInfos": {},
       "data": [
        [
         "Member",
         49097
        ],
        [
         "Guest",
         1993
        ],
        [
         "First SignUp",
         173
        ],
        [
         "New ",
         27
        ]
       ],
       "datasetInfos": [],
       "dbfsResultPath": null,
       "isJsonSchema": true,
       "metadata": {
        "createTempViewForImplicitDf": true,
        "dataframeName": "_sqldf",
        "executionCount": 22
       },
       "overflow": false,
       "plotOptions": {
        "customPlotOptions": {},
        "displayType": "table",
        "pivotAggregation": null,
        "pivotColumns": null,
        "xColumns": null,
        "yColumns": null
       },
       "removedWidgets": [],
       "schema": [
        {
         "metadata": "{}",
         "name": "Customer_Login_Type",
         "type": "\"string\""
        },
        {
         "metadata": "{}",
         "name": "count",
         "type": "\"long\""
        }
       ],
       "type": "table"
      }
     },
     "output_type": "display_data"
    }
   ],
   "source": [
    "%sql\n",
    "SELECT Customer_Login_Type, COUNT(*) AS count\n",
    "FROM `hive_metastore`.`default`.`e_commerce_dataset`\n",
    "GROUP BY Customer_Login_Type\n",
    "ORDER BY count DESC;"
   ]
  },
  {
   "cell_type": "code",
   "execution_count": null,
   "metadata": {
    "application/vnd.databricks.v1+cell": {
     "cellMetadata": {
      "byteLimit": 2048000,
      "rowLimit": 10000
     },
     "inputWidgets": {},
     "nuid": "3eb4e1e0-fc72-4f87-b8a0-9809082911ab",
     "showTitle": false,
     "tableResultSettingsMap": {},
     "title": ""
    }
   },
   "outputs": [
    {
     "data": {
      "image/png": "[encoded data removed]",
      "text/plain": [
       "<Figure size 800x500 with 1 Axes>"
      ]
     },
     "metadata": {},
     "output_type": "display_data"
    }
   ],
   "source": [
    "# Data\n",
    "login_types = [\"Member\", \"Guest\", \"First SignUp\", \"New\"]\n",
    "counts = [49097, 1993, 173, 27]\n",
    "\n",
    "# Create Bar Chart\n",
    "plt.figure(figsize=(8,5))\n",
    "plt.bar(login_types, counts, color=['green', 'red', 'purple', 'cyan'])\n",
    "plt.xlabel(\"Customer Login Type\")\n",
    "plt.ylabel(\"Order Count\")\n",
    "plt.title(\"Customer Login Type Distribution\")\n",
    "plt.show()\n"
   ]
  },
  {
   "cell_type": "code",
   "execution_count": null,
   "metadata": {
    "application/vnd.databricks.v1+cell": {
     "cellMetadata": {
      "byteLimit": 2048000,
      "implicitDf": true,
      "rowLimit": 10000
     },
     "inputWidgets": {},
     "nuid": "e7c1687b-0e04-4a11-b24d-6efec3a06d6a",
     "showTitle": false,
     "tableResultSettingsMap": {},
     "title": ""
    }
   },
   "outputs": [
    {
     "data": {
      "text/html": [
       "<style scoped>\n",
       "  .table-result-container {\n",
       "    max-height: 300px;\n",
       "    overflow: auto;\n",
       "  }\n",
       "  table, th, td {\n",
       "    border: 1px solid black;\n",
       "    border-collapse: collapse;\n",
       "  }\n",
       "  th, td {\n",
       "    padding: 5px;\n",
       "  }\n",
       "  th {\n",
       "    text-align: left;\n",
       "  }\n",
       "</style><div class='table-result-container'><table class='table-result'><thead style='background-color: white'><tr><th>Product_Category</th><th>order_count</th></tr></thead><tbody><tr><td>Fashion</td><td>25646</td></tr><tr><td>Home & Furniture</td><td>15438</td></tr><tr><td>Auto & Accessories</td><td>7505</td></tr><tr><td>Electronic</td><td>2701</td></tr></tbody></table></div>"
      ]
     },
     "metadata": {
      "application/vnd.databricks.v1+output": {
       "addedWidgets": {},
       "aggData": [],
       "aggError": "",
       "aggOverflow": false,
       "aggSchema": [],
       "aggSeriesLimitReached": false,
       "aggType": "",
       "arguments": {},
       "columnCustomDisplayInfos": {},
       "data": [
        [
         "Fashion",
         25646
        ],
        [
         "Home & Furniture",
         15438
        ],
        [
         "Auto & Accessories",
         7505
        ],
        [
         "Electronic",
         2701
        ]
       ],
       "datasetInfos": [],
       "dbfsResultPath": null,
       "isJsonSchema": true,
       "metadata": {
        "createTempViewForImplicitDf": true,
        "dataframeName": "_sqldf",
        "executionCount": 23
       },
       "overflow": false,
       "plotOptions": {
        "customPlotOptions": {},
        "displayType": "table",
        "pivotAggregation": null,
        "pivotColumns": null,
        "xColumns": null,
        "yColumns": null
       },
       "removedWidgets": [],
       "schema": [
        {
         "metadata": "{}",
         "name": "Product_Category",
         "type": "\"string\""
        },
        {
         "metadata": "{}",
         "name": "order_count",
         "type": "\"long\""
        }
       ],
       "type": "table"
      }
     },
     "output_type": "display_data"
    }
   ],
   "source": [
    "%sql\n",
    "SELECT Product_Category, COUNT(*) AS order_count\n",
    "FROM `hive_metastore`.`default`.`e_commerce_dataset`\n",
    "GROUP BY Product_Category\n",
    "ORDER BY order_count DESC\n",
    "LIMIT 5;"
   ]
  },
  {
   "cell_type": "code",
   "execution_count": null,
   "metadata": {
    "application/vnd.databricks.v1+cell": {
     "cellMetadata": {
      "byteLimit": 2048000,
      "implicitDf": true,
      "rowLimit": 10000
     },
     "inputWidgets": {},
     "nuid": "3a5d8009-bb19-4f5e-9a9c-9c124240a6c4",
     "showTitle": false,
     "tableResultSettingsMap": {},
     "title": ""
    }
   },
   "outputs": [
    {
     "data": {
      "text/html": [
       "<style scoped>\n",
       "  .table-result-container {\n",
       "    max-height: 300px;\n",
       "    overflow: auto;\n",
       "  }\n",
       "  table, th, td {\n",
       "    border: 1px solid black;\n",
       "    border-collapse: collapse;\n",
       "  }\n",
       "  th, td {\n",
       "    padding: 5px;\n",
       "  }\n",
       "  th {\n",
       "    text-align: left;\n",
       "  }\n",
       "</style><div class='table-result-container'><table class='table-result'><thead style='background-color: white'><tr><th>Order_Priority</th><th>count</th></tr></thead><tbody><tr><td>Medium</td><td>29433</td></tr><tr><td>High</td><td>15499</td></tr><tr><td>Critical</td><td>3932</td></tr><tr><td>Low</td><td>2424</td></tr><tr><td>null</td><td>2</td></tr></tbody></table></div>"
      ]
     },
     "metadata": {
      "application/vnd.databricks.v1+output": {
       "addedWidgets": {},
       "aggData": [],
       "aggError": "",
       "aggOverflow": false,
       "aggSchema": [],
       "aggSeriesLimitReached": false,
       "aggType": "",
       "arguments": {},
       "columnCustomDisplayInfos": {},
       "data": [
        [
         "Medium",
         29433
        ],
        [
         "High",
         15499
        ],
        [
         "Critical",
         3932
        ],
        [
         "Low",
         2424
        ],
        [
         null,
         2
        ]
       ],
       "datasetInfos": [],
       "dbfsResultPath": null,
       "isJsonSchema": true,
       "metadata": {
        "createTempViewForImplicitDf": true,
        "dataframeName": "_sqldf",
        "executionCount": 24
       },
       "overflow": false,
       "plotOptions": {
        "customPlotOptions": {},
        "displayType": "table",
        "pivotAggregation": null,
        "pivotColumns": null,
        "xColumns": null,
        "yColumns": null
       },
       "removedWidgets": [],
       "schema": [
        {
         "metadata": "{}",
         "name": "Order_Priority",
         "type": "\"string\""
        },
        {
         "metadata": "{}",
         "name": "count",
         "type": "\"long\""
        }
       ],
       "type": "table"
      }
     },
     "output_type": "display_data"
    }
   ],
   "source": [
    "%sql\n",
    "SELECT Order_Priority, COUNT(*) AS count\n",
    "FROM `hive_metastore`.`default`.`e_commerce_dataset`\n",
    "GROUP BY Order_Priority\n",
    "ORDER BY count DESC;"
   ]
  },
  {
   "cell_type": "code",
   "execution_count": null,
   "metadata": {
    "application/vnd.databricks.v1+cell": {
     "cellMetadata": {
      "byteLimit": 2048000,
      "rowLimit": 10000
     },
     "inputWidgets": {},
     "nuid": "b049e808-a1e9-43d9-94ab-b6da9f5516a4",
     "showTitle": false,
     "tableResultSettingsMap": {},
     "title": ""
    }
   },
   "outputs": [
    {
     "data": {
      "image/png": "[encoded data removed]",
      "text/plain": [
       "<Figure size 600x600 with 1 Axes>"
      ]
     },
     "metadata": {},
     "output_type": "display_data"
    }
   ],
   "source": [
    "# Data\n",
    "labels = [\"Medium\", \"High\", \"Critical\", \"Low\"]\n",
    "sizes = [29433, 15499, 3932, 2424]\n",
    "colors = ['lightgreen', 'orange', 'red', 'blue']\n",
    "\n",
    "# Create Pie Chart\n",
    "plt.figure(figsize=(6,6))\n",
    "plt.pie(sizes, labels=labels, autopct='%1.1f%%', colors=colors, startangle=140)\n",
    "plt.title(\"Order Priority Distribution\")\n",
    "plt.show()\n"
   ]
  },
  {
   "cell_type": "code",
   "execution_count": null,
   "metadata": {
    "application/vnd.databricks.v1+cell": {
     "cellMetadata": {
      "byteLimit": 2048000,
      "implicitDf": true,
      "rowLimit": 10000
     },
     "inputWidgets": {},
     "nuid": "753f59fb-c041-4905-b205-edd97150f07f",
     "showTitle": false,
     "tableResultSettingsMap": {},
     "title": ""
    }
   },
   "outputs": [
    {
     "data": {
      "text/html": [
       "<style scoped>\n",
       "  .table-result-container {\n",
       "    max-height: 300px;\n",
       "    overflow: auto;\n",
       "  }\n",
       "  table, th, td {\n",
       "    border: 1px solid black;\n",
       "    border-collapse: collapse;\n",
       "  }\n",
       "  th, td {\n",
       "    padding: 5px;\n",
       "  }\n",
       "  th {\n",
       "    text-align: left;\n",
       "  }\n",
       "</style><div class='table-result-container'><table class='table-result'><thead style='background-color: white'><tr><th>Payment_method</th><th>count</th></tr></thead><tbody><tr><td>credit_card</td><td>38137</td></tr><tr><td>money_order</td><td>9629</td></tr><tr><td>e_wallet</td><td>2789</td></tr><tr><td>debit_card</td><td>734</td></tr><tr><td>not_defined</td><td>1</td></tr></tbody></table></div>"
      ]
     },
     "metadata": {
      "application/vnd.databricks.v1+output": {
       "addedWidgets": {},
       "aggData": [],
       "aggError": "",
       "aggOverflow": false,
       "aggSchema": [],
       "aggSeriesLimitReached": false,
       "aggType": "",
       "arguments": {},
       "columnCustomDisplayInfos": {},
       "data": [
        [
         "credit_card",
         38137
        ],
        [
         "money_order",
         9629
        ],
        [
         "e_wallet",
         2789
        ],
        [
         "debit_card",
         734
        ],
        [
         "not_defined",
         1
        ]
       ],
       "datasetInfos": [],
       "dbfsResultPath": null,
       "isJsonSchema": true,
       "metadata": {
        "createTempViewForImplicitDf": true,
        "dataframeName": "_sqldf",
        "executionCount": 25
       },
       "overflow": false,
       "plotOptions": {
        "customPlotOptions": {},
        "displayType": "table",
        "pivotAggregation": null,
        "pivotColumns": null,
        "xColumns": null,
        "yColumns": null
       },
       "removedWidgets": [],
       "schema": [
        {
         "metadata": "{}",
         "name": "Payment_method",
         "type": "\"string\""
        },
        {
         "metadata": "{}",
         "name": "count",
         "type": "\"long\""
        }
       ],
       "type": "table"
      }
     },
     "output_type": "display_data"
    }
   ],
   "source": [
    "%sql\n",
    "SELECT Payment_method, COUNT(*) AS count\n",
    "FROM `hive_metastore`.`default`.`e_commerce_dataset`\n",
    "GROUP BY Payment_method\n",
    "ORDER BY count DESC;"
   ]
  },
  {
   "cell_type": "code",
   "execution_count": null,
   "metadata": {
    "application/vnd.databricks.v1+cell": {
     "cellMetadata": {
      "byteLimit": 2048000,
      "rowLimit": 10000
     },
     "inputWidgets": {},
     "nuid": "880da2be-43fb-4393-95d9-cdef250b63d0",
     "showTitle": false,
     "tableResultSettingsMap": {},
     "title": ""
    }
   },
   "outputs": [
    {
     "name": "stdout",
     "output_type": "stream",
     "text": [
      "+----------+----+-----+-----------+------+-----------+-------------------+----------------+-------+-----+--------+--------+------+-------------+--------------+--------------+\n",
      "|Order_Date|Time|Aging|Customer_Id|Gender|Device_Type|Customer_Login_type|Product_Category|Product|Sales|Quantity|Discount|Profit|Shipping_Cost|Order_Priority|Payment_method|\n",
      "+----------+----+-----+-----------+------+-----------+-------------------+----------------+-------+-----+--------+--------+------+-------------+--------------+--------------+\n",
      "|         0|   0|    1|          0|     0|          0|                  0|               0|      0|    1|       2|       1|     0|            1|             2|             0|\n",
      "+----------+----+-----+-----------+------+-----------+-------------------+----------------+-------+-----+--------+--------+------+-------------+--------------+--------------+\n",
      "\n"
     ]
    }
   ],
   "source": [
    "from pyspark.sql.functions import col, sum\n",
    "\n",
    "# Load dataset\n",
    "df = spark.read.table(\"hive_metastore.default.e_commerce_dataset\")\n",
    "\n",
    "# Count missing values for each column\n",
    "missing_values = df.select([sum(col(c).isNull().cast(\"int\")).alias(c) for c in df.columns])\n",
    "missing_values.show()"
   ]
  },
  {
   "cell_type": "code",
   "execution_count": null,
   "metadata": {
    "application/vnd.databricks.v1+cell": {
     "cellMetadata": {
      "byteLimit": 2048000,
      "implicitDf": true,
      "rowLimit": 10000
     },
     "inputWidgets": {},
     "nuid": "156916de-690e-40da-9a26-53cd6020fcad",
     "showTitle": false,
     "tableResultSettingsMap": {},
     "title": ""
    }
   },
   "outputs": [
    {
     "data": {
      "text/html": [
       "<style scoped>\n",
       "  .table-result-container {\n",
       "    max-height: 300px;\n",
       "    overflow: auto;\n",
       "  }\n",
       "  table, th, td {\n",
       "    border: 1px solid black;\n",
       "    border-collapse: collapse;\n",
       "  }\n",
       "  th, td {\n",
       "    padding: 5px;\n",
       "  }\n",
       "  th {\n",
       "    text-align: left;\n",
       "  }\n",
       "</style><div class='table-result-container'><table class='table-result'><thead style='background-color: white'><tr><th>missing_Order_Date</th><th>missing_Customer_id</th><th>missing_Gender</th><th>missing_Product_Category</th><th>missing_Sales</th></tr></thead><tbody><tr><td>0</td><td>0</td><td>0</td><td>0</td><td>1</td></tr></tbody></table></div>"
      ]
     },
     "metadata": {
      "application/vnd.databricks.v1+output": {
       "addedWidgets": {},
       "aggData": [],
       "aggError": "",
       "aggOverflow": false,
       "aggSchema": [],
       "aggSeriesLimitReached": false,
       "aggType": "",
       "arguments": {},
       "columnCustomDisplayInfos": {},
       "data": [
        [
         0,
         0,
         0,
         0,
         1
        ]
       ],
       "datasetInfos": [],
       "dbfsResultPath": null,
       "isJsonSchema": true,
       "metadata": {
        "createTempViewForImplicitDf": true,
        "dataframeName": "_sqldf",
        "executionCount": 27
       },
       "overflow": false,
       "plotOptions": {
        "customPlotOptions": {},
        "displayType": "table",
        "pivotAggregation": null,
        "pivotColumns": null,
        "xColumns": null,
        "yColumns": null
       },
       "removedWidgets": [],
       "schema": [
        {
         "metadata": "{}",
         "name": "missing_Order_Date",
         "type": "\"long\""
        },
        {
         "metadata": "{}",
         "name": "missing_Customer_id",
         "type": "\"long\""
        },
        {
         "metadata": "{}",
         "name": "missing_Gender",
         "type": "\"long\""
        },
        {
         "metadata": "{}",
         "name": "missing_Product_Category",
         "type": "\"long\""
        },
        {
         "metadata": "{}",
         "name": "missing_Sales",
         "type": "\"long\""
        }
       ],
       "type": "table"
      }
     },
     "output_type": "display_data"
    }
   ],
   "source": [
    "%sql\n",
    "SELECT \n",
    "    SUM(CASE WHEN Order_Date IS NULL THEN 1 ELSE 0 END) AS missing_Order_Date,\n",
    "    SUM(CASE WHEN Customer_id IS NULL THEN 1 ELSE 0 END) AS missing_Customer_id,\n",
    "    SUM(CASE WHEN Gender IS NULL THEN 1 ELSE 0 END) AS missing_Gender,\n",
    "    SUM(CASE WHEN Product_Category IS NULL THEN 1 ELSE 0 END) AS missing_Product_Category,\n",
    "    SUM(CASE WHEN Sales IS NULL THEN 1 ELSE 0 END) AS missing_Sales\n",
    "FROM `hive_metastore`.`default`.`e_commerce_dataset`;"
   ]
  },
  {
   "cell_type": "code",
   "execution_count": null,
   "metadata": {
    "application/vnd.databricks.v1+cell": {
     "cellMetadata": {
      "byteLimit": 2048000,
      "rowLimit": 10000
     },
     "inputWidgets": {},
     "nuid": "a57d5f63-944d-408b-a416-e2dcade937e4",
     "showTitle": false,
     "tableResultSettingsMap": {},
     "title": ""
    }
   },
   "outputs": [
    {
     "name": "stdout",
     "output_type": "stream",
     "text": [
      "+----------+-------------------+-----+-----------+------+-----------+-------------------+------------------+--------------------+-----+--------+--------+------+-------------+--------------+--------------+\n",
      "|Order_Date|               Time|Aging|Customer_Id|Gender|Device_Type|Customer_Login_type|  Product_Category|             Product|Sales|Quantity|Discount|Profit|Shipping_Cost|Order_Priority|Payment_method|\n",
      "+----------+-------------------+-----+-----------+------+-----------+-------------------+------------------+--------------------+-----+--------+--------+------+-------------+--------------+--------------+\n",
      "|2018-01-02|2025-02-08 10:56:33|  8.0|      37077|Female|        Web|             Member|Auto & Accessories|   Car Media Players|140.0|     1.0|     0.3|  46.0|          4.6|        Medium|   credit_card|\n",
      "|2018-07-24|2025-02-08 20:41:37|  2.0|      59173|Female|        Web|             Member|Auto & Accessories|        Car Speakers|211.0|     1.0|     0.3| 112.0|         11.2|        Medium|   credit_card|\n",
      "|2018-11-08|2025-02-08 08:38:49|  8.0|      41066|Female|        Web|             Member|Auto & Accessories|     Car Body Covers|117.0|     5.0|     0.1|  31.2|          3.1|      Critical|   credit_card|\n",
      "|2018-04-18|2025-02-08 19:28:06|  7.0|      50741|Female|        Web|             Member|Auto & Accessories|     Car & Bike Care|118.0|     1.0|     0.3|  26.2|          2.6|          High|   credit_card|\n",
      "|2018-08-13|2025-02-08 21:18:39|  9.0|      53639|Female|        Web|             Member|Auto & Accessories|                Tyre|250.0|     1.0|     0.3| 160.0|         16.0|      Critical|   credit_card|\n",
      "|2018-07-09|2025-02-08 21:57:05|  8.0|      39783|Female|        Web|             Member|Auto & Accessories|          Bike Tyres| 72.0|     1.0|     0.3|  24.0|          2.4|      Critical|   credit_card|\n",
      "|2018-05-16|2025-02-08 13:10:30|  1.0|      26767|Female|        Web|             Member|Auto & Accessories|             Car Mat| 54.0|     1.0|     0.3|  54.0|          5.4|          High|   credit_card|\n",
      "|2018-06-23|2025-02-08 18:29:09|  7.0|      20719|Female|        Web|             Member|Auto & Accessories|     Car Seat Covers|114.0|     5.0|     0.2|  22.6|          2.3|      Critical|   credit_card|\n",
      "|2018-07-29|2025-02-08 11:55:02|  7.0|      46947|Female|        Web|             Member|Auto & Accessories|Car Pillow & Neck...|231.0|     5.0|     0.3| 116.4|         11.6|      Critical|   credit_card|\n",
      "|2018-05-16|2025-02-08 19:41:10| 10.0|      31839|Female|        Web|             Member|Auto & Accessories|   Car Media Players|140.0|     1.0|     0.2|  54.4|          5.4|      Critical|   money_order|\n",
      "|2018-07-13|2025-02-08 19:58:11| 10.0|      22249|Female|        Web|             Member|Auto & Accessories|        Car Speakers|211.0|     4.0|     0.1| 122.6|         12.3|      Critical|   credit_card|\n",
      "|2018-10-07|2025-02-08 10:06:19|  1.0|      15109|Female|        Web|             Member|Auto & Accessories|     Car Body Covers|117.0|     4.0|     0.3|  18.3|          1.8|          High|   credit_card|\n",
      "|2018-07-25|2025-02-08 17:44:10|  7.0|      18622|Female|        Web|             Member|Auto & Accessories|     Car & Bike Care|118.0|     1.0|     0.2|  35.6|          3.6|      Critical|   credit_card|\n",
      "|2018-12-01|2025-02-08 14:14:28|  5.0|      56296|Female|        Web|             Member|Auto & Accessories|                Tyre|250.0|     1.0|     0.3| 140.0|         14.0|          High|   credit_card|\n",
      "|2018-10-07|2025-02-08 19:03:12|  9.0|      34138|Female|        Web|             Member|Auto & Accessories|          Bike Tyres| 72.0|     4.0|     0.1|  18.0|          1.8|        Medium|   credit_card|\n",
      "|2018-06-02|2025-02-08 19:00:43| 10.0|      51112|Female|        Web|             Member|Auto & Accessories|             Car Mat| 54.0|     1.0|     0.1|  27.0|          2.7|      Critical|   credit_card|\n",
      "|2018-03-26|2025-02-08 23:41:31|  4.0|      57057|Female|        Web|             Member|Auto & Accessories|     Car Seat Covers|114.0|     1.0|     0.3|  22.6|          2.3|          High|   credit_card|\n",
      "|2018-04-21|2025-02-08 00:03:41|  7.0|      50942|Female|        Web|             Member|Auto & Accessories|Car Pillow & Neck...|231.0|     5.0|     0.3|  93.3|          9.3|          High|   credit_card|\n",
      "|2018-01-26|2025-02-08 15:54:26|  7.0|      42384|Female|        Web|             Member|Auto & Accessories|   Car Media Players|140.0|     1.0|     0.3|  46.0|          4.6|      Critical|   credit_card|\n",
      "|2018-02-18|2025-02-08 14:31:30|  6.0|      26127|Female|        Web|             Member|Auto & Accessories|        Car Speakers|211.0|     1.0|     0.2| 122.6|         12.3|      Critical|   credit_card|\n",
      "+----------+-------------------+-----+-----------+------+-----------+-------------------+------------------+--------------------+-----+--------+--------+------+-------------+--------------+--------------+\n",
      "only showing top 20 rows\n"
     ]
    }
   ],
   "source": [
    "df_cleaned = df.na.drop()\n",
    "df_cleaned.show()"
   ]
  },
  {
   "cell_type": "code",
   "execution_count": null,
   "metadata": {
    "application/vnd.databricks.v1+cell": {
     "cellMetadata": {
      "byteLimit": 2048000,
      "rowLimit": 10000
     },
     "inputWidgets": {},
     "nuid": "8a5ef565-325d-4d2d-a705-9a4b055e6f0a",
     "showTitle": false,
     "tableResultSettingsMap": {},
     "title": ""
    }
   },
   "outputs": [
    {
     "name": "stdout",
     "output_type": "stream",
     "text": [
      "+----------+-------------------+-----+-----------+------+-----------+-------------------+------------------+--------------------+-----+--------+--------+------+-------------+--------------+--------------+\n",
      "|Order_Date|               Time|Aging|Customer_Id|Gender|Device_Type|Customer_Login_type|  Product_Category|             Product|Sales|Quantity|Discount|Profit|Shipping_Cost|Order_Priority|Payment_method|\n",
      "+----------+-------------------+-----+-----------+------+-----------+-------------------+------------------+--------------------+-----+--------+--------+------+-------------+--------------+--------------+\n",
      "|2018-01-02|2025-02-08 10:56:33|  8.0|      37077|Female|        Web|             Member|Auto & Accessories|   Car Media Players|140.0|     1.0|     0.3|  46.0|          4.6|        Medium|   credit_card|\n",
      "|2018-07-24|2025-02-08 20:41:37|  2.0|      59173|Female|        Web|             Member|Auto & Accessories|        Car Speakers|211.0|     1.0|     0.3| 112.0|         11.2|        Medium|   credit_card|\n",
      "|2018-11-08|2025-02-08 08:38:49|  8.0|      41066|Female|        Web|             Member|Auto & Accessories|     Car Body Covers|117.0|     5.0|     0.1|  31.2|          3.1|      Critical|   credit_card|\n",
      "|2018-04-18|2025-02-08 19:28:06|  7.0|      50741|Female|        Web|             Member|Auto & Accessories|     Car & Bike Care|118.0|     1.0|     0.3|  26.2|          2.6|          High|   credit_card|\n",
      "|2018-08-13|2025-02-08 21:18:39|  9.0|      53639|Female|        Web|             Member|Auto & Accessories|                Tyre|250.0|     1.0|     0.3| 160.0|         16.0|      Critical|   credit_card|\n",
      "|2018-07-09|2025-02-08 21:57:05|  8.0|      39783|Female|        Web|             Member|Auto & Accessories|          Bike Tyres| 72.0|     1.0|     0.3|  24.0|          2.4|      Critical|   credit_card|\n",
      "|2018-05-16|2025-02-08 13:10:30|  1.0|      26767|Female|        Web|             Member|Auto & Accessories|             Car Mat| 54.0|     1.0|     0.3|  54.0|          5.4|          High|   credit_card|\n",
      "|2018-06-23|2025-02-08 18:29:09|  7.0|      20719|Female|        Web|             Member|Auto & Accessories|     Car Seat Covers|114.0|     5.0|     0.2|  22.6|          2.3|      Critical|   credit_card|\n",
      "|2018-07-29|2025-02-08 11:55:02|  7.0|      46947|Female|        Web|             Member|Auto & Accessories|Car Pillow & Neck...|231.0|     5.0|     0.3| 116.4|         11.6|      Critical|   credit_card|\n",
      "|2018-05-16|2025-02-08 19:41:10| 10.0|      31839|Female|        Web|             Member|Auto & Accessories|   Car Media Players|140.0|     1.0|     0.2|  54.4|          5.4|      Critical|   money_order|\n",
      "|2018-07-13|2025-02-08 19:58:11| 10.0|      22249|Female|        Web|             Member|Auto & Accessories|        Car Speakers|211.0|     4.0|     0.1| 122.6|         12.3|      Critical|   credit_card|\n",
      "|2018-10-07|2025-02-08 10:06:19|  1.0|      15109|Female|        Web|             Member|Auto & Accessories|     Car Body Covers|117.0|     4.0|     0.3|  18.3|          1.8|          High|   credit_card|\n",
      "|2018-07-25|2025-02-08 17:44:10|  7.0|      18622|Female|        Web|             Member|Auto & Accessories|     Car & Bike Care|118.0|     1.0|     0.2|  35.6|          3.6|      Critical|   credit_card|\n",
      "|2018-12-01|2025-02-08 14:14:28|  5.0|      56296|Female|        Web|             Member|Auto & Accessories|                Tyre|250.0|     1.0|     0.3| 140.0|         14.0|          High|   credit_card|\n",
      "|2018-10-07|2025-02-08 19:03:12|  9.0|      34138|Female|        Web|             Member|Auto & Accessories|          Bike Tyres| 72.0|     4.0|     0.1|  18.0|          1.8|        Medium|   credit_card|\n",
      "|2018-06-02|2025-02-08 19:00:43| 10.0|      51112|Female|        Web|             Member|Auto & Accessories|             Car Mat| 54.0|     1.0|     0.1|  27.0|          2.7|      Critical|   credit_card|\n",
      "|2018-03-26|2025-02-08 23:41:31|  4.0|      57057|Female|        Web|             Member|Auto & Accessories|     Car Seat Covers|114.0|     1.0|     0.3|  22.6|          2.3|          High|   credit_card|\n",
      "|2018-04-21|2025-02-08 00:03:41|  7.0|      50942|Female|        Web|             Member|Auto & Accessories|Car Pillow & Neck...|231.0|     5.0|     0.3|  93.3|          9.3|          High|   credit_card|\n",
      "|2018-01-26|2025-02-08 15:54:26|  7.0|      42384|Female|        Web|             Member|Auto & Accessories|   Car Media Players|140.0|     1.0|     0.3|  46.0|          4.6|      Critical|   credit_card|\n",
      "|2018-02-18|2025-02-08 14:31:30|  6.0|      26127|Female|        Web|             Member|Auto & Accessories|        Car Speakers|211.0|     1.0|     0.2| 122.6|         12.3|      Critical|   credit_card|\n",
      "+----------+-------------------+-----+-----------+------+-----------+-------------------+------------------+--------------------+-----+--------+--------+------+-------------+--------------+--------------+\n",
      "only showing top 20 rows\n"
     ]
    }
   ],
   "source": [
    "df_filled = df.fillna({\"Sales\": 0, \"Profit\": df.selectExpr(\"avg(Profit)\").collect()[0][0]})\n",
    "df_filled.show()"
   ]
  },
  {
   "cell_type": "code",
   "execution_count": null,
   "metadata": {
    "application/vnd.databricks.v1+cell": {
     "cellMetadata": {
      "byteLimit": 2048000,
      "rowLimit": 10000
     },
     "inputWidgets": {},
     "nuid": "9e01ab3b-a45a-4a46-a07e-10e6f1d8b9ff",
     "showTitle": false,
     "tableResultSettingsMap": {},
     "title": ""
    }
   },
   "outputs": [
    {
     "name": "stdout",
     "output_type": "stream",
     "text": [
      "+----------+-------------------+-----+-----------+------+-----------+-------------------+------------------+--------------------+-----+--------+--------+------+-------------+--------------+--------------+\n",
      "|Order_Date|               Time|Aging|Customer_Id|Gender|Device_Type|Customer_Login_type|  Product_Category|             Product|Sales|Quantity|Discount|Profit|Shipping_Cost|Order_Priority|Payment_method|\n",
      "+----------+-------------------+-----+-----------+------+-----------+-------------------+------------------+--------------------+-----+--------+--------+------+-------------+--------------+--------------+\n",
      "|2018-01-02|2025-02-08 10:56:33|  8.0|      37077|Female|        Web|             Member|Auto & Accessories|   Car Media Players|140.0|     1.0|     0.3|  46.0|          4.6|        Medium|   credit_card|\n",
      "|2018-07-24|2025-02-08 20:41:37|  2.0|      59173|Female|        Web|             Member|Auto & Accessories|        Car Speakers|211.0|     1.0|     0.3| 112.0|         11.2|        Medium|   credit_card|\n",
      "|2018-11-08|2025-02-08 08:38:49|  8.0|      41066|Female|        Web|             Member|Auto & Accessories|     Car Body Covers|117.0|     5.0|     0.1|  31.2|          3.1|      Critical|   credit_card|\n",
      "|2018-04-18|2025-02-08 19:28:06|  7.0|      50741|Female|        Web|             Member|Auto & Accessories|     Car & Bike Care|118.0|     1.0|     0.3|  26.2|          2.6|          High|   credit_card|\n",
      "|2018-08-13|2025-02-08 21:18:39|  9.0|      53639|Female|        Web|             Member|Auto & Accessories|                Tyre|250.0|     1.0|     0.3| 160.0|         16.0|      Critical|   credit_card|\n",
      "|2018-07-09|2025-02-08 21:57:05|  8.0|      39783|Female|        Web|             Member|Auto & Accessories|          Bike Tyres| 72.0|     1.0|     0.3|  24.0|          2.4|      Critical|   credit_card|\n",
      "|2018-05-16|2025-02-08 13:10:30|  1.0|      26767|Female|        Web|             Member|Auto & Accessories|             Car Mat| 54.0|     1.0|     0.3|  54.0|          5.4|          High|   credit_card|\n",
      "|2018-06-23|2025-02-08 18:29:09|  7.0|      20719|Female|        Web|             Member|Auto & Accessories|     Car Seat Covers|114.0|     5.0|     0.2|  22.6|          2.3|      Critical|   credit_card|\n",
      "|2018-07-29|2025-02-08 11:55:02|  7.0|      46947|Female|        Web|             Member|Auto & Accessories|Car Pillow & Neck...|231.0|     5.0|     0.3| 116.4|         11.6|      Critical|   credit_card|\n",
      "|2018-05-16|2025-02-08 19:41:10| 10.0|      31839|Female|        Web|             Member|Auto & Accessories|   Car Media Players|140.0|     1.0|     0.2|  54.4|          5.4|      Critical|   money_order|\n",
      "|2018-07-13|2025-02-08 19:58:11| 10.0|      22249|Female|        Web|             Member|Auto & Accessories|        Car Speakers|211.0|     4.0|     0.1| 122.6|         12.3|      Critical|   credit_card|\n",
      "|2018-10-07|2025-02-08 10:06:19|  1.0|      15109|Female|        Web|             Member|Auto & Accessories|     Car Body Covers|117.0|     4.0|     0.3|  18.3|          1.8|          High|   credit_card|\n",
      "|2018-07-25|2025-02-08 17:44:10|  7.0|      18622|Female|        Web|             Member|Auto & Accessories|     Car & Bike Care|118.0|     1.0|     0.2|  35.6|          3.6|      Critical|   credit_card|\n",
      "|2018-12-01|2025-02-08 14:14:28|  5.0|      56296|Female|        Web|             Member|Auto & Accessories|                Tyre|250.0|     1.0|     0.3| 140.0|         14.0|          High|   credit_card|\n",
      "|2018-10-07|2025-02-08 19:03:12|  9.0|      34138|Female|        Web|             Member|Auto & Accessories|          Bike Tyres| 72.0|     4.0|     0.1|  18.0|          1.8|        Medium|   credit_card|\n",
      "|2018-06-02|2025-02-08 19:00:43| 10.0|      51112|Female|        Web|             Member|Auto & Accessories|             Car Mat| 54.0|     1.0|     0.1|  27.0|          2.7|      Critical|   credit_card|\n",
      "|2018-03-26|2025-02-08 23:41:31|  4.0|      57057|Female|        Web|             Member|Auto & Accessories|     Car Seat Covers|114.0|     1.0|     0.3|  22.6|          2.3|          High|   credit_card|\n",
      "|2018-04-21|2025-02-08 00:03:41|  7.0|      50942|Female|        Web|             Member|Auto & Accessories|Car Pillow & Neck...|231.0|     5.0|     0.3|  93.3|          9.3|          High|   credit_card|\n",
      "|2018-01-26|2025-02-08 15:54:26|  7.0|      42384|Female|        Web|             Member|Auto & Accessories|   Car Media Players|140.0|     1.0|     0.3|  46.0|          4.6|      Critical|   credit_card|\n",
      "|2018-02-18|2025-02-08 14:31:30|  6.0|      26127|Female|        Web|             Member|Auto & Accessories|        Car Speakers|211.0|     1.0|     0.2| 122.6|         12.3|      Critical|   credit_card|\n",
      "+----------+-------------------+-----+-----------+------+-----------+-------------------+------------------+--------------------+-----+--------+--------+------+-------------+--------------+--------------+\n",
      "only showing top 20 rows\n"
     ]
    }
   ],
   "source": [
    "df_filled = df.fillna({\"Gender\": \"Unknown\", \"Product_Category\": \"Other\"})\n",
    "df_filled.show()"
   ]
  },
  {
   "cell_type": "code",
   "execution_count": null,
   "metadata": {
    "application/vnd.databricks.v1+cell": {
     "cellMetadata": {
      "byteLimit": 2048000,
      "implicitDf": true,
      "rowLimit": 10000
     },
     "inputWidgets": {},
     "nuid": "c6c5fcf1-8c7f-4bad-8c28-8906120d82c0",
     "showTitle": false,
     "tableResultSettingsMap": {},
     "title": ""
    }
   },
   "outputs": [],
   "source": [
    "%sql\n",
    "SELECT \n",
    "    Customer_id,\n",
    "    COALESCE(Gender, 'Unknown') AS Gender,\n",
    "    COALESCE(Product_Category, 'Other') AS Product_Category,\n",
    "    COALESCE(Sales, 0) AS Sales,\n",
    "    COALESCE(Profit, (SELECT AVG(Profit) FROM `hive_metastore`.`default`.`e_commerce_dataset`)) AS Profit\n",
    "FROM `hive_metastore`.`default`.`e_commerce_dataset`;"
   ]
  },
  {
   "cell_type": "code",
   "execution_count": null,
   "metadata": {
    "application/vnd.databricks.v1+cell": {
     "cellMetadata": {
      "byteLimit": 2048000,
      "implicitDf": true,
      "rowLimit": 10000
     },
     "inputWidgets": {},
     "nuid": "5dd51aca-840c-4e58-8d29-9aec70605e8f",
     "showTitle": false,
     "tableResultSettingsMap": {},
     "title": ""
    }
   },
   "outputs": [
    {
     "data": {
      "text/html": [
       "<style scoped>\n",
       "  .table-result-container {\n",
       "    max-height: 300px;\n",
       "    overflow: auto;\n",
       "  }\n",
       "  table, th, td {\n",
       "    border: 1px solid black;\n",
       "    border-collapse: collapse;\n",
       "  }\n",
       "  th, td {\n",
       "    padding: 5px;\n",
       "  }\n",
       "  th {\n",
       "    text-align: left;\n",
       "  }\n",
       "</style><div class='table-result-container'><table class='table-result'><thead style='background-color: white'><tr><th>num_affected_rows</th><th>num_inserted_rows</th></tr></thead><tbody></tbody></table></div>"
      ]
     },
     "metadata": {
      "application/vnd.databricks.v1+output": {
       "addedWidgets": {},
       "aggData": [],
       "aggError": "",
       "aggOverflow": false,
       "aggSchema": [],
       "aggSeriesLimitReached": false,
       "aggType": "",
       "arguments": {},
       "columnCustomDisplayInfos": {},
       "data": [],
       "datasetInfos": [],
       "dbfsResultPath": null,
       "isJsonSchema": true,
       "metadata": {
        "createTempViewForImplicitDf": true,
        "dataframeName": "_sqldf",
        "executionCount": 32
       },
       "overflow": false,
       "plotOptions": {
        "customPlotOptions": {},
        "displayType": "table",
        "pivotAggregation": null,
        "pivotColumns": null,
        "xColumns": null,
        "yColumns": null
       },
       "removedWidgets": [],
       "schema": [
        {
         "metadata": "{}",
         "name": "num_affected_rows",
         "type": "\"long\""
        },
        {
         "metadata": "{}",
         "name": "num_inserted_rows",
         "type": "\"long\""
        }
       ],
       "type": "table"
      }
     },
     "output_type": "display_data"
    }
   ],
   "source": [
    "%sql\n",
    "CREATE TABLE IF NOT EXISTS `hive_metastore`.`default`.`e_commerce_cleaned` AS\n",
    "SELECT \n",
    "    Customer_id,\n",
    "    COALESCE(Gender, 'Unknown') AS Gender,\n",
    "    COALESCE(Product_Category, 'Other') AS Product_Category,\n",
    "    COALESCE(Sales, 0) AS Sales,\n",
    "    COALESCE(Profit, (SELECT AVG(Profit) FROM `hive_metastore`.`default`.`e_commerce_dataset`)) AS Profit\n",
    "FROM `hive_metastore`.`default`.`e_commerce_dataset`;"
   ]
  },
  {
   "cell_type": "code",
   "execution_count": null,
   "metadata": {
    "application/vnd.databricks.v1+cell": {
     "cellMetadata": {
      "byteLimit": 2048000,
      "implicitDf": true,
      "rowLimit": 10000
     },
     "inputWidgets": {},
     "nuid": "050f67c2-45f1-4ecd-84c2-32f678edb482",
     "showTitle": false,
     "tableResultSettingsMap": {},
     "title": ""
    }
   },
   "outputs": [
    {
     "data": {
      "text/html": [
       "<style scoped>\n",
       "  .table-result-container {\n",
       "    max-height: 300px;\n",
       "    overflow: auto;\n",
       "  }\n",
       "  table, th, td {\n",
       "    border: 1px solid black;\n",
       "    border-collapse: collapse;\n",
       "  }\n",
       "  th, td {\n",
       "    padding: 5px;\n",
       "  }\n",
       "  th {\n",
       "    text-align: left;\n",
       "  }\n",
       "</style><div class='table-result-container'><table class='table-result'><thead style='background-color: white'><tr><th>State</th><th>Total_Records</th><th>Missing_Sales</th><th>Missing_Profit</th></tr></thead><tbody><tr><td>Before Cleaning</td><td>51290</td><td>1</td><td>0</td></tr><tr><td>After Cleaning</td><td>51290</td><td>0</td><td>0</td></tr></tbody></table></div>"
      ]
     },
     "metadata": {
      "application/vnd.databricks.v1+output": {
       "addedWidgets": {},
       "aggData": [],
       "aggError": "",
       "aggOverflow": false,
       "aggSchema": [],
       "aggSeriesLimitReached": false,
       "aggType": "",
       "arguments": {},
       "columnCustomDisplayInfos": {},
       "data": [
        [
         "Before Cleaning",
         51290,
         1,
         0
        ],
        [
         "After Cleaning",
         51290,
         0,
         0
        ]
       ],
       "datasetInfos": [],
       "dbfsResultPath": null,
       "isJsonSchema": true,
       "metadata": {
        "createTempViewForImplicitDf": true,
        "dataframeName": "_sqldf",
        "executionCount": 33
       },
       "overflow": false,
       "plotOptions": {
        "customPlotOptions": {},
        "displayType": "table",
        "pivotAggregation": null,
        "pivotColumns": null,
        "xColumns": null,
        "yColumns": null
       },
       "removedWidgets": [],
       "schema": [
        {
         "metadata": "{}",
         "name": "State",
         "type": "\"string\""
        },
        {
         "metadata": "{}",
         "name": "Total_Records",
         "type": "\"long\""
        },
        {
         "metadata": "{}",
         "name": "Missing_Sales",
         "type": "\"long\""
        },
        {
         "metadata": "{}",
         "name": "Missing_Profit",
         "type": "\"long\""
        }
       ],
       "type": "table"
      }
     },
     "output_type": "display_data"
    }
   ],
   "source": [
    "%sql\n",
    "SELECT 'Before Cleaning' AS State, COUNT(*) AS Total_Records, \n",
    "    SUM(CASE WHEN Sales IS NULL THEN 1 ELSE 0 END) AS Missing_Sales,\n",
    "    SUM(CASE WHEN Profit IS NULL THEN 1 ELSE 0 END) AS Missing_Profit\n",
    "FROM `hive_metastore`.`default`.`e_commerce_dataset`\n",
    "UNION ALL\n",
    "SELECT 'After Cleaning' AS State, COUNT(*) AS Total_Records, \n",
    "    SUM(CASE WHEN Sales IS NULL THEN 1 ELSE 0 END) AS Missing_Sales,\n",
    "    SUM(CASE WHEN Profit IS NULL THEN 1 ELSE 0 END) AS Missing_Profit\n",
    "FROM `hive_metastore`.`default`.`e_commerce_cleaned`;"
   ]
  },
  {
   "cell_type": "code",
   "execution_count": null,
   "metadata": {
    "application/vnd.databricks.v1+cell": {
     "cellMetadata": {
      "byteLimit": 2048000,
      "implicitDf": true,
      "rowLimit": 10000
     },
     "inputWidgets": {},
     "nuid": "330cb1b2-a517-4e70-bff3-c58e5422a62a",
     "showTitle": false,
     "tableResultSettingsMap": {},
     "title": ""
    }
   },
   "outputs": [
    {
     "data": {
      "text/html": [
       "<style scoped>\n",
       "  .table-result-container {\n",
       "    max-height: 300px;\n",
       "    overflow: auto;\n",
       "  }\n",
       "  table, th, td {\n",
       "    border: 1px solid black;\n",
       "    border-collapse: collapse;\n",
       "  }\n",
       "  th, td {\n",
       "    padding: 5px;\n",
       "  }\n",
       "  th {\n",
       "    text-align: left;\n",
       "  }\n",
       "</style><div class='table-result-container'><table class='table-result'><thead style='background-color: white'><tr><th>Order_Date</th><th>Time</th><th>Aging</th><th>Customer_Id</th><th>Gender</th><th>Device_Type</th><th>Customer_Login_type</th><th>Product_Category</th><th>Product</th><th>Sales</th><th>Quantity</th><th>Discount</th><th>Profit</th><th>Shipping_Cost</th><th>Order_Priority</th><th>Payment_method</th><th>Order_Date_Standardized</th><th>Order_Date_Formatted</th></tr></thead><tbody><tr><td>2018-01-02</td><td>2025-02-08T10:56:33Z</td><td>8.0</td><td>37077</td><td>Female</td><td>Web</td><td>Member</td><td>Auto & Accessories</td><td>Car Media Players</td><td>140.0</td><td>1.0</td><td>0.3</td><td>46.0</td><td>4.6</td><td>Medium</td><td>credit_card</td><td>2018-01-02</td><td>2018-01-02</td></tr><tr><td>2018-07-24</td><td>2025-02-08T20:41:37Z</td><td>2.0</td><td>59173</td><td>Female</td><td>Web</td><td>Member</td><td>Auto & Accessories</td><td>Car Speakers</td><td>211.0</td><td>1.0</td><td>0.3</td><td>112.0</td><td>11.2</td><td>Medium</td><td>credit_card</td><td>2018-07-24</td><td>2018-07-24</td></tr><tr><td>2018-11-08</td><td>2025-02-08T08:38:49Z</td><td>8.0</td><td>41066</td><td>Female</td><td>Web</td><td>Member</td><td>Auto & Accessories</td><td>Car Body Covers</td><td>117.0</td><td>5.0</td><td>0.1</td><td>31.2</td><td>3.1</td><td>Critical</td><td>credit_card</td><td>2018-11-08</td><td>2018-11-08</td></tr><tr><td>2018-04-18</td><td>2025-02-08T19:28:06Z</td><td>7.0</td><td>50741</td><td>Female</td><td>Web</td><td>Member</td><td>Auto & Accessories</td><td>Car & Bike Care</td><td>118.0</td><td>1.0</td><td>0.3</td><td>26.2</td><td>2.6</td><td>High</td><td>credit_card</td><td>2018-04-18</td><td>2018-04-18</td></tr><tr><td>2018-08-13</td><td>2025-02-08T21:18:39Z</td><td>9.0</td><td>53639</td><td>Female</td><td>Web</td><td>Member</td><td>Auto & Accessories</td><td>Tyre</td><td>250.0</td><td>1.0</td><td>0.3</td><td>160.0</td><td>16.0</td><td>Critical</td><td>credit_card</td><td>2018-08-13</td><td>2018-08-13</td></tr><tr><td>2018-07-09</td><td>2025-02-08T21:57:05Z</td><td>8.0</td><td>39783</td><td>Female</td><td>Web</td><td>Member</td><td>Auto & Accessories</td><td>Bike Tyres</td><td>72.0</td><td>1.0</td><td>0.3</td><td>24.0</td><td>2.4</td><td>Critical</td><td>credit_card</td><td>2018-07-09</td><td>2018-07-09</td></tr><tr><td>2018-05-16</td><td>2025-02-08T13:10:30Z</td><td>1.0</td><td>26767</td><td>Female</td><td>Web</td><td>Member</td><td>Auto & Accessories</td><td>Car Mat</td><td>54.0</td><td>1.0</td><td>0.3</td><td>54.0</td><td>5.4</td><td>High</td><td>credit_card</td><td>2018-05-16</td><td>2018-05-16</td></tr><tr><td>2018-06-23</td><td>2025-02-08T18:29:09Z</td><td>7.0</td><td>20719</td><td>Female</td><td>Web</td><td>Member</td><td>Auto & Accessories</td><td>Car Seat Covers</td><td>114.0</td><td>5.0</td><td>0.2</td><td>22.6</td><td>2.3</td><td>Critical</td><td>credit_card</td><td>2018-06-23</td><td>2018-06-23</td></tr><tr><td>2018-07-29</td><td>2025-02-08T11:55:02Z</td><td>7.0</td><td>46947</td><td>Female</td><td>Web</td><td>Member</td><td>Auto & Accessories</td><td>Car Pillow & Neck Rest</td><td>231.0</td><td>5.0</td><td>0.3</td><td>116.4</td><td>11.6</td><td>Critical</td><td>credit_card</td><td>2018-07-29</td><td>2018-07-29</td></tr><tr><td>2018-05-16</td><td>2025-02-08T19:41:10Z</td><td>10.0</td><td>31839</td><td>Female</td><td>Web</td><td>Member</td><td>Auto & Accessories</td><td>Car Media Players</td><td>140.0</td><td>1.0</td><td>0.2</td><td>54.4</td><td>5.4</td><td>Critical</td><td>money_order</td><td>2018-05-16</td><td>2018-05-16</td></tr></tbody></table></div>"
      ]
     },
     "metadata": {
      "application/vnd.databricks.v1+output": {
       "addedWidgets": {},
       "aggData": [],
       "aggError": "",
       "aggOverflow": false,
       "aggSchema": [],
       "aggSeriesLimitReached": false,
       "aggType": "",
       "arguments": {},
       "columnCustomDisplayInfos": {},
       "data": [
        [
         "2018-01-02",
         "2025-02-08T10:56:33Z",
         8,
         37077,
         "Female",
         "Web",
         "Member",
         "Auto & Accessories",
         "Car Media Players",
         140,
         1,
         0.3,
         46,
         4.6,
         "Medium",
         "credit_card",
         "2018-01-02",
         "2018-01-02"
        ],
        [
         "2018-07-24",
         "2025-02-08T20:41:37Z",
         2,
         59173,
         "Female",
         "Web",
         "Member",
         "Auto & Accessories",
         "Car Speakers",
         211,
         1,
         0.3,
         112,
         11.2,
         "Medium",
         "credit_card",
         "2018-07-24",
         "2018-07-24"
        ],
        [
         "2018-11-08",
         "2025-02-08T08:38:49Z",
         8,
         41066,
         "Female",
         "Web",
         "Member",
         "Auto & Accessories",
         "Car Body Covers",
         117,
         5,
         0.1,
         31.2,
         3.1,
         "Critical",
         "credit_card",
         "2018-11-08",
         "2018-11-08"
        ],
        [
         "2018-04-18",
         "2025-02-08T19:28:06Z",
         7,
         50741,
         "Female",
         "Web",
         "Member",
         "Auto & Accessories",
         "Car & Bike Care",
         118,
         1,
         0.3,
         26.2,
         2.6,
         "High",
         "credit_card",
         "2018-04-18",
         "2018-04-18"
        ],
        [
         "2018-08-13",
         "2025-02-08T21:18:39Z",
         9,
         53639,
         "Female",
         "Web",
         "Member",
         "Auto & Accessories",
         "Tyre",
         250,
         1,
         0.3,
         160,
         16,
         "Critical",
         "credit_card",
         "2018-08-13",
         "2018-08-13"
        ],
        [
         "2018-07-09",
         "2025-02-08T21:57:05Z",
         8,
         39783,
         "Female",
         "Web",
         "Member",
         "Auto & Accessories",
         "Bike Tyres",
         72,
         1,
         0.3,
         24,
         2.4,
         "Critical",
         "credit_card",
         "2018-07-09",
         "2018-07-09"
        ],
        [
         "2018-05-16",
         "2025-02-08T13:10:30Z",
         1,
         26767,
         "Female",
         "Web",
         "Member",
         "Auto & Accessories",
         "Car Mat",
         54,
         1,
         0.3,
         54,
         5.4,
         "High",
         "credit_card",
         "2018-05-16",
         "2018-05-16"
        ],
        [
         "2018-06-23",
         "2025-02-08T18:29:09Z",
         7,
         20719,
         "Female",
         "Web",
         "Member",
         "Auto & Accessories",
         "Car Seat Covers",
         114,
         5,
         0.2,
         22.6,
         2.3,
         "Critical",
         "credit_card",
         "2018-06-23",
         "2018-06-23"
        ],
        [
         "2018-07-29",
         "2025-02-08T11:55:02Z",
         7,
         46947,
         "Female",
         "Web",
         "Member",
         "Auto & Accessories",
         "Car Pillow & Neck Rest",
         231,
         5,
         0.3,
         116.4,
         11.6,
         "Critical",
         "credit_card",
         "2018-07-29",
         "2018-07-29"
        ],
        [
         "2018-05-16",
         "2025-02-08T19:41:10Z",
         10,
         31839,
         "Female",
         "Web",
         "Member",
         "Auto & Accessories",
         "Car Media Players",
         140,
         1,
         0.2,
         54.4,
         5.4,
         "Critical",
         "money_order",
         "2018-05-16",
         "2018-05-16"
        ]
       ],
       "datasetInfos": [],
       "dbfsResultPath": null,
       "isJsonSchema": true,
       "metadata": {
        "createTempViewForImplicitDf": true,
        "dataframeName": "_sqldf",
        "executionCount": 105
       },
       "overflow": false,
       "plotOptions": {
        "customPlotOptions": {},
        "displayType": "table",
        "pivotAggregation": null,
        "pivotColumns": null,
        "xColumns": null,
        "yColumns": null
       },
       "removedWidgets": [],
       "schema": [
        {
         "metadata": "{\"__detected_date_formats\":\"yyyy-M-d\"}",
         "name": "Order_Date",
         "type": "\"date\""
        },
        {
         "metadata": "{}",
         "name": "Time",
         "type": "\"timestamp\""
        },
        {
         "metadata": "{}",
         "name": "Aging",
         "type": "\"double\""
        },
        {
         "metadata": "{}",
         "name": "Customer_Id",
         "type": "\"long\""
        },
        {
         "metadata": "{}",
         "name": "Gender",
         "type": "\"string\""
        },
        {
         "metadata": "{}",
         "name": "Device_Type",
         "type": "\"string\""
        },
        {
         "metadata": "{}",
         "name": "Customer_Login_type",
         "type": "\"string\""
        },
        {
         "metadata": "{}",
         "name": "Product_Category",
         "type": "\"string\""
        },
        {
         "metadata": "{}",
         "name": "Product",
         "type": "\"string\""
        },
        {
         "metadata": "{}",
         "name": "Sales",
         "type": "\"double\""
        },
        {
         "metadata": "{}",
         "name": "Quantity",
         "type": "\"double\""
        },
        {
         "metadata": "{}",
         "name": "Discount",
         "type": "\"double\""
        },
        {
         "metadata": "{}",
         "name": "Profit",
         "type": "\"double\""
        },
        {
         "metadata": "{}",
         "name": "Shipping_Cost",
         "type": "\"double\""
        },
        {
         "metadata": "{}",
         "name": "Order_Priority",
         "type": "\"string\""
        },
        {
         "metadata": "{}",
         "name": "Payment_method",
         "type": "\"string\""
        },
        {
         "metadata": "{}",
         "name": "Order_Date_Standardized",
         "type": "\"date\""
        },
        {
         "metadata": "{}",
         "name": "Order_Date_Formatted",
         "type": "\"date\""
        }
       ],
       "type": "table"
      }
     },
     "output_type": "display_data"
    }
   ],
   "source": [
    "%sql\n",
    "SELECT *, CAST(Order_Date AS DATE) AS Order_Date_Formatted\n",
    "FROM `hive_metastore`.`default`.`e_commerce_dataset`limit 10;"
   ]
  },
  {
   "cell_type": "code",
   "execution_count": null,
   "metadata": {
    "application/vnd.databricks.v1+cell": {
     "cellMetadata": {
      "byteLimit": 2048000,
      "implicitDf": true,
      "rowLimit": 10000
     },
     "inputWidgets": {},
     "nuid": "31bc6c89-2406-4c63-b849-b75a477f0b4d",
     "showTitle": false,
     "tableResultSettingsMap": {},
     "title": ""
    }
   },
   "outputs": [
    {
     "data": {
      "text/html": [
       "<style scoped>\n",
       "  .table-result-container {\n",
       "    max-height: 300px;\n",
       "    overflow: auto;\n",
       "  }\n",
       "  table, th, td {\n",
       "    border: 1px solid black;\n",
       "    border-collapse: collapse;\n",
       "  }\n",
       "  th, td {\n",
       "    padding: 5px;\n",
       "  }\n",
       "  th {\n",
       "    text-align: left;\n",
       "  }\n",
       "</style><div class='table-result-container'><table class='table-result'><thead style='background-color: white'><tr><th>Order_Date</th><th>Time</th><th>Aging</th><th>Customer_Id</th><th>Gender</th><th>Device_Type</th><th>Customer_Login_type</th><th>Product_Category</th><th>Product</th><th>Sales</th><th>Quantity</th><th>Discount</th><th>Profit</th><th>Shipping_Cost</th><th>Order_Priority</th><th>Payment_method</th><th>Order_Date_Standardized</th><th>Order_Year</th><th>Order_Month</th><th>Order_Day</th></tr></thead><tbody><tr><td>2018-01-02</td><td>2025-02-08T10:56:33Z</td><td>8.0</td><td>37077</td><td>Female</td><td>Web</td><td>Member</td><td>Auto & Accessories</td><td>Car Media Players</td><td>140.0</td><td>1.0</td><td>0.3</td><td>46.0</td><td>4.6</td><td>Medium</td><td>credit_card</td><td>2018-01-02</td><td>2018</td><td>1</td><td>2</td></tr><tr><td>2018-07-24</td><td>2025-02-08T20:41:37Z</td><td>2.0</td><td>59173</td><td>Female</td><td>Web</td><td>Member</td><td>Auto & Accessories</td><td>Car Speakers</td><td>211.0</td><td>1.0</td><td>0.3</td><td>112.0</td><td>11.2</td><td>Medium</td><td>credit_card</td><td>2018-07-24</td><td>2018</td><td>7</td><td>24</td></tr><tr><td>2018-11-08</td><td>2025-02-08T08:38:49Z</td><td>8.0</td><td>41066</td><td>Female</td><td>Web</td><td>Member</td><td>Auto & Accessories</td><td>Car Body Covers</td><td>117.0</td><td>5.0</td><td>0.1</td><td>31.2</td><td>3.1</td><td>Critical</td><td>credit_card</td><td>2018-11-08</td><td>2018</td><td>11</td><td>8</td></tr><tr><td>2018-04-18</td><td>2025-02-08T19:28:06Z</td><td>7.0</td><td>50741</td><td>Female</td><td>Web</td><td>Member</td><td>Auto & Accessories</td><td>Car & Bike Care</td><td>118.0</td><td>1.0</td><td>0.3</td><td>26.2</td><td>2.6</td><td>High</td><td>credit_card</td><td>2018-04-18</td><td>2018</td><td>4</td><td>18</td></tr><tr><td>2018-08-13</td><td>2025-02-08T21:18:39Z</td><td>9.0</td><td>53639</td><td>Female</td><td>Web</td><td>Member</td><td>Auto & Accessories</td><td>Tyre</td><td>250.0</td><td>1.0</td><td>0.3</td><td>160.0</td><td>16.0</td><td>Critical</td><td>credit_card</td><td>2018-08-13</td><td>2018</td><td>8</td><td>13</td></tr><tr><td>2018-07-09</td><td>2025-02-08T21:57:05Z</td><td>8.0</td><td>39783</td><td>Female</td><td>Web</td><td>Member</td><td>Auto & Accessories</td><td>Bike Tyres</td><td>72.0</td><td>1.0</td><td>0.3</td><td>24.0</td><td>2.4</td><td>Critical</td><td>credit_card</td><td>2018-07-09</td><td>2018</td><td>7</td><td>9</td></tr><tr><td>2018-05-16</td><td>2025-02-08T13:10:30Z</td><td>1.0</td><td>26767</td><td>Female</td><td>Web</td><td>Member</td><td>Auto & Accessories</td><td>Car Mat</td><td>54.0</td><td>1.0</td><td>0.3</td><td>54.0</td><td>5.4</td><td>High</td><td>credit_card</td><td>2018-05-16</td><td>2018</td><td>5</td><td>16</td></tr><tr><td>2018-06-23</td><td>2025-02-08T18:29:09Z</td><td>7.0</td><td>20719</td><td>Female</td><td>Web</td><td>Member</td><td>Auto & Accessories</td><td>Car Seat Covers</td><td>114.0</td><td>5.0</td><td>0.2</td><td>22.6</td><td>2.3</td><td>Critical</td><td>credit_card</td><td>2018-06-23</td><td>2018</td><td>6</td><td>23</td></tr><tr><td>2018-07-29</td><td>2025-02-08T11:55:02Z</td><td>7.0</td><td>46947</td><td>Female</td><td>Web</td><td>Member</td><td>Auto & Accessories</td><td>Car Pillow & Neck Rest</td><td>231.0</td><td>5.0</td><td>0.3</td><td>116.4</td><td>11.6</td><td>Critical</td><td>credit_card</td><td>2018-07-29</td><td>2018</td><td>7</td><td>29</td></tr><tr><td>2018-05-16</td><td>2025-02-08T19:41:10Z</td><td>10.0</td><td>31839</td><td>Female</td><td>Web</td><td>Member</td><td>Auto & Accessories</td><td>Car Media Players</td><td>140.0</td><td>1.0</td><td>0.2</td><td>54.4</td><td>5.4</td><td>Critical</td><td>money_order</td><td>2018-05-16</td><td>2018</td><td>5</td><td>16</td></tr></tbody></table></div>"
      ]
     },
     "metadata": {
      "application/vnd.databricks.v1+output": {
       "addedWidgets": {},
       "aggData": [],
       "aggError": "",
       "aggOverflow": false,
       "aggSchema": [],
       "aggSeriesLimitReached": false,
       "aggType": "",
       "arguments": {},
       "columnCustomDisplayInfos": {},
       "data": [
        [
         "2018-01-02",
         "2025-02-08T10:56:33Z",
         8,
         37077,
         "Female",
         "Web",
         "Member",
         "Auto & Accessories",
         "Car Media Players",
         140,
         1,
         0.3,
         46,
         4.6,
         "Medium",
         "credit_card",
         "2018-01-02",
         2018,
         1,
         2
        ],
        [
         "2018-07-24",
         "2025-02-08T20:41:37Z",
         2,
         59173,
         "Female",
         "Web",
         "Member",
         "Auto & Accessories",
         "Car Speakers",
         211,
         1,
         0.3,
         112,
         11.2,
         "Medium",
         "credit_card",
         "2018-07-24",
         2018,
         7,
         24
        ],
        [
         "2018-11-08",
         "2025-02-08T08:38:49Z",
         8,
         41066,
         "Female",
         "Web",
         "Member",
         "Auto & Accessories",
         "Car Body Covers",
         117,
         5,
         0.1,
         31.2,
         3.1,
         "Critical",
         "credit_card",
         "2018-11-08",
         2018,
         11,
         8
        ],
        [
         "2018-04-18",
         "2025-02-08T19:28:06Z",
         7,
         50741,
         "Female",
         "Web",
         "Member",
         "Auto & Accessories",
         "Car & Bike Care",
         118,
         1,
         0.3,
         26.2,
         2.6,
         "High",
         "credit_card",
         "2018-04-18",
         2018,
         4,
         18
        ],
        [
         "2018-08-13",
         "2025-02-08T21:18:39Z",
         9,
         53639,
         "Female",
         "Web",
         "Member",
         "Auto & Accessories",
         "Tyre",
         250,
         1,
         0.3,
         160,
         16,
         "Critical",
         "credit_card",
         "2018-08-13",
         2018,
         8,
         13
        ],
        [
         "2018-07-09",
         "2025-02-08T21:57:05Z",
         8,
         39783,
         "Female",
         "Web",
         "Member",
         "Auto & Accessories",
         "Bike Tyres",
         72,
         1,
         0.3,
         24,
         2.4,
         "Critical",
         "credit_card",
         "2018-07-09",
         2018,
         7,
         9
        ],
        [
         "2018-05-16",
         "2025-02-08T13:10:30Z",
         1,
         26767,
         "Female",
         "Web",
         "Member",
         "Auto & Accessories",
         "Car Mat",
         54,
         1,
         0.3,
         54,
         5.4,
         "High",
         "credit_card",
         "2018-05-16",
         2018,
         5,
         16
        ],
        [
         "2018-06-23",
         "2025-02-08T18:29:09Z",
         7,
         20719,
         "Female",
         "Web",
         "Member",
         "Auto & Accessories",
         "Car Seat Covers",
         114,
         5,
         0.2,
         22.6,
         2.3,
         "Critical",
         "credit_card",
         "2018-06-23",
         2018,
         6,
         23
        ],
        [
         "2018-07-29",
         "2025-02-08T11:55:02Z",
         7,
         46947,
         "Female",
         "Web",
         "Member",
         "Auto & Accessories",
         "Car Pillow & Neck Rest",
         231,
         5,
         0.3,
         116.4,
         11.6,
         "Critical",
         "credit_card",
         "2018-07-29",
         2018,
         7,
         29
        ],
        [
         "2018-05-16",
         "2025-02-08T19:41:10Z",
         10,
         31839,
         "Female",
         "Web",
         "Member",
         "Auto & Accessories",
         "Car Media Players",
         140,
         1,
         0.2,
         54.4,
         5.4,
         "Critical",
         "money_order",
         "2018-05-16",
         2018,
         5,
         16
        ]
       ],
       "datasetInfos": [],
       "dbfsResultPath": null,
       "isJsonSchema": true,
       "metadata": {
        "createTempViewForImplicitDf": true,
        "dataframeName": "_sqldf",
        "executionCount": 106
       },
       "overflow": false,
       "plotOptions": {
        "customPlotOptions": {},
        "displayType": "table",
        "pivotAggregation": null,
        "pivotColumns": null,
        "xColumns": null,
        "yColumns": null
       },
       "removedWidgets": [],
       "schema": [
        {
         "metadata": "{\"__detected_date_formats\":\"yyyy-M-d\"}",
         "name": "Order_Date",
         "type": "\"date\""
        },
        {
         "metadata": "{}",
         "name": "Time",
         "type": "\"timestamp\""
        },
        {
         "metadata": "{}",
         "name": "Aging",
         "type": "\"double\""
        },
        {
         "metadata": "{}",
         "name": "Customer_Id",
         "type": "\"long\""
        },
        {
         "metadata": "{}",
         "name": "Gender",
         "type": "\"string\""
        },
        {
         "metadata": "{}",
         "name": "Device_Type",
         "type": "\"string\""
        },
        {
         "metadata": "{}",
         "name": "Customer_Login_type",
         "type": "\"string\""
        },
        {
         "metadata": "{}",
         "name": "Product_Category",
         "type": "\"string\""
        },
        {
         "metadata": "{}",
         "name": "Product",
         "type": "\"string\""
        },
        {
         "metadata": "{}",
         "name": "Sales",
         "type": "\"double\""
        },
        {
         "metadata": "{}",
         "name": "Quantity",
         "type": "\"double\""
        },
        {
         "metadata": "{}",
         "name": "Discount",
         "type": "\"double\""
        },
        {
         "metadata": "{}",
         "name": "Profit",
         "type": "\"double\""
        },
        {
         "metadata": "{}",
         "name": "Shipping_Cost",
         "type": "\"double\""
        },
        {
         "metadata": "{}",
         "name": "Order_Priority",
         "type": "\"string\""
        },
        {
         "metadata": "{}",
         "name": "Payment_method",
         "type": "\"string\""
        },
        {
         "metadata": "{}",
         "name": "Order_Date_Standardized",
         "type": "\"date\""
        },
        {
         "metadata": "{}",
         "name": "Order_Year",
         "type": "\"integer\""
        },
        {
         "metadata": "{}",
         "name": "Order_Month",
         "type": "\"integer\""
        },
        {
         "metadata": "{}",
         "name": "Order_Day",
         "type": "\"integer\""
        }
       ],
       "type": "table"
      }
     },
     "output_type": "display_data"
    }
   ],
   "source": [
    "%sql\n",
    "SELECT *, \n",
    "    YEAR(Order_Date) AS Order_Year,\n",
    "    MONTH(Order_Date) AS Order_Month,\n",
    "    DAY(Order_Date) AS Order_Day\n",
    "FROM `hive_metastore`.`default`.`e_commerce_dataset`limit 10;"
   ]
  },
  {
   "cell_type": "code",
   "execution_count": null,
   "metadata": {
    "application/vnd.databricks.v1+cell": {
     "cellMetadata": {
      "byteLimit": 2048000,
      "implicitDf": true,
      "rowLimit": 10000
     },
     "inputWidgets": {},
     "nuid": "f6112562-031c-472f-b495-5cc82174feae",
     "showTitle": false,
     "tableResultSettingsMap": {},
     "title": ""
    }
   },
   "outputs": [
    {
     "data": {
      "text/html": [
       "<style scoped>\n",
       "  .table-result-container {\n",
       "    max-height: 300px;\n",
       "    overflow: auto;\n",
       "  }\n",
       "  table, th, td {\n",
       "    border: 1px solid black;\n",
       "    border-collapse: collapse;\n",
       "  }\n",
       "  th, td {\n",
       "    padding: 5px;\n",
       "  }\n",
       "  th {\n",
       "    text-align: left;\n",
       "  }\n",
       "</style><div class='table-result-container'><table class='table-result'><thead style='background-color: white'><tr><th>Order_Date</th><th>Time</th><th>Aging</th><th>Customer_Id</th><th>Gender</th><th>Device_Type</th><th>Customer_Login_type</th><th>Product_Category</th><th>Product</th><th>Sales</th><th>Quantity</th><th>Discount</th><th>Profit</th><th>Shipping_Cost</th><th>Order_Priority</th><th>Payment_method</th><th>Order_Date_Standardized</th><th>Profit_Margin</th></tr></thead><tbody><tr><td>2018-01-02</td><td>2025-02-08T10:56:33Z</td><td>8.0</td><td>37077</td><td>Female</td><td>Web</td><td>Member</td><td>Auto & Accessories</td><td>Car Media Players</td><td>140.0</td><td>1.0</td><td>0.3</td><td>46.0</td><td>4.6</td><td>Medium</td><td>credit_card</td><td>2018-01-02</td><td>32.857142857142854</td></tr><tr><td>2018-07-24</td><td>2025-02-08T20:41:37Z</td><td>2.0</td><td>59173</td><td>Female</td><td>Web</td><td>Member</td><td>Auto & Accessories</td><td>Car Speakers</td><td>211.0</td><td>1.0</td><td>0.3</td><td>112.0</td><td>11.2</td><td>Medium</td><td>credit_card</td><td>2018-07-24</td><td>53.08056872037915</td></tr><tr><td>2018-11-08</td><td>2025-02-08T08:38:49Z</td><td>8.0</td><td>41066</td><td>Female</td><td>Web</td><td>Member</td><td>Auto & Accessories</td><td>Car Body Covers</td><td>117.0</td><td>5.0</td><td>0.1</td><td>31.2</td><td>3.1</td><td>Critical</td><td>credit_card</td><td>2018-11-08</td><td>26.666666666666668</td></tr><tr><td>2018-04-18</td><td>2025-02-08T19:28:06Z</td><td>7.0</td><td>50741</td><td>Female</td><td>Web</td><td>Member</td><td>Auto & Accessories</td><td>Car & Bike Care</td><td>118.0</td><td>1.0</td><td>0.3</td><td>26.2</td><td>2.6</td><td>High</td><td>credit_card</td><td>2018-04-18</td><td>22.203389830508474</td></tr><tr><td>2018-08-13</td><td>2025-02-08T21:18:39Z</td><td>9.0</td><td>53639</td><td>Female</td><td>Web</td><td>Member</td><td>Auto & Accessories</td><td>Tyre</td><td>250.0</td><td>1.0</td><td>0.3</td><td>160.0</td><td>16.0</td><td>Critical</td><td>credit_card</td><td>2018-08-13</td><td>64.0</td></tr><tr><td>2018-07-09</td><td>2025-02-08T21:57:05Z</td><td>8.0</td><td>39783</td><td>Female</td><td>Web</td><td>Member</td><td>Auto & Accessories</td><td>Bike Tyres</td><td>72.0</td><td>1.0</td><td>0.3</td><td>24.0</td><td>2.4</td><td>Critical</td><td>credit_card</td><td>2018-07-09</td><td>33.33333333333333</td></tr><tr><td>2018-05-16</td><td>2025-02-08T13:10:30Z</td><td>1.0</td><td>26767</td><td>Female</td><td>Web</td><td>Member</td><td>Auto & Accessories</td><td>Car Mat</td><td>54.0</td><td>1.0</td><td>0.3</td><td>54.0</td><td>5.4</td><td>High</td><td>credit_card</td><td>2018-05-16</td><td>100.0</td></tr><tr><td>2018-06-23</td><td>2025-02-08T18:29:09Z</td><td>7.0</td><td>20719</td><td>Female</td><td>Web</td><td>Member</td><td>Auto & Accessories</td><td>Car Seat Covers</td><td>114.0</td><td>5.0</td><td>0.2</td><td>22.6</td><td>2.3</td><td>Critical</td><td>credit_card</td><td>2018-06-23</td><td>19.824561403508774</td></tr><tr><td>2018-07-29</td><td>2025-02-08T11:55:02Z</td><td>7.0</td><td>46947</td><td>Female</td><td>Web</td><td>Member</td><td>Auto & Accessories</td><td>Car Pillow & Neck Rest</td><td>231.0</td><td>5.0</td><td>0.3</td><td>116.4</td><td>11.6</td><td>Critical</td><td>credit_card</td><td>2018-07-29</td><td>50.3896103896104</td></tr><tr><td>2018-05-16</td><td>2025-02-08T19:41:10Z</td><td>10.0</td><td>31839</td><td>Female</td><td>Web</td><td>Member</td><td>Auto & Accessories</td><td>Car Media Players</td><td>140.0</td><td>1.0</td><td>0.2</td><td>54.4</td><td>5.4</td><td>Critical</td><td>money_order</td><td>2018-05-16</td><td>38.857142857142854</td></tr></tbody></table></div>"
      ]
     },
     "metadata": {
      "application/vnd.databricks.v1+output": {
       "addedWidgets": {},
       "aggData": [],
       "aggError": "",
       "aggOverflow": false,
       "aggSchema": [],
       "aggSeriesLimitReached": false,
       "aggType": "",
       "arguments": {},
       "columnCustomDisplayInfos": {},
       "data": [
        [
         "2018-01-02",
         "2025-02-08T10:56:33Z",
         8,
         37077,
         "Female",
         "Web",
         "Member",
         "Auto & Accessories",
         "Car Media Players",
         140,
         1,
         0.3,
         46,
         4.6,
         "Medium",
         "credit_card",
         "2018-01-02",
         32.857142857142854
        ],
        [
         "2018-07-24",
         "2025-02-08T20:41:37Z",
         2,
         59173,
         "Female",
         "Web",
         "Member",
         "Auto & Accessories",
         "Car Speakers",
         211,
         1,
         0.3,
         112,
         11.2,
         "Medium",
         "credit_card",
         "2018-07-24",
         53.08056872037915
        ],
        [
         "2018-11-08",
         "2025-02-08T08:38:49Z",
         8,
         41066,
         "Female",
         "Web",
         "Member",
         "Auto & Accessories",
         "Car Body Covers",
         117,
         5,
         0.1,
         31.2,
         3.1,
         "Critical",
         "credit_card",
         "2018-11-08",
         26.666666666666668
        ],
        [
         "2018-04-18",
         "2025-02-08T19:28:06Z",
         7,
         50741,
         "Female",
         "Web",
         "Member",
         "Auto & Accessories",
         "Car & Bike Care",
         118,
         1,
         0.3,
         26.2,
         2.6,
         "High",
         "credit_card",
         "2018-04-18",
         22.203389830508474
        ],
        [
         "2018-08-13",
         "2025-02-08T21:18:39Z",
         9,
         53639,
         "Female",
         "Web",
         "Member",
         "Auto & Accessories",
         "Tyre",
         250,
         1,
         0.3,
         160,
         16,
         "Critical",
         "credit_card",
         "2018-08-13",
         64
        ],
        [
         "2018-07-09",
         "2025-02-08T21:57:05Z",
         8,
         39783,
         "Female",
         "Web",
         "Member",
         "Auto & Accessories",
         "Bike Tyres",
         72,
         1,
         0.3,
         24,
         2.4,
         "Critical",
         "credit_card",
         "2018-07-09",
         33.33333333333333
        ],
        [
         "2018-05-16",
         "2025-02-08T13:10:30Z",
         1,
         26767,
         "Female",
         "Web",
         "Member",
         "Auto & Accessories",
         "Car Mat",
         54,
         1,
         0.3,
         54,
         5.4,
         "High",
         "credit_card",
         "2018-05-16",
         100
        ],
        [
         "2018-06-23",
         "2025-02-08T18:29:09Z",
         7,
         20719,
         "Female",
         "Web",
         "Member",
         "Auto & Accessories",
         "Car Seat Covers",
         114,
         5,
         0.2,
         22.6,
         2.3,
         "Critical",
         "credit_card",
         "2018-06-23",
         19.824561403508774
        ],
        [
         "2018-07-29",
         "2025-02-08T11:55:02Z",
         7,
         46947,
         "Female",
         "Web",
         "Member",
         "Auto & Accessories",
         "Car Pillow & Neck Rest",
         231,
         5,
         0.3,
         116.4,
         11.6,
         "Critical",
         "credit_card",
         "2018-07-29",
         50.3896103896104
        ],
        [
         "2018-05-16",
         "2025-02-08T19:41:10Z",
         10,
         31839,
         "Female",
         "Web",
         "Member",
         "Auto & Accessories",
         "Car Media Players",
         140,
         1,
         0.2,
         54.4,
         5.4,
         "Critical",
         "money_order",
         "2018-05-16",
         38.857142857142854
        ]
       ],
       "datasetInfos": [],
       "dbfsResultPath": null,
       "isJsonSchema": true,
       "metadata": {
        "createTempViewForImplicitDf": true,
        "dataframeName": "_sqldf",
        "executionCount": 107
       },
       "overflow": false,
       "plotOptions": {
        "customPlotOptions": {},
        "displayType": "table",
        "pivotAggregation": null,
        "pivotColumns": null,
        "xColumns": null,
        "yColumns": null
       },
       "removedWidgets": [],
       "schema": [
        {
         "metadata": "{\"__detected_date_formats\":\"yyyy-M-d\"}",
         "name": "Order_Date",
         "type": "\"date\""
        },
        {
         "metadata": "{}",
         "name": "Time",
         "type": "\"timestamp\""
        },
        {
         "metadata": "{}",
         "name": "Aging",
         "type": "\"double\""
        },
        {
         "metadata": "{}",
         "name": "Customer_Id",
         "type": "\"long\""
        },
        {
         "metadata": "{}",
         "name": "Gender",
         "type": "\"string\""
        },
        {
         "metadata": "{}",
         "name": "Device_Type",
         "type": "\"string\""
        },
        {
         "metadata": "{}",
         "name": "Customer_Login_type",
         "type": "\"string\""
        },
        {
         "metadata": "{}",
         "name": "Product_Category",
         "type": "\"string\""
        },
        {
         "metadata": "{}",
         "name": "Product",
         "type": "\"string\""
        },
        {
         "metadata": "{}",
         "name": "Sales",
         "type": "\"double\""
        },
        {
         "metadata": "{}",
         "name": "Quantity",
         "type": "\"double\""
        },
        {
         "metadata": "{}",
         "name": "Discount",
         "type": "\"double\""
        },
        {
         "metadata": "{}",
         "name": "Profit",
         "type": "\"double\""
        },
        {
         "metadata": "{}",
         "name": "Shipping_Cost",
         "type": "\"double\""
        },
        {
         "metadata": "{}",
         "name": "Order_Priority",
         "type": "\"string\""
        },
        {
         "metadata": "{}",
         "name": "Payment_method",
         "type": "\"string\""
        },
        {
         "metadata": "{}",
         "name": "Order_Date_Standardized",
         "type": "\"date\""
        },
        {
         "metadata": "{}",
         "name": "Profit_Margin",
         "type": "\"double\""
        }
       ],
       "type": "table"
      }
     },
     "output_type": "display_data"
    }
   ],
   "source": [
    "%sql\n",
    "SELECT *, \n",
    "    CASE \n",
    "        WHEN Sales > 0 THEN (Profit / Sales) * 100 \n",
    "        ELSE 0 \n",
    "    END AS Profit_Margin\n",
    "FROM `hive_metastore`.`default`.`e_commerce_dataset`limit 10;"
   ]
  },
  {
   "cell_type": "code",
   "execution_count": null,
   "metadata": {
    "application/vnd.databricks.v1+cell": {
     "cellMetadata": {
      "byteLimit": 2048000,
      "implicitDf": true,
      "rowLimit": 10000
     },
     "inputWidgets": {},
     "nuid": "42063f55-5725-4e39-912e-e823ccd16632",
     "showTitle": false,
     "tableResultSettingsMap": {},
     "title": ""
    }
   },
   "outputs": [
    {
     "data": {
      "text/html": [
       "<style scoped>\n",
       "  .table-result-container {\n",
       "    max-height: 300px;\n",
       "    overflow: auto;\n",
       "  }\n",
       "  table, th, td {\n",
       "    border: 1px solid black;\n",
       "    border-collapse: collapse;\n",
       "  }\n",
       "  th, td {\n",
       "    padding: 5px;\n",
       "  }\n",
       "  th {\n",
       "    text-align: left;\n",
       "  }\n",
       "</style><div class='table-result-container'><table class='table-result'><thead style='background-color: white'><tr><th>Order_Date</th><th>Time</th><th>Aging</th><th>Customer_Id</th><th>Gender</th><th>Device_Type</th><th>Customer_Login_type</th><th>Product_Category</th><th>Product</th><th>Sales</th><th>Quantity</th><th>Discount</th><th>Profit</th><th>Shipping_Cost</th><th>Order_Priority</th><th>Payment_method</th><th>Order_Date_Standardized</th><th>Sales_Category</th></tr></thead><tbody><tr><td>2018-01-02</td><td>2025-02-08T10:56:33Z</td><td>8.0</td><td>37077</td><td>Female</td><td>Web</td><td>Member</td><td>Auto & Accessories</td><td>Car Media Players</td><td>140.0</td><td>1.0</td><td>0.3</td><td>46.0</td><td>4.6</td><td>Medium</td><td>credit_card</td><td>2018-01-02</td><td>Medium</td></tr><tr><td>2018-07-24</td><td>2025-02-08T20:41:37Z</td><td>2.0</td><td>59173</td><td>Female</td><td>Web</td><td>Member</td><td>Auto & Accessories</td><td>Car Speakers</td><td>211.0</td><td>1.0</td><td>0.3</td><td>112.0</td><td>11.2</td><td>Medium</td><td>credit_card</td><td>2018-07-24</td><td>High</td></tr><tr><td>2018-11-08</td><td>2025-02-08T08:38:49Z</td><td>8.0</td><td>41066</td><td>Female</td><td>Web</td><td>Member</td><td>Auto & Accessories</td><td>Car Body Covers</td><td>117.0</td><td>5.0</td><td>0.1</td><td>31.2</td><td>3.1</td><td>Critical</td><td>credit_card</td><td>2018-11-08</td><td>Medium</td></tr><tr><td>2018-04-18</td><td>2025-02-08T19:28:06Z</td><td>7.0</td><td>50741</td><td>Female</td><td>Web</td><td>Member</td><td>Auto & Accessories</td><td>Car & Bike Care</td><td>118.0</td><td>1.0</td><td>0.3</td><td>26.2</td><td>2.6</td><td>High</td><td>credit_card</td><td>2018-04-18</td><td>Medium</td></tr><tr><td>2018-08-13</td><td>2025-02-08T21:18:39Z</td><td>9.0</td><td>53639</td><td>Female</td><td>Web</td><td>Member</td><td>Auto & Accessories</td><td>Tyre</td><td>250.0</td><td>1.0</td><td>0.3</td><td>160.0</td><td>16.0</td><td>Critical</td><td>credit_card</td><td>2018-08-13</td><td>High</td></tr><tr><td>2018-07-09</td><td>2025-02-08T21:57:05Z</td><td>8.0</td><td>39783</td><td>Female</td><td>Web</td><td>Member</td><td>Auto & Accessories</td><td>Bike Tyres</td><td>72.0</td><td>1.0</td><td>0.3</td><td>24.0</td><td>2.4</td><td>Critical</td><td>credit_card</td><td>2018-07-09</td><td>Medium</td></tr><tr><td>2018-05-16</td><td>2025-02-08T13:10:30Z</td><td>1.0</td><td>26767</td><td>Female</td><td>Web</td><td>Member</td><td>Auto & Accessories</td><td>Car Mat</td><td>54.0</td><td>1.0</td><td>0.3</td><td>54.0</td><td>5.4</td><td>High</td><td>credit_card</td><td>2018-05-16</td><td>Medium</td></tr><tr><td>2018-06-23</td><td>2025-02-08T18:29:09Z</td><td>7.0</td><td>20719</td><td>Female</td><td>Web</td><td>Member</td><td>Auto & Accessories</td><td>Car Seat Covers</td><td>114.0</td><td>5.0</td><td>0.2</td><td>22.6</td><td>2.3</td><td>Critical</td><td>credit_card</td><td>2018-06-23</td><td>Medium</td></tr><tr><td>2018-07-29</td><td>2025-02-08T11:55:02Z</td><td>7.0</td><td>46947</td><td>Female</td><td>Web</td><td>Member</td><td>Auto & Accessories</td><td>Car Pillow & Neck Rest</td><td>231.0</td><td>5.0</td><td>0.3</td><td>116.4</td><td>11.6</td><td>Critical</td><td>credit_card</td><td>2018-07-29</td><td>High</td></tr><tr><td>2018-05-16</td><td>2025-02-08T19:41:10Z</td><td>10.0</td><td>31839</td><td>Female</td><td>Web</td><td>Member</td><td>Auto & Accessories</td><td>Car Media Players</td><td>140.0</td><td>1.0</td><td>0.2</td><td>54.4</td><td>5.4</td><td>Critical</td><td>money_order</td><td>2018-05-16</td><td>Medium</td></tr></tbody></table></div>"
      ]
     },
     "metadata": {
      "application/vnd.databricks.v1+output": {
       "addedWidgets": {},
       "aggData": [],
       "aggError": "",
       "aggOverflow": false,
       "aggSchema": [],
       "aggSeriesLimitReached": false,
       "aggType": "",
       "arguments": {},
       "columnCustomDisplayInfos": {},
       "data": [
        [
         "2018-01-02",
         "2025-02-08T10:56:33Z",
         8,
         37077,
         "Female",
         "Web",
         "Member",
         "Auto & Accessories",
         "Car Media Players",
         140,
         1,
         0.3,
         46,
         4.6,
         "Medium",
         "credit_card",
         "2018-01-02",
         "Medium"
        ],
        [
         "2018-07-24",
         "2025-02-08T20:41:37Z",
         2,
         59173,
         "Female",
         "Web",
         "Member",
         "Auto & Accessories",
         "Car Speakers",
         211,
         1,
         0.3,
         112,
         11.2,
         "Medium",
         "credit_card",
         "2018-07-24",
         "High"
        ],
        [
         "2018-11-08",
         "2025-02-08T08:38:49Z",
         8,
         41066,
         "Female",
         "Web",
         "Member",
         "Auto & Accessories",
         "Car Body Covers",
         117,
         5,
         0.1,
         31.2,
         3.1,
         "Critical",
         "credit_card",
         "2018-11-08",
         "Medium"
        ],
        [
         "2018-04-18",
         "2025-02-08T19:28:06Z",
         7,
         50741,
         "Female",
         "Web",
         "Member",
         "Auto & Accessories",
         "Car & Bike Care",
         118,
         1,
         0.3,
         26.2,
         2.6,
         "High",
         "credit_card",
         "2018-04-18",
         "Medium"
        ],
        [
         "2018-08-13",
         "2025-02-08T21:18:39Z",
         9,
         53639,
         "Female",
         "Web",
         "Member",
         "Auto & Accessories",
         "Tyre",
         250,
         1,
         0.3,
         160,
         16,
         "Critical",
         "credit_card",
         "2018-08-13",
         "High"
        ],
        [
         "2018-07-09",
         "2025-02-08T21:57:05Z",
         8,
         39783,
         "Female",
         "Web",
         "Member",
         "Auto & Accessories",
         "Bike Tyres",
         72,
         1,
         0.3,
         24,
         2.4,
         "Critical",
         "credit_card",
         "2018-07-09",
         "Medium"
        ],
        [
         "2018-05-16",
         "2025-02-08T13:10:30Z",
         1,
         26767,
         "Female",
         "Web",
         "Member",
         "Auto & Accessories",
         "Car Mat",
         54,
         1,
         0.3,
         54,
         5.4,
         "High",
         "credit_card",
         "2018-05-16",
         "Medium"
        ],
        [
         "2018-06-23",
         "2025-02-08T18:29:09Z",
         7,
         20719,
         "Female",
         "Web",
         "Member",
         "Auto & Accessories",
         "Car Seat Covers",
         114,
         5,
         0.2,
         22.6,
         2.3,
         "Critical",
         "credit_card",
         "2018-06-23",
         "Medium"
        ],
        [
         "2018-07-29",
         "2025-02-08T11:55:02Z",
         7,
         46947,
         "Female",
         "Web",
         "Member",
         "Auto & Accessories",
         "Car Pillow & Neck Rest",
         231,
         5,
         0.3,
         116.4,
         11.6,
         "Critical",
         "credit_card",
         "2018-07-29",
         "High"
        ],
        [
         "2018-05-16",
         "2025-02-08T19:41:10Z",
         10,
         31839,
         "Female",
         "Web",
         "Member",
         "Auto & Accessories",
         "Car Media Players",
         140,
         1,
         0.2,
         54.4,
         5.4,
         "Critical",
         "money_order",
         "2018-05-16",
         "Medium"
        ]
       ],
       "datasetInfos": [],
       "dbfsResultPath": null,
       "isJsonSchema": true,
       "metadata": {
        "createTempViewForImplicitDf": true,
        "dataframeName": "_sqldf",
        "executionCount": 108
       },
       "overflow": false,
       "plotOptions": {
        "customPlotOptions": {},
        "displayType": "table",
        "pivotAggregation": null,
        "pivotColumns": null,
        "xColumns": null,
        "yColumns": null
       },
       "removedWidgets": [],
       "schema": [
        {
         "metadata": "{\"__detected_date_formats\":\"yyyy-M-d\"}",
         "name": "Order_Date",
         "type": "\"date\""
        },
        {
         "metadata": "{}",
         "name": "Time",
         "type": "\"timestamp\""
        },
        {
         "metadata": "{}",
         "name": "Aging",
         "type": "\"double\""
        },
        {
         "metadata": "{}",
         "name": "Customer_Id",
         "type": "\"long\""
        },
        {
         "metadata": "{}",
         "name": "Gender",
         "type": "\"string\""
        },
        {
         "metadata": "{}",
         "name": "Device_Type",
         "type": "\"string\""
        },
        {
         "metadata": "{}",
         "name": "Customer_Login_type",
         "type": "\"string\""
        },
        {
         "metadata": "{}",
         "name": "Product_Category",
         "type": "\"string\""
        },
        {
         "metadata": "{}",
         "name": "Product",
         "type": "\"string\""
        },
        {
         "metadata": "{}",
         "name": "Sales",
         "type": "\"double\""
        },
        {
         "metadata": "{}",
         "name": "Quantity",
         "type": "\"double\""
        },
        {
         "metadata": "{}",
         "name": "Discount",
         "type": "\"double\""
        },
        {
         "metadata": "{}",
         "name": "Profit",
         "type": "\"double\""
        },
        {
         "metadata": "{}",
         "name": "Shipping_Cost",
         "type": "\"double\""
        },
        {
         "metadata": "{}",
         "name": "Order_Priority",
         "type": "\"string\""
        },
        {
         "metadata": "{}",
         "name": "Payment_method",
         "type": "\"string\""
        },
        {
         "metadata": "{}",
         "name": "Order_Date_Standardized",
         "type": "\"date\""
        },
        {
         "metadata": "{}",
         "name": "Sales_Category",
         "type": "\"string\""
        }
       ],
       "type": "table"
      }
     },
     "output_type": "display_data"
    }
   ],
   "source": [
    "%sql\n",
    "SELECT *, \n",
    "    CASE \n",
    "        WHEN Sales < 50 THEN 'Low'\n",
    "        WHEN Sales BETWEEN 50 AND 200 THEN 'Medium'\n",
    "        ELSE 'High'\n",
    "    END AS Sales_Category\n",
    "FROM `hive_metastore`.`default`.`e_commerce_dataset`limit 10;\n"
   ]
  },
  {
   "cell_type": "code",
   "execution_count": null,
   "metadata": {
    "application/vnd.databricks.v1+cell": {
     "cellMetadata": {
      "byteLimit": 2048000,
      "implicitDf": true,
      "rowLimit": 10000
     },
     "inputWidgets": {},
     "nuid": "82caa8bb-391c-4b49-898c-6da905f6001d",
     "showTitle": false,
     "tableResultSettingsMap": {},
     "title": ""
    }
   },
   "outputs": [
    {
     "data": {
      "text/html": [
       "<style scoped>\n",
       "  .table-result-container {\n",
       "    max-height: 300px;\n",
       "    overflow: auto;\n",
       "  }\n",
       "  table, th, td {\n",
       "    border: 1px solid black;\n",
       "    border-collapse: collapse;\n",
       "  }\n",
       "  th, td {\n",
       "    padding: 5px;\n",
       "  }\n",
       "  th {\n",
       "    text-align: left;\n",
       "  }\n",
       "</style><div class='table-result-container'><table class='table-result'><thead style='background-color: white'><tr><th>num_affected_rows</th><th>num_inserted_rows</th></tr></thead><tbody></tbody></table></div>"
      ]
     },
     "metadata": {
      "application/vnd.databricks.v1+output": {
       "addedWidgets": {},
       "aggData": [],
       "aggError": "",
       "aggOverflow": false,
       "aggSchema": [],
       "aggSeriesLimitReached": false,
       "aggType": "",
       "arguments": {},
       "columnCustomDisplayInfos": {},
       "data": [],
       "datasetInfos": [],
       "dbfsResultPath": null,
       "isJsonSchema": true,
       "metadata": {
        "createTempViewForImplicitDf": true,
        "dataframeName": "_sqldf",
        "executionCount": 38
       },
       "overflow": false,
       "plotOptions": {
        "customPlotOptions": {},
        "displayType": "table",
        "pivotAggregation": null,
        "pivotColumns": null,
        "xColumns": null,
        "yColumns": null
       },
       "removedWidgets": [],
       "schema": [
        {
         "metadata": "{}",
         "name": "num_affected_rows",
         "type": "\"long\""
        },
        {
         "metadata": "{}",
         "name": "num_inserted_rows",
         "type": "\"long\""
        }
       ],
       "type": "table"
      }
     },
     "output_type": "display_data"
    }
   ],
   "source": [
    "%sql\n",
    "CREATE TABLE IF NOT EXISTS `hive_metastore`.`default`.`e_commerce_transformed` AS\n",
    "SELECT \n",
    "    Customer_id,\n",
    "    COALESCE(Gender, 'Unknown') AS Gender,\n",
    "    COALESCE(Product_Category, 'Other') AS Product_Category,\n",
    "    COALESCE(Sales, 0) AS Sales,\n",
    "    COALESCE(Profit, (SELECT AVG(Profit) FROM `hive_metastore`.`default`.`e_commerce_dataset`)) AS Profit,\n",
    "    CAST(Order_Date AS DATE) AS Order_Date_Formatted,\n",
    "    YEAR(Order_Date) AS Order_Year,\n",
    "    MONTH(Order_Date) AS Order_Month,\n",
    "    DAY(Order_Date) AS Order_Day,\n",
    "    CASE WHEN Sales > 0 THEN (Profit / Sales) * 100 ELSE 0 END AS Profit_Margin,\n",
    "    CASE \n",
    "        WHEN Sales < 50 THEN 'Low'\n",
    "        WHEN Sales BETWEEN 50 AND 200 THEN 'Medium'\n",
    "        ELSE 'High'\n",
    "    END AS Sales_Category\n",
    "FROM `hive_metastore`.`default`.`e_commerce_dataset`;"
   ]
  },
  {
   "cell_type": "code",
   "execution_count": null,
   "metadata": {
    "application/vnd.databricks.v1+cell": {
     "cellMetadata": {
      "byteLimit": 2048000,
      "implicitDf": true,
      "rowLimit": 10000
     },
     "inputWidgets": {},
     "nuid": "5e0660e9-68ee-4950-ab21-5858b66dfa50",
     "showTitle": false,
     "tableResultSettingsMap": {},
     "title": ""
    }
   },
   "outputs": [
    {
     "data": {
      "text/html": [
       "<style scoped>\n",
       "  .table-result-container {\n",
       "    max-height: 300px;\n",
       "    overflow: auto;\n",
       "  }\n",
       "  table, th, td {\n",
       "    border: 1px solid black;\n",
       "    border-collapse: collapse;\n",
       "  }\n",
       "  th, td {\n",
       "    padding: 5px;\n",
       "  }\n",
       "  th {\n",
       "    text-align: left;\n",
       "  }\n",
       "</style><div class='table-result-container'><table class='table-result'><thead style='background-color: white'><tr><th>total_records_after_transformation</th></tr></thead><tbody><tr><td>51290</td></tr></tbody></table></div>"
      ]
     },
     "metadata": {
      "application/vnd.databricks.v1+output": {
       "addedWidgets": {},
       "aggData": [],
       "aggError": "",
       "aggOverflow": false,
       "aggSchema": [],
       "aggSeriesLimitReached": false,
       "aggType": "",
       "arguments": {},
       "columnCustomDisplayInfos": {},
       "data": [
        [
         51290
        ]
       ],
       "datasetInfos": [],
       "dbfsResultPath": null,
       "isJsonSchema": true,
       "metadata": {
        "createTempViewForImplicitDf": true,
        "dataframeName": "_sqldf",
        "executionCount": 39
       },
       "overflow": false,
       "plotOptions": {
        "customPlotOptions": {},
        "displayType": "table",
        "pivotAggregation": null,
        "pivotColumns": null,
        "xColumns": null,
        "yColumns": null
       },
       "removedWidgets": [],
       "schema": [
        {
         "metadata": "{}",
         "name": "total_records_after_transformation",
         "type": "\"long\""
        }
       ],
       "type": "table"
      }
     },
     "output_type": "display_data"
    }
   ],
   "source": [
    "%sql\n",
    "SELECT COUNT(*) AS total_records_after_transformation FROM `hive_metastore`.`default`.`e_commerce_transformed`;\n"
   ]
  },
  {
   "cell_type": "code",
   "execution_count": null,
   "metadata": {
    "application/vnd.databricks.v1+cell": {
     "cellMetadata": {
      "byteLimit": 2048000,
      "implicitDf": true,
      "rowLimit": 10000
     },
     "inputWidgets": {},
     "nuid": "7b1d0fc9-ca20-4d78-aae9-7788d6a0e7b1",
     "showTitle": false,
     "tableResultSettingsMap": {},
     "title": ""
    }
   },
   "outputs": [
    {
     "data": {
      "text/html": [
       "<style scoped>\n",
       "  .table-result-container {\n",
       "    max-height: 300px;\n",
       "    overflow: auto;\n",
       "  }\n",
       "  table, th, td {\n",
       "    border: 1px solid black;\n",
       "    border-collapse: collapse;\n",
       "  }\n",
       "  th, td {\n",
       "    padding: 5px;\n",
       "  }\n",
       "  th {\n",
       "    text-align: left;\n",
       "  }\n",
       "</style><div class='table-result-container'><table class='table-result'><thead style='background-color: white'><tr><th>State</th><th>Total_Records</th></tr></thead><tbody><tr><td>Before Transformation</td><td>51290</td></tr><tr><td>After Transformation</td><td>51290</td></tr></tbody></table></div>"
      ]
     },
     "metadata": {
      "application/vnd.databricks.v1+output": {
       "addedWidgets": {},
       "aggData": [],
       "aggError": "",
       "aggOverflow": false,
       "aggSchema": [],
       "aggSeriesLimitReached": false,
       "aggType": "",
       "arguments": {},
       "columnCustomDisplayInfos": {},
       "data": [
        [
         "Before Transformation",
         51290
        ],
        [
         "After Transformation",
         51290
        ]
       ],
       "datasetInfos": [],
       "dbfsResultPath": null,
       "isJsonSchema": true,
       "metadata": {
        "createTempViewForImplicitDf": true,
        "dataframeName": "_sqldf",
        "executionCount": 40
       },
       "overflow": false,
       "plotOptions": {
        "customPlotOptions": {},
        "displayType": "table",
        "pivotAggregation": null,
        "pivotColumns": null,
        "xColumns": null,
        "yColumns": null
       },
       "removedWidgets": [],
       "schema": [
        {
         "metadata": "{}",
         "name": "State",
         "type": "\"string\""
        },
        {
         "metadata": "{}",
         "name": "Total_Records",
         "type": "\"long\""
        }
       ],
       "type": "table"
      }
     },
     "output_type": "display_data"
    }
   ],
   "source": [
    "%sql\n",
    "SELECT 'Before Transformation' AS State, COUNT(*) AS Total_Records FROM `hive_metastore`.`default`.`e_commerce_dataset`\n",
    "UNION ALL\n",
    "SELECT 'After Transformation' AS State, COUNT(*) AS Total_Records FROM `hive_metastore`.`default`.`e_commerce_transformed`;\n"
   ]
  },
  {
   "cell_type": "code",
   "execution_count": null,
   "metadata": {
    "application/vnd.databricks.v1+cell": {
     "cellMetadata": {
      "byteLimit": 2048000,
      "implicitDf": true,
      "rowLimit": 10000
     },
     "inputWidgets": {},
     "nuid": "d434b196-6ef2-42e1-8971-127205f694e2",
     "showTitle": false,
     "tableResultSettingsMap": {},
     "title": ""
    }
   },
   "outputs": [
    {
     "data": {
      "text/html": [
       "<style scoped>\n",
       "  .table-result-container {\n",
       "    max-height: 300px;\n",
       "    overflow: auto;\n",
       "  }\n",
       "  table, th, td {\n",
       "    border: 1px solid black;\n",
       "    border-collapse: collapse;\n",
       "  }\n",
       "  th, td {\n",
       "    padding: 5px;\n",
       "  }\n",
       "  th {\n",
       "    text-align: left;\n",
       "  }\n",
       "</style><div class='table-result-container'><table class='table-result'><thead style='background-color: white'><tr><th>Order_Date</th><th>Order_Date_Standardized</th></tr></thead><tbody><tr><td>2018-01-02</td><td>2018-01-02</td></tr><tr><td>2018-07-24</td><td>2018-07-24</td></tr><tr><td>2018-11-08</td><td>2018-11-08</td></tr><tr><td>2018-04-18</td><td>2018-04-18</td></tr><tr><td>2018-08-13</td><td>2018-08-13</td></tr><tr><td>2018-07-09</td><td>2018-07-09</td></tr><tr><td>2018-05-16</td><td>2018-05-16</td></tr><tr><td>2018-06-23</td><td>2018-06-23</td></tr><tr><td>2018-07-29</td><td>2018-07-29</td></tr><tr><td>2018-05-16</td><td>2018-05-16</td></tr></tbody></table></div>"
      ]
     },
     "metadata": {
      "application/vnd.databricks.v1+output": {
       "addedWidgets": {},
       "aggData": [],
       "aggError": "",
       "aggOverflow": false,
       "aggSchema": [],
       "aggSeriesLimitReached": false,
       "aggType": "",
       "arguments": {},
       "columnCustomDisplayInfos": {},
       "data": [
        [
         "2018-01-02",
         "2018-01-02"
        ],
        [
         "2018-07-24",
         "2018-07-24"
        ],
        [
         "2018-11-08",
         "2018-11-08"
        ],
        [
         "2018-04-18",
         "2018-04-18"
        ],
        [
         "2018-08-13",
         "2018-08-13"
        ],
        [
         "2018-07-09",
         "2018-07-09"
        ],
        [
         "2018-05-16",
         "2018-05-16"
        ],
        [
         "2018-06-23",
         "2018-06-23"
        ],
        [
         "2018-07-29",
         "2018-07-29"
        ],
        [
         "2018-05-16",
         "2018-05-16"
        ]
       ],
       "datasetInfos": [],
       "dbfsResultPath": null,
       "isJsonSchema": true,
       "metadata": {
        "createTempViewForImplicitDf": true,
        "dataframeName": "_sqldf",
        "executionCount": 109
       },
       "overflow": false,
       "plotOptions": {
        "customPlotOptions": {},
        "displayType": "table",
        "pivotAggregation": null,
        "pivotColumns": null,
        "xColumns": null,
        "yColumns": null
       },
       "removedWidgets": [],
       "schema": [
        {
         "metadata": "{\"__detected_date_formats\":\"yyyy-M-d\"}",
         "name": "Order_Date",
         "type": "\"date\""
        },
        {
         "metadata": "{}",
         "name": "Order_Date_Standardized",
         "type": "\"date\""
        }
       ],
       "type": "table"
      }
     },
     "output_type": "display_data"
    }
   ],
   "source": [
    "%sql\n",
    "SELECT Order_Date, \n",
    "       CAST(Order_Date AS DATE) AS Order_Date_Standardized\n",
    "FROM `hive_metastore`.`default`.`e_commerce_dataset`limit 10;\n"
   ]
  },
  {
   "cell_type": "code",
   "execution_count": null,
   "metadata": {
    "application/vnd.databricks.v1+cell": {
     "cellMetadata": {
      "byteLimit": 2048000,
      "implicitDf": true,
      "rowLimit": 10000
     },
     "inputWidgets": {},
     "nuid": "216fa8ae-e20d-47de-8ab7-32275b0f3d6d",
     "showTitle": false,
     "tableResultSettingsMap": {},
     "title": ""
    }
   },
   "outputs": [
    {
     "data": {
      "text/plain": [
       "org.apache.spark.sql.catalyst.ExtendedAnalysisException: [FIELD_ALREADY_EXISTS] Cannot add column, because `Order_Date_Standardized` already exists in \"STRUCT<Order_Date: DATE, Time: TIMESTAMP, Aging: DOUBLE, Customer_Id: BIGINT, Gender: STRING, Device_Type: STRING, Customer_Login_type: STRING, Product_Category: STRING, Product: STRING, Sales: DOUBLE, Quantity: DOUBLE, Discount: DOUBLE, Profit: DOUBLE, Shipping_Cost: DOUBLE, Order_Priority: STRING, Payment_method: STRING, Order_Date_Standardized: DATE>\". SQLSTATE: 42710; line 1 pos 0;\n",
       "AddColumns [QualifiedColType(None,Order_Date_Standardized,DateType,true,None,None,None,None)]\n",
       "+- ResolvedTable com.databricks.sql.managedcatalog.UnityCatalogV2Proxy@4bb70bcf, default.e_commerce_dataset, DeltaTableV2(org.apache.spark.sql.SparkSession@7c300fac,dbfs:/user/hive/warehouse/e_commerce_dataset,Some(CatalogTable(\n",
       "Catalog: hive_metastore\n",
       "Database: default\n",
       "Table: e_commerce_dataset\n",
       "Owner: (Unknown)chowdarysujan27\n",
       "Created Time: Sat Feb 08 16:55:22 UTC 2025\n",
       "Last Access: UNKNOWN\n",
       "Created By: Spark 3.5.0\n",
       "Type: MANAGED\n",
       "Provider: delta\n",
       "Comment: Created by the file upload UI\n",
       "Table Properties: [delta.checkpoint.writeStatsAsJson=false, delta.checkpoint.writeStatsAsStruct=true, delta.enableDeletionVectors=true, delta.feature.deletionVectors=supported, delta.lastCommitTimestamp=1739622031000, delta.lastUpdateVersion=1, delta.minReaderVersion=3, delta.minWriterVersion=7]\n",
       "Statistics: 854504 bytes\n",
       "Location: dbfs:/user/hive/warehouse/e_commerce_dataset\n",
       "Serde Library: org.apache.hadoop.hive.serde2.lazy.LazySimpleSerDe\n",
       "InputFormat: org.apache.hadoop.mapred.SequenceFileInputFormat\n",
       "OutputFormat: org.apache.hadoop.hive.ql.io.HiveSequenceFileOutputFormat\n",
       "Partition Provider: Catalog\n",
       "Schema: root\n",
       " |-- Order_Date: date (nullable = true)\n",
       " |-- Time: timestamp (nullable = true)\n",
       " |-- Aging: double (nullable = true)\n",
       " |-- Customer_Id: long (nullable = true)\n",
       " |-- Gender: string (nullable = true)\n",
       " |-- Device_Type: string (nullable = true)\n",
       " |-- Customer_Login_type: string (nullable = true)\n",
       " |-- Product_Category: string (nullable = true)\n",
       " |-- Product: string (nullable = true)\n",
       " |-- Sales: double (nullable = true)\n",
       " |-- Quantity: double (nullable = true)\n",
       " |-- Discount: double (nullable = true)\n",
       " |-- Profit: double (nullable = true)\n",
       " |-- Shipping_Cost: double (nullable = true)\n",
       " |-- Order_Priority: string (nullable = true)\n",
       " |-- Payment_method: string (nullable = true)\n",
       " |-- Order_Date_Standardized: date (nullable = true)\n",
       ")),Some(hive_metastore.default.e_commerce_dataset),None,Map()), [Order_Date#22272, Time#22273, Aging#22274, Customer_Id#22275L, Gender#22276, Device_Type#22277, Customer_Login_type#22278, Product_Category#22279, Product#22280, Sales#22281, Quantity#22282, Discount#22283, Profit#22284, Shipping_Cost#22285, Order_Priority#22286, Payment_method#22287, Order_Date_Standardized#22288]\n",
       "\n",
       "\tat org.apache.spark.sql.catalyst.analysis.package$AnalysisErrorAt.failAnalysis(package.scala:55)\n",
       "\tat org.apache.spark.sql.catalyst.analysis.CheckAnalysis.checkColumnNotExists$1(CheckAnalysis.scala:1670)\n",
       "\tat org.apache.spark.sql.catalyst.analysis.CheckAnalysis.$anonfun$checkAlterTableCommand$3(CheckAnalysis.scala:1689)\n",
       "\tat org.apache.spark.sql.catalyst.analysis.CheckAnalysis.$anonfun$checkAlterTableCommand$3$adapted(CheckAnalysis.scala:1688)\n",
       "\tat scala.collection.mutable.ResizableArray.foreach(ResizableArray.scala:62)\n",
       "\tat scala.collection.mutable.ResizableArray.foreach$(ResizableArray.scala:55)\n",
       "\tat scala.collection.mutable.ArrayBuffer.foreach(ArrayBuffer.scala:49)\n",
       "\tat org.apache.spark.sql.catalyst.analysis.CheckAnalysis.checkAlterTableCommand(CheckAnalysis.scala:1688)\n",
       "\tat org.apache.spark.sql.catalyst.analysis.CheckAnalysis.$anonfun$checkAnalysis0$2(CheckAnalysis.scala:770)\n",
       "\tat org.apache.spark.sql.catalyst.analysis.CheckAnalysis.$anonfun$checkAnalysis0$2$adapted(CheckAnalysis.scala:286)\n",
       "\tat org.apache.spark.sql.catalyst.trees.TreeNode.foreachUp(TreeNode.scala:287)\n",
       "\tat org.apache.spark.sql.catalyst.analysis.CheckAnalysis.checkAnalysis0(CheckAnalysis.scala:286)\n",
       "\tat org.apache.spark.sql.catalyst.analysis.CheckAnalysis.checkAnalysis0$(CheckAnalysis.scala:261)\n",
       "\tat org.apache.spark.sql.catalyst.analysis.Analyzer.checkAnalysis0(Analyzer.scala:406)\n",
       "\tat org.apache.spark.sql.catalyst.analysis.CheckAnalysis.$anonfun$checkAnalysis$1(CheckAnalysis.scala:246)\n",
       "\tat scala.runtime.java8.JFunction0$mcV$sp.apply(JFunction0$mcV$sp.java:23)\n",
       "\tat com.databricks.spark.util.FrameProfiler$.record(FrameProfiler.scala:94)\n",
       "\tat org.apache.spark.sql.catalyst.analysis.CheckAnalysis.checkAnalysis(CheckAnalysis.scala:233)\n",
       "\tat org.apache.spark.sql.catalyst.analysis.CheckAnalysis.checkAnalysis$(CheckAnalysis.scala:233)\n",
       "\tat org.apache.spark.sql.catalyst.analysis.Analyzer.checkAnalysis(Analyzer.scala:406)\n",
       "\tat org.apache.spark.sql.catalyst.analysis.resolver.HybridAnalyzer.$anonfun$resolveInFixedPoint$1(HybridAnalyzer.scala:171)\n",
       "\tat scala.runtime.java8.JFunction0$mcV$sp.apply(JFunction0$mcV$sp.java:23)\n",
       "\tat org.apache.spark.sql.catalyst.QueryPlanningTracker$.withTracker(QueryPlanningTracker.scala:201)\n",
       "\tat org.apache.spark.sql.catalyst.analysis.resolver.HybridAnalyzer.resolveInFixedPoint(HybridAnalyzer.scala:171)\n",
       "\tat org.apache.spark.sql.catalyst.analysis.resolver.HybridAnalyzer.$anonfun$apply$1(HybridAnalyzer.scala:68)\n",
       "\tat org.apache.spark.sql.catalyst.analysis.resolver.HybridAnalyzer.withTrackedAnalyzerBridgeState(HybridAnalyzer.scala:94)\n",
       "\tat org.apache.spark.sql.catalyst.analysis.resolver.HybridAnalyzer.apply(HybridAnalyzer.scala:63)\n",
       "\tat org.apache.spark.sql.catalyst.analysis.Analyzer.$anonfun$executeAndCheck$1(Analyzer.scala:473)\n",
       "\tat org.apache.spark.sql.catalyst.plans.logical.AnalysisHelper$.markInAnalyzer(AnalysisHelper.scala:443)\n",
       "\tat org.apache.spark.sql.catalyst.analysis.Analyzer.executeAndCheck(Analyzer.scala:473)\n",
       "\tat org.apache.spark.sql.execution.QueryExecution.$anonfun$lazyAnalyzed$2(QueryExecution.scala:276)\n",
       "\tat com.databricks.spark.util.FrameProfiler$.record(FrameProfiler.scala:94)\n",
       "\tat org.apache.spark.sql.catalyst.QueryPlanningTracker.measurePhase(QueryPlanningTracker.scala:483)\n",
       "\tat org.apache.spark.sql.execution.QueryExecution.$anonfun$executePhase$5(QueryExecution.scala:593)\n",
       "\tat org.apache.spark.sql.execution.SQLExecution$.withExecutionPhase(SQLExecution.scala:145)\n",
       "\tat org.apache.spark.sql.execution.QueryExecution.$anonfun$executePhase$4(QueryExecution.scala:593)\n",
       "\tat org.apache.spark.sql.execution.QueryExecution$.withInternalError(QueryExecution.scala:1224)\n",
       "\tat org.apache.spark.sql.execution.QueryExecution.$anonfun$executePhase$2(QueryExecution.scala:592)\n",
       "\tat com.databricks.util.LexicalThreadLocal$Handle.runWith(LexicalThreadLocal.scala:63)\n",
       "\tat org.apache.spark.sql.execution.QueryExecution.$anonfun$executePhase$1(QueryExecution.scala:588)\n",
       "\tat org.apache.spark.sql.SparkSession.withActive(SparkSession.scala:1384)\n",
       "\tat org.apache.spark.sql.execution.QueryExecution.executePhase(QueryExecution.scala:588)\n",
       "\tat org.apache.spark.sql.execution.QueryExecution.$anonfun$lazyAnalyzed$1(QueryExecution.scala:270)\n",
       "\tat scala.util.Try$.apply(Try.scala:213)\n",
       "\tat org.apache.spark.util.Utils$.doTryWithCallerStacktrace(Utils.scala:1676)\n",
       "\tat org.apache.spark.util.Utils$.getTryWithCallerStacktrace(Utils.scala:1737)\n",
       "\tat org.apache.spark.util.LazyTry.get(LazyTry.scala:58)\n",
       "\tat org.apache.spark.sql.execution.QueryExecution.analyzed(QueryExecution.scala:297)\n",
       "\tat org.mlflow.spark.autologging.DatasourceAttributeExtractorBase.getTableInfos(DatasourceAttributeExtractor.scala:88)\n",
       "\tat org.mlflow.spark.autologging.DatasourceAttributeExtractorBase.getTableInfos$(DatasourceAttributeExtractor.scala:85)\n",
       "\tat org.mlflow.spark.autologging.ReplAwareDatasourceAttributeExtractor$.getTableInfos(DatasourceAttributeExtractor.scala:142)\n",
       "\tat org.mlflow.spark.autologging.ReplAwareSparkDataSourceListener.onSQLExecutionEnd(ReplAwareSparkDataSourceListener.scala:49)\n",
       "\tat org.mlflow.spark.autologging.SparkDataSourceListener.$anonfun$onOtherEvent$1(SparkDataSourceListener.scala:39)\n",
       "\tat scala.runtime.java8.JFunction0$mcV$sp.apply(JFunction0$mcV$sp.java:23)\n",
       "\tat org.mlflow.spark.autologging.ExceptionUtils$.tryAndLogUnexpectedError(ExceptionUtils.scala:26)\n",
       "\tat org.mlflow.spark.autologging.SparkDataSourceListener.onOtherEvent(SparkDataSourceListener.scala:39)\n",
       "\tat org.apache.spark.scheduler.SparkListenerBus.doPostEvent(SparkListenerBus.scala:108)\n",
       "\tat org.apache.spark.scheduler.SparkListenerBus.doPostEvent$(SparkListenerBus.scala:28)\n",
       "\tat org.apache.spark.scheduler.AsyncEventQueue.doPostEvent(AsyncEventQueue.scala:42)\n",
       "\tat org.apache.spark.scheduler.AsyncEventQueue.doPostEvent(AsyncEventQueue.scala:42)\n",
       "\tat org.apache.spark.util.ListenerBus.postToAll(ListenerBus.scala:199)\n",
       "\tat org.apache.spark.util.ListenerBus.postToAll$(ListenerBus.scala:169)\n",
       "\tat org.apache.spark.scheduler.AsyncEventQueue.super$postToAll(AsyncEventQueue.scala:116)\n",
       "\tat org.apache.spark.scheduler.AsyncEventQueue.$anonfun$dispatch$1(AsyncEventQueue.scala:116)\n",
       "\tat scala.runtime.java8.JFunction0$mcJ$sp.apply(JFunction0$mcJ$sp.java:23)\n",
       "\tat scala.util.DynamicVariable.withValue(DynamicVariable.scala:62)\n",
       "\tat org.apache.spark.scheduler.AsyncEventQueue.org$apache$spark$scheduler$AsyncEventQueue$$dispatch(AsyncEventQueue.scala:111)\n",
       "\tat org.apache.spark.scheduler.AsyncEventQueue$$anon$2.$anonfun$run$1(AsyncEventQueue.scala:107)\n",
       "\tat org.apache.spark.util.Utils$.tryOrStopSparkContext(Utils.scala:1564)\n",
       "\tat org.apache.spark.scheduler.AsyncEventQueue$$anon$2.run(AsyncEventQueue.scala:107)\n",
       "\tSuppressed: org.apache.spark.util.Utils$OriginalTryStackTraceException: Full stacktrace of original doTryWithCallerStacktrace caller\n",
       "\t\tat org.apache.spark.sql.catalyst.analysis.package$AnalysisErrorAt.failAnalysis(package.scala:55)\n",
       "\t\tat org.apache.spark.sql.catalyst.analysis.CheckAnalysis.checkColumnNotExists$1(CheckAnalysis.scala:1670)\n",
       "\t\tat org.apache.spark.sql.catalyst.analysis.CheckAnalysis.$anonfun$checkAlterTableCommand$3(CheckAnalysis.scala:1689)\n",
       "\t\tat org.apache.spark.sql.catalyst.analysis.CheckAnalysis.$anonfun$checkAlterTableCommand$3$adapted(CheckAnalysis.scala:1688)\n",
       "\t\tat scala.collection.mutable.ResizableArray.foreach(ResizableArray.scala:62)\n",
       "\t\tat scala.collection.mutable.ResizableArray.foreach$(ResizableArray.scala:55)\n",
       "\t\tat scala.collection.mutable.ArrayBuffer.foreach(ArrayBuffer.scala:49)\n",
       "\t\tat org.apache.spark.sql.catalyst.analysis.CheckAnalysis.checkAlterTableCommand(CheckAnalysis.scala:1688)\n",
       "\t\tat org.apache.spark.sql.catalyst.analysis.CheckAnalysis.$anonfun$checkAnalysis0$2(CheckAnalysis.scala:770)\n",
       "\t\tat org.apache.spark.sql.catalyst.analysis.CheckAnalysis.$anonfun$checkAnalysis0$2$adapted(CheckAnalysis.scala:286)\n",
       "\t\tat org.apache.spark.sql.catalyst.trees.TreeNode.foreachUp(TreeNode.scala:287)\n",
       "\t\tat org.apache.spark.sql.catalyst.analysis.CheckAnalysis.checkAnalysis0(CheckAnalysis.scala:286)\n",
       "\t\tat org.apache.spark.sql.catalyst.analysis.CheckAnalysis.checkAnalysis0$(CheckAnalysis.scala:261)\n",
       "\t\tat org.apache.spark.sql.catalyst.analysis.Analyzer.checkAnalysis0(Analyzer.scala:406)\n",
       "\t\tat org.apache.spark.sql.catalyst.analysis.CheckAnalysis.$anonfun$checkAnalysis$1(CheckAnalysis.scala:246)\n",
       "\t\tat scala.runtime.java8.JFunction0$mcV$sp.apply(JFunction0$mcV$sp.java:23)\n",
       "\t\tat com.databricks.spark.util.FrameProfiler$.record(FrameProfiler.scala:94)\n",
       "\t\tat org.apache.spark.sql.catalyst.analysis.CheckAnalysis.checkAnalysis(CheckAnalysis.scala:233)\n",
       "\t\tat org.apache.spark.sql.catalyst.analysis.CheckAnalysis.checkAnalysis$(CheckAnalysis.scala:233)\n",
       "\t\tat org.apache.spark.sql.catalyst.analysis.Analyzer.checkAnalysis(Analyzer.scala:406)\n",
       "\t\tat org.apache.spark.sql.catalyst.analysis.resolver.HybridAnalyzer.$anonfun$resolveInFixedPoint$1(HybridAnalyzer.scala:171)\n",
       "\t\tat scala.runtime.java8.JFunction0$mcV$sp.apply(JFunction0$mcV$sp.java:23)\n",
       "\t\tat org.apache.spark.sql.catalyst.QueryPlanningTracker$.withTracker(QueryPlanningTracker.scala:201)\n",
       "\t\tat org.apache.spark.sql.catalyst.analysis.resolver.HybridAnalyzer.resolveInFixedPoint(HybridAnalyzer.scala:171)\n",
       "\t\tat org.apache.spark.sql.catalyst.analysis.resolver.HybridAnalyzer.$anonfun$apply$1(HybridAnalyzer.scala:68)\n",
       "\t\tat org.apache.spark.sql.catalyst.analysis.resolver.HybridAnalyzer.withTrackedAnalyzerBridgeState(HybridAnalyzer.scala:94)\n",
       "\t\tat org.apache.spark.sql.catalyst.analysis.resolver.HybridAnalyzer.apply(HybridAnalyzer.scala:63)\n",
       "\t\tat org.apache.spark.sql.catalyst.analysis.Analyzer.$anonfun$executeAndCheck$1(Analyzer.scala:473)\n",
       "\t\tat org.apache.spark.sql.catalyst.plans.logical.AnalysisHelper$.markInAnalyzer(AnalysisHelper.scala:443)\n",
       "\t\tat org.apache.spark.sql.catalyst.analysis.Analyzer.executeAndCheck(Analyzer.scala:473)\n",
       "\t\tat org.apache.spark.sql.execution.QueryExecution.$anonfun$lazyAnalyzed$2(QueryExecution.scala:276)\n",
       "\t\tat com.databricks.spark.util.FrameProfiler$.record(FrameProfiler.scala:94)\n",
       "\t\tat org.apache.spark.sql.catalyst.QueryPlanningTracker.measurePhase(QueryPlanningTracker.scala:483)\n",
       "\t\tat org.apache.spark.sql.execution.QueryExecution.$anonfun$executePhase$5(QueryExecution.scala:593)\n",
       "\t\tat org.apache.spark.sql.execution.SQLExecution$.withExecutionPhase(SQLExecution.scala:145)\n",
       "\t\tat org.apache.spark.sql.execution.QueryExecution.$anonfun$executePhase$4(QueryExecution.scala:593)\n",
       "\t\tat org.apache.spark.sql.execution.QueryExecution$.withInternalError(QueryExecution.scala:1224)\n",
       "\t\tat org.apache.spark.sql.execution.QueryExecution.$anonfun$executePhase$2(QueryExecution.scala:592)\n",
       "\t\tat com.databricks.util.LexicalThreadLocal$Handle.runWith(LexicalThreadLocal.scala:63)\n",
       "\t\tat org.apache.spark.sql.execution.QueryExecution.$anonfun$executePhase$1(QueryExecution.scala:588)\n",
       "\t\tat org.apache.spark.sql.SparkSession.withActive(SparkSession.scala:1384)\n",
       "\t\tat org.apache.spark.sql.execution.QueryExecution.executePhase(QueryExecution.scala:588)\n",
       "\t\tat org.apache.spark.sql.execution.QueryExecution.$anonfun$lazyAnalyzed$1(QueryExecution.scala:270)\n",
       "\t\tat scala.util.Try$.apply(Try.scala:213)\n",
       "\t\tat org.apache.spark.util.Utils$.doTryWithCallerStacktrace(Utils.scala:1676)\n",
       "\t\tat org.apache.spark.util.LazyTry.tryT$lzycompute(LazyTry.scala:46)\n",
       "\t\tat org.apache.spark.util.LazyTry.tryT(LazyTry.scala:46)\n",
       "\t\tat org.apache.spark.util.LazyTry.get(LazyTry.scala:58)\n",
       "\t\tat org.apache.spark.sql.execution.QueryExecution.analyzed(QueryExecution.scala:297)\n",
       "\t\tat org.apache.spark.sql.execution.QueryExecution.assertAnalyzed(QueryExecution.scala:251)\n",
       "\t\tat org.apache.spark.sql.Dataset$.$anonfun$ofRows$2(Dataset.scala:131)\n",
       "\t\tat org.apache.spark.sql.SparkSession.withActive(SparkSession.scala:1384)\n",
       "\t\tat org.apache.spark.sql.SparkSession.$anonfun$withActiveAndFrameProfiler$1(SparkSession.scala:1391)\n",
       "\t\tat com.databricks.spark.util.FrameProfiler$.record(FrameProfiler.scala:94)\n",
       "\t\tat org.apache.spark.sql.SparkSession.withActiveAndFrameProfiler(SparkSession.scala:1391)\n",
       "\t\tat org.apache.spark.sql.Dataset$.ofRows(Dataset.scala:123)\n",
       "\t\tat org.apache.spark.sql.SparkSession.$anonfun$sql$4(SparkSession.scala:1064)\n",
       "\t\tat org.apache.spark.sql.SparkSession.withActive(SparkSession.scala:1384)\n",
       "\t\tat org.apache.spark.sql.SparkSession.sql(SparkSession.scala:1027)\n",
       "\t\tat org.apache.spark.sql.SparkSession.sql(SparkSession.scala:1088)\n",
       "\t\tat com.databricks.backend.daemon.driver.DriverLocal$DbClassicStrategy.executeSQLQuery(DriverLocal.scala:340)\n",
       "\t\tat com.databricks.backend.daemon.driver.DriverLocal.executeSQLSubCommand(DriverLocal.scala:440)\n",
       "\t\tat com.databricks.backend.daemon.driver.DriverLocal.$anonfun$executeSql$1(DriverLocal.scala:464)\n",
       "\t\tat scala.collection.immutable.List.map(List.scala:293)\n",
       "\t\tat com.databricks.backend.daemon.driver.DriverLocal.executeSql(DriverLocal.scala:459)\n",
       "\t\tat com.databricks.backend.daemon.driver.JupyterDriverLocal.repl(JupyterDriverLocal.scala:1237)\n",
       "\t\tat com.databricks.backend.daemon.driver.DriverLocal.$anonfun$execute$33(DriverLocal.scala:1228)\n",
       "\t\tat com.databricks.unity.UCSEphemeralState$Handle.runWith(UCSEphemeralState.scala:51)\n",
       "\t\tat com.databricks.unity.HandleImpl.runWith(UCSHandle.scala:104)\n",
       "\t\tat com.databricks.backend.daemon.driver.DriverLocal.$anonfun$execute$28(DriverLocal.scala:1219)\n",
       "\t\tat com.databricks.logging.AttributionContextTracing.$anonfun$withAttributionContext$1(AttributionContextTracing.scala:49)\n",
       "\t\tat com.databricks.logging.AttributionContext$.$anonfun$withValue$1(AttributionContext.scala:295)\n",
       "\t\tat scala.util.DynamicVariable.withValue(DynamicVariable.scala:62)\n",
       "\t\tat com.databricks.logging.AttributionContext$.withValue(AttributionContext.scala:291)\n",
       "\t\tat com.databricks.logging.AttributionContextTracing.withAttributionContext(AttributionContextTracing.scala:47)\n",
       "\t\tat com.databricks.logging.AttributionContextTracing.withAttributionContext$(AttributionContextTracing.scala:44)\n",
       "\t\tat com.databricks.backend.daemon.driver.DriverLocal.withAttributionContext(DriverLocal.scala:120)\n",
       "\t\tat com.databricks.logging.AttributionContextTracing.withAttributionTags(AttributionContextTracing.scala:96)\n",
       "\t\tat com.databricks.logging.AttributionContextTracing.withAttributionTags$(AttributionContextTracing.scala:77)\n",
       "\t\tat com.databricks.backend.daemon.driver.DriverLocal.withAttributionTags(DriverLocal.scala:120)\n",
       "\t\tat com.databricks.backend.daemon.driver.DriverLocal.$anonfun$execute$1(DriverLocal.scala:1151)\n",
       "\t\tat com.databricks.backend.daemon.driver.DriverLocal$.$anonfun$maybeSynchronizeExecution$4(DriverLocal.scala:1613)\n",
       "\t\tat com.databricks.backend.daemon.driver.DriverLocal.execute(DriverLocal.scala:816)\n",
       "\t\tat com.databricks.backend.daemon.driver.DriverWrapper.$anonfun$tryExecutingCommand$2(DriverWrapper.scala:1040)\n",
       "\t\tat scala.util.Try$.apply(Try.scala:213)\n",
       "\t\tat com.databricks.backend.daemon.driver.DriverWrapper.$anonfun$tryExecutingCommand$1(DriverWrapper.scala:1029)\n",
       "\t\tat com.databricks.backend.daemon.driver.DriverWrapper.$anonfun$tryExecutingCommand$3(DriverWrapper.scala:1075)\n",
       "\t\tat com.databricks.logging.UsageLogging.executeThunkAndCaptureResultTags$1(UsageLogging.scala:613)\n",
       "\t\tat com.databricks.logging.UsageLogging.$anonfun$recordOperationWithResultTags$4(UsageLogging.scala:636)\n",
       "\t\tat com.databricks.logging.AttributionContextTracing.$anonfun$withAttributionContext$1(AttributionContextTracing.scala:49)\n",
       "\t\tat com.databricks.logging.AttributionContext$.$anonfun$withValue$1(AttributionContext.scala:295)\n",
       "\t\tat scala.util.DynamicVariable.withValue(DynamicVariable.scala:62)\n",
       "\t\tat com.databricks.logging.AttributionContext$.withValue(AttributionContext.scala:291)\n",
       "\t\tat com.databricks.logging.AttributionContextTracing.withAttributionContext(AttributionContextTracing.scala:47)\n",
       "\t\tat com.databricks.logging.AttributionContextTracing.withAttributionContext$(AttributionContextTracing.scala:44)\n",
       "\t\tat com.databricks.backend.daemon.driver.DriverWrapper.withAttributionContext(DriverWrapper.scala:81)\n",
       "\t\tat com.databricks.logging.AttributionContextTracing.withAttributionTags(AttributionContextTracing.scala:96)\n",
       "\t\tat com.databricks.logging.AttributionContextTracing.withAttributionTags$(AttributionContextTracing.scala:77)\n",
       "\t\tat com.databricks.backend.daemon.driver.DriverWrapper.withAttributionTags(DriverWrapper.scala:81)\n",
       "\t\tat com.databricks.logging.UsageLogging.recordOperationWithResultTags(UsageLogging.scala:608)\n",
       "\t\tat com.databricks.logging.UsageLogging.recordOperationWithResultTags$(UsageLogging.scala:517)\n",
       "\t\tat com.databricks.backend.daemon.driver.DriverWrapper.recordOperationWithResultTags(DriverWrapper.scala:81)\n",
       "\t\tat com.databricks.backend.daemon.driver.DriverWrapper.tryExecutingCommand(DriverWrapper.scala:1075)\n",
       "\t\tat com.databricks.backend.daemon.driver.DriverWrapper.executeCommandAndGetError(DriverWrapper.scala:777)\n",
       "\t\tat com.databricks.backend.daemon.driver.DriverWrapper.executeCommand(DriverWrapper.scala:870)\n",
       "\t\tat com.databricks.backend.daemon.driver.DriverWrapper.$anonfun$runInnerLoop$1(DriverWrapper.scala:641)\n",
       "\t\tat scala.runtime.java8.JFunction0$mcV$sp.apply(JFunction0$mcV$sp.java:23)\n",
       "\t\tat com.databricks.logging.AttributionContextTracing.$anonfun$withAttributionContext$1(AttributionContextTracing.scala:49)\n",
       "\t\tat com.databricks.logging.AttributionContext$.$anonfun$withValue$1(AttributionContext.scala:295)\n",
       "\t\tat scala.util.DynamicVariable.withValue(DynamicVariable.scala:62)\n",
       "\t\tat com.databricks.logging.AttributionContext$.withValue(AttributionContext.scala:291)\n",
       "\t\tat com.databricks.logging.AttributionContextTracing.withAttributionContext(AttributionContextTracing.scala:47)\n",
       "\t\tat com.databricks.logging.AttributionContextTracing.withAttributionContext$(AttributionContextTracing.scala:44)\n",
       "\t\tat com.databricks.backend.daemon.driver.DriverWrapper.withAttributionContext(DriverWrapper.scala:81)\n",
       "\t\tat com.databricks.backend.daemon.driver.DriverWrapper.runInnerLoop(DriverWrapper.scala:636)\n",
       "\t\tat com.databricks.backend.daemon.driver.DriverWrapper.runInner(DriverWrapper.scala:559)\n",
       "\t\tat com.databricks.backend.daemon.driver.DriverWrapper.run(DriverWrapper.scala:342)\n",
       "\t\tat java.base/java.lang.Thread.run(Thread.java:840)\n"
      ]
     },
     "metadata": {
      "application/vnd.databricks.v1+output": {
       "addedWidgets": {},
       "arguments": {},
       "datasetInfos": [],
       "jupyterProps": null,
       "metadata": {
        "errorSummary": "[FIELD_ALREADY_EXISTS] Cannot add column, because `Order_Date_Standardized` already exists in \"STRUCT<Order_Date: DATE, Time: TIMESTAMP, Aging: DOUBLE, Customer_Id: BIGINT, Gender: STRING, Device_Type: STRING, Customer_Login_type: STRING, Product_Category: STRING, Product: STRING, Sales: DOUBLE, Quantity: DOUBLE, Discount: DOUBLE, Profit: DOUBLE, Shipping_Cost: DOUBLE, Order_Priority: STRING, Payment_method: STRING, Order_Date_Standardized: DATE>\". SQLSTATE: 42710"
       },
       "removedWidgets": [],
       "sqlProps": {
        "errorClass": "FIELD_ALREADY_EXISTS",
        "pysparkCallSite": null,
        "pysparkFragment": null,
        "sqlState": "42710",
        "stackTrace": null,
        "startIndex": 0,
        "stopIndex": 101
       },
       "stackFrames": [
        "org.apache.spark.sql.catalyst.ExtendedAnalysisException: [FIELD_ALREADY_EXISTS] Cannot add column, because `Order_Date_Standardized` already exists in \"STRUCT<Order_Date: DATE, Time: TIMESTAMP, Aging: DOUBLE, Customer_Id: BIGINT, Gender: STRING, Device_Type: STRING, Customer_Login_type: STRING, Product_Category: STRING, Product: STRING, Sales: DOUBLE, Quantity: DOUBLE, Discount: DOUBLE, Profit: DOUBLE, Shipping_Cost: DOUBLE, Order_Priority: STRING, Payment_method: STRING, Order_Date_Standardized: DATE>\". SQLSTATE: 42710; line 1 pos 0;\nAddColumns [QualifiedColType(None,Order_Date_Standardized,DateType,true,None,None,None,None)]\n+- ResolvedTable com.databricks.sql.managedcatalog.UnityCatalogV2Proxy@4bb70bcf, default.e_commerce_dataset, DeltaTableV2(org.apache.spark.sql.SparkSession@7c300fac,dbfs:/user/hive/warehouse/e_commerce_dataset,Some(CatalogTable(\nCatalog: hive_metastore\nDatabase: default\nTable: e_commerce_dataset\nOwner: (Unknown)chowdarysujan27\nCreated Time: Sat Feb 08 16:55:22 UTC 2025\nLast Access: UNKNOWN\nCreated By: Spark 3.5.0\nType: MANAGED\nProvider: delta\nComment: Created by the file upload UI\nTable Properties: [delta.checkpoint.writeStatsAsJson=false, delta.checkpoint.writeStatsAsStruct=true, delta.enableDeletionVectors=true, delta.feature.deletionVectors=supported, delta.lastCommitTimestamp=1739622031000, delta.lastUpdateVersion=1, delta.minReaderVersion=3, delta.minWriterVersion=7]\nStatistics: 854504 bytes\nLocation: dbfs:/user/hive/warehouse/e_commerce_dataset\nSerde Library: org.apache.hadoop.hive.serde2.lazy.LazySimpleSerDe\nInputFormat: org.apache.hadoop.mapred.SequenceFileInputFormat\nOutputFormat: org.apache.hadoop.hive.ql.io.HiveSequenceFileOutputFormat\nPartition Provider: Catalog\nSchema: root\n |-- Order_Date: date (nullable = true)\n |-- Time: timestamp (nullable = true)\n |-- Aging: double (nullable = true)\n |-- Customer_Id: long (nullable = true)\n |-- Gender: string (nullable = true)\n |-- Device_Type: string (nullable = true)\n |-- Customer_Login_type: string (nullable = true)\n |-- Product_Category: string (nullable = true)\n |-- Product: string (nullable = true)\n |-- Sales: double (nullable = true)\n |-- Quantity: double (nullable = true)\n |-- Discount: double (nullable = true)\n |-- Profit: double (nullable = true)\n |-- Shipping_Cost: double (nullable = true)\n |-- Order_Priority: string (nullable = true)\n |-- Payment_method: string (nullable = true)\n |-- Order_Date_Standardized: date (nullable = true)\n)),Some(hive_metastore.default.e_commerce_dataset),None,Map()), [Order_Date#22272, Time#22273, Aging#22274, Customer_Id#22275L, Gender#22276, Device_Type#22277, Customer_Login_type#22278, Product_Category#22279, Product#22280, Sales#22281, Quantity#22282, Discount#22283, Profit#22284, Shipping_Cost#22285, Order_Priority#22286, Payment_method#22287, Order_Date_Standardized#22288]\n\n\tat org.apache.spark.sql.catalyst.analysis.package$AnalysisErrorAt.failAnalysis(package.scala:55)\n\tat org.apache.spark.sql.catalyst.analysis.CheckAnalysis.checkColumnNotExists$1(CheckAnalysis.scala:1670)\n\tat org.apache.spark.sql.catalyst.analysis.CheckAnalysis.$anonfun$checkAlterTableCommand$3(CheckAnalysis.scala:1689)\n\tat org.apache.spark.sql.catalyst.analysis.CheckAnalysis.$anonfun$checkAlterTableCommand$3$adapted(CheckAnalysis.scala:1688)\n\tat scala.collection.mutable.ResizableArray.foreach(ResizableArray.scala:62)\n\tat scala.collection.mutable.ResizableArray.foreach$(ResizableArray.scala:55)\n\tat scala.collection.mutable.ArrayBuffer.foreach(ArrayBuffer.scala:49)\n\tat org.apache.spark.sql.catalyst.analysis.CheckAnalysis.checkAlterTableCommand(CheckAnalysis.scala:1688)\n\tat org.apache.spark.sql.catalyst.analysis.CheckAnalysis.$anonfun$checkAnalysis0$2(CheckAnalysis.scala:770)\n\tat org.apache.spark.sql.catalyst.analysis.CheckAnalysis.$anonfun$checkAnalysis0$2$adapted(CheckAnalysis.scala:286)\n\tat org.apache.spark.sql.catalyst.trees.TreeNode.foreachUp(TreeNode.scala:287)\n\tat org.apache.spark.sql.catalyst.analysis.CheckAnalysis.checkAnalysis0(CheckAnalysis.scala:286)\n\tat org.apache.spark.sql.catalyst.analysis.CheckAnalysis.checkAnalysis0$(CheckAnalysis.scala:261)\n\tat org.apache.spark.sql.catalyst.analysis.Analyzer.checkAnalysis0(Analyzer.scala:406)\n\tat org.apache.spark.sql.catalyst.analysis.CheckAnalysis.$anonfun$checkAnalysis$1(CheckAnalysis.scala:246)\n\tat scala.runtime.java8.JFunction0$mcV$sp.apply(JFunction0$mcV$sp.java:23)\n\tat com.databricks.spark.util.FrameProfiler$.record(FrameProfiler.scala:94)\n\tat org.apache.spark.sql.catalyst.analysis.CheckAnalysis.checkAnalysis(CheckAnalysis.scala:233)\n\tat org.apache.spark.sql.catalyst.analysis.CheckAnalysis.checkAnalysis$(CheckAnalysis.scala:233)\n\tat org.apache.spark.sql.catalyst.analysis.Analyzer.checkAnalysis(Analyzer.scala:406)\n\tat org.apache.spark.sql.catalyst.analysis.resolver.HybridAnalyzer.$anonfun$resolveInFixedPoint$1(HybridAnalyzer.scala:171)\n\tat scala.runtime.java8.JFunction0$mcV$sp.apply(JFunction0$mcV$sp.java:23)\n\tat org.apache.spark.sql.catalyst.QueryPlanningTracker$.withTracker(QueryPlanningTracker.scala:201)\n\tat org.apache.spark.sql.catalyst.analysis.resolver.HybridAnalyzer.resolveInFixedPoint(HybridAnalyzer.scala:171)\n\tat org.apache.spark.sql.catalyst.analysis.resolver.HybridAnalyzer.$anonfun$apply$1(HybridAnalyzer.scala:68)\n\tat org.apache.spark.sql.catalyst.analysis.resolver.HybridAnalyzer.withTrackedAnalyzerBridgeState(HybridAnalyzer.scala:94)\n\tat org.apache.spark.sql.catalyst.analysis.resolver.HybridAnalyzer.apply(HybridAnalyzer.scala:63)\n\tat org.apache.spark.sql.catalyst.analysis.Analyzer.$anonfun$executeAndCheck$1(Analyzer.scala:473)\n\tat org.apache.spark.sql.catalyst.plans.logical.AnalysisHelper$.markInAnalyzer(AnalysisHelper.scala:443)\n\tat org.apache.spark.sql.catalyst.analysis.Analyzer.executeAndCheck(Analyzer.scala:473)\n\tat org.apache.spark.sql.execution.QueryExecution.$anonfun$lazyAnalyzed$2(QueryExecution.scala:276)\n\tat com.databricks.spark.util.FrameProfiler$.record(FrameProfiler.scala:94)\n\tat org.apache.spark.sql.catalyst.QueryPlanningTracker.measurePhase(QueryPlanningTracker.scala:483)\n\tat org.apache.spark.sql.execution.QueryExecution.$anonfun$executePhase$5(QueryExecution.scala:593)\n\tat org.apache.spark.sql.execution.SQLExecution$.withExecutionPhase(SQLExecution.scala:145)\n\tat org.apache.spark.sql.execution.QueryExecution.$anonfun$executePhase$4(QueryExecution.scala:593)\n\tat org.apache.spark.sql.execution.QueryExecution$.withInternalError(QueryExecution.scala:1224)\n\tat org.apache.spark.sql.execution.QueryExecution.$anonfun$executePhase$2(QueryExecution.scala:592)\n\tat com.databricks.util.LexicalThreadLocal$Handle.runWith(LexicalThreadLocal.scala:63)\n\tat org.apache.spark.sql.execution.QueryExecution.$anonfun$executePhase$1(QueryExecution.scala:588)\n\tat org.apache.spark.sql.SparkSession.withActive(SparkSession.scala:1384)\n\tat org.apache.spark.sql.execution.QueryExecution.executePhase(QueryExecution.scala:588)\n\tat org.apache.spark.sql.execution.QueryExecution.$anonfun$lazyAnalyzed$1(QueryExecution.scala:270)\n\tat scala.util.Try$.apply(Try.scala:213)\n\tat org.apache.spark.util.Utils$.doTryWithCallerStacktrace(Utils.scala:1676)\n\tat org.apache.spark.util.Utils$.getTryWithCallerStacktrace(Utils.scala:1737)\n\tat org.apache.spark.util.LazyTry.get(LazyTry.scala:58)\n\tat org.apache.spark.sql.execution.QueryExecution.analyzed(QueryExecution.scala:297)\n\tat org.mlflow.spark.autologging.DatasourceAttributeExtractorBase.getTableInfos(DatasourceAttributeExtractor.scala:88)\n\tat org.mlflow.spark.autologging.DatasourceAttributeExtractorBase.getTableInfos$(DatasourceAttributeExtractor.scala:85)\n\tat org.mlflow.spark.autologging.ReplAwareDatasourceAttributeExtractor$.getTableInfos(DatasourceAttributeExtractor.scala:142)\n\tat org.mlflow.spark.autologging.ReplAwareSparkDataSourceListener.onSQLExecutionEnd(ReplAwareSparkDataSourceListener.scala:49)\n\tat org.mlflow.spark.autologging.SparkDataSourceListener.$anonfun$onOtherEvent$1(SparkDataSourceListener.scala:39)\n\tat scala.runtime.java8.JFunction0$mcV$sp.apply(JFunction0$mcV$sp.java:23)\n\tat org.mlflow.spark.autologging.ExceptionUtils$.tryAndLogUnexpectedError(ExceptionUtils.scala:26)\n\tat org.mlflow.spark.autologging.SparkDataSourceListener.onOtherEvent(SparkDataSourceListener.scala:39)\n\tat org.apache.spark.scheduler.SparkListenerBus.doPostEvent(SparkListenerBus.scala:108)\n\tat org.apache.spark.scheduler.SparkListenerBus.doPostEvent$(SparkListenerBus.scala:28)\n\tat org.apache.spark.scheduler.AsyncEventQueue.doPostEvent(AsyncEventQueue.scala:42)\n\tat org.apache.spark.scheduler.AsyncEventQueue.doPostEvent(AsyncEventQueue.scala:42)\n\tat org.apache.spark.util.ListenerBus.postToAll(ListenerBus.scala:199)\n\tat org.apache.spark.util.ListenerBus.postToAll$(ListenerBus.scala:169)\n\tat org.apache.spark.scheduler.AsyncEventQueue.super$postToAll(AsyncEventQueue.scala:116)\n\tat org.apache.spark.scheduler.AsyncEventQueue.$anonfun$dispatch$1(AsyncEventQueue.scala:116)\n\tat scala.runtime.java8.JFunction0$mcJ$sp.apply(JFunction0$mcJ$sp.java:23)\n\tat scala.util.DynamicVariable.withValue(DynamicVariable.scala:62)\n\tat org.apache.spark.scheduler.AsyncEventQueue.org$apache$spark$scheduler$AsyncEventQueue$$dispatch(AsyncEventQueue.scala:111)\n\tat org.apache.spark.scheduler.AsyncEventQueue$$anon$2.$anonfun$run$1(AsyncEventQueue.scala:107)\n\tat org.apache.spark.util.Utils$.tryOrStopSparkContext(Utils.scala:1564)\n\tat org.apache.spark.scheduler.AsyncEventQueue$$anon$2.run(AsyncEventQueue.scala:107)\n\tSuppressed: org.apache.spark.util.Utils$OriginalTryStackTraceException: Full stacktrace of original doTryWithCallerStacktrace caller\n\t\tat org.apache.spark.sql.catalyst.analysis.package$AnalysisErrorAt.failAnalysis(package.scala:55)\n\t\tat org.apache.spark.sql.catalyst.analysis.CheckAnalysis.checkColumnNotExists$1(CheckAnalysis.scala:1670)\n\t\tat org.apache.spark.sql.catalyst.analysis.CheckAnalysis.$anonfun$checkAlterTableCommand$3(CheckAnalysis.scala:1689)\n\t\tat org.apache.spark.sql.catalyst.analysis.CheckAnalysis.$anonfun$checkAlterTableCommand$3$adapted(CheckAnalysis.scala:1688)\n\t\tat scala.collection.mutable.ResizableArray.foreach(ResizableArray.scala:62)\n\t\tat scala.collection.mutable.ResizableArray.foreach$(ResizableArray.scala:55)\n\t\tat scala.collection.mutable.ArrayBuffer.foreach(ArrayBuffer.scala:49)\n\t\tat org.apache.spark.sql.catalyst.analysis.CheckAnalysis.checkAlterTableCommand(CheckAnalysis.scala:1688)\n\t\tat org.apache.spark.sql.catalyst.analysis.CheckAnalysis.$anonfun$checkAnalysis0$2(CheckAnalysis.scala:770)\n\t\tat org.apache.spark.sql.catalyst.analysis.CheckAnalysis.$anonfun$checkAnalysis0$2$adapted(CheckAnalysis.scala:286)\n\t\tat org.apache.spark.sql.catalyst.trees.TreeNode.foreachUp(TreeNode.scala:287)\n\t\tat org.apache.spark.sql.catalyst.analysis.CheckAnalysis.checkAnalysis0(CheckAnalysis.scala:286)\n\t\tat org.apache.spark.sql.catalyst.analysis.CheckAnalysis.checkAnalysis0$(CheckAnalysis.scala:261)\n\t\tat org.apache.spark.sql.catalyst.analysis.Analyzer.checkAnalysis0(Analyzer.scala:406)\n\t\tat org.apache.spark.sql.catalyst.analysis.CheckAnalysis.$anonfun$checkAnalysis$1(CheckAnalysis.scala:246)\n\t\tat scala.runtime.java8.JFunction0$mcV$sp.apply(JFunction0$mcV$sp.java:23)\n\t\tat com.databricks.spark.util.FrameProfiler$.record(FrameProfiler.scala:94)\n\t\tat org.apache.spark.sql.catalyst.analysis.CheckAnalysis.checkAnalysis(CheckAnalysis.scala:233)\n\t\tat org.apache.spark.sql.catalyst.analysis.CheckAnalysis.checkAnalysis$(CheckAnalysis.scala:233)\n\t\tat org.apache.spark.sql.catalyst.analysis.Analyzer.checkAnalysis(Analyzer.scala:406)\n\t\tat org.apache.spark.sql.catalyst.analysis.resolver.HybridAnalyzer.$anonfun$resolveInFixedPoint$1(HybridAnalyzer.scala:171)\n\t\tat scala.runtime.java8.JFunction0$mcV$sp.apply(JFunction0$mcV$sp.java:23)\n\t\tat org.apache.spark.sql.catalyst.QueryPlanningTracker$.withTracker(QueryPlanningTracker.scala:201)\n\t\tat org.apache.spark.sql.catalyst.analysis.resolver.HybridAnalyzer.resolveInFixedPoint(HybridAnalyzer.scala:171)\n\t\tat org.apache.spark.sql.catalyst.analysis.resolver.HybridAnalyzer.$anonfun$apply$1(HybridAnalyzer.scala:68)\n\t\tat org.apache.spark.sql.catalyst.analysis.resolver.HybridAnalyzer.withTrackedAnalyzerBridgeState(HybridAnalyzer.scala:94)\n\t\tat org.apache.spark.sql.catalyst.analysis.resolver.HybridAnalyzer.apply(HybridAnalyzer.scala:63)\n\t\tat org.apache.spark.sql.catalyst.analysis.Analyzer.$anonfun$executeAndCheck$1(Analyzer.scala:473)\n\t\tat org.apache.spark.sql.catalyst.plans.logical.AnalysisHelper$.markInAnalyzer(AnalysisHelper.scala:443)\n\t\tat org.apache.spark.sql.catalyst.analysis.Analyzer.executeAndCheck(Analyzer.scala:473)\n\t\tat org.apache.spark.sql.execution.QueryExecution.$anonfun$lazyAnalyzed$2(QueryExecution.scala:276)\n\t\tat com.databricks.spark.util.FrameProfiler$.record(FrameProfiler.scala:94)\n\t\tat org.apache.spark.sql.catalyst.QueryPlanningTracker.measurePhase(QueryPlanningTracker.scala:483)\n\t\tat org.apache.spark.sql.execution.QueryExecution.$anonfun$executePhase$5(QueryExecution.scala:593)\n\t\tat org.apache.spark.sql.execution.SQLExecution$.withExecutionPhase(SQLExecution.scala:145)\n\t\tat org.apache.spark.sql.execution.QueryExecution.$anonfun$executePhase$4(QueryExecution.scala:593)\n\t\tat org.apache.spark.sql.execution.QueryExecution$.withInternalError(QueryExecution.scala:1224)\n\t\tat org.apache.spark.sql.execution.QueryExecution.$anonfun$executePhase$2(QueryExecution.scala:592)\n\t\tat com.databricks.util.LexicalThreadLocal$Handle.runWith(LexicalThreadLocal.scala:63)\n\t\tat org.apache.spark.sql.execution.QueryExecution.$anonfun$executePhase$1(QueryExecution.scala:588)\n\t\tat org.apache.spark.sql.SparkSession.withActive(SparkSession.scala:1384)\n\t\tat org.apache.spark.sql.execution.QueryExecution.executePhase(QueryExecution.scala:588)\n\t\tat org.apache.spark.sql.execution.QueryExecution.$anonfun$lazyAnalyzed$1(QueryExecution.scala:270)\n\t\tat scala.util.Try$.apply(Try.scala:213)\n\t\tat org.apache.spark.util.Utils$.doTryWithCallerStacktrace(Utils.scala:1676)\n\t\tat org.apache.spark.util.LazyTry.tryT$lzycompute(LazyTry.scala:46)\n\t\tat org.apache.spark.util.LazyTry.tryT(LazyTry.scala:46)\n\t\tat org.apache.spark.util.LazyTry.get(LazyTry.scala:58)\n\t\tat org.apache.spark.sql.execution.QueryExecution.analyzed(QueryExecution.scala:297)\n\t\tat org.apache.spark.sql.execution.QueryExecution.assertAnalyzed(QueryExecution.scala:251)\n\t\tat org.apache.spark.sql.Dataset$.$anonfun$ofRows$2(Dataset.scala:131)\n\t\tat org.apache.spark.sql.SparkSession.withActive(SparkSession.scala:1384)\n\t\tat org.apache.spark.sql.SparkSession.$anonfun$withActiveAndFrameProfiler$1(SparkSession.scala:1391)\n\t\tat com.databricks.spark.util.FrameProfiler$.record(FrameProfiler.scala:94)\n\t\tat org.apache.spark.sql.SparkSession.withActiveAndFrameProfiler(SparkSession.scala:1391)\n\t\tat org.apache.spark.sql.Dataset$.ofRows(Dataset.scala:123)\n\t\tat org.apache.spark.sql.SparkSession.$anonfun$sql$4(SparkSession.scala:1064)\n\t\tat org.apache.spark.sql.SparkSession.withActive(SparkSession.scala:1384)\n\t\tat org.apache.spark.sql.SparkSession.sql(SparkSession.scala:1027)\n\t\tat org.apache.spark.sql.SparkSession.sql(SparkSession.scala:1088)\n\t\tat com.databricks.backend.daemon.driver.DriverLocal$DbClassicStrategy.executeSQLQuery(DriverLocal.scala:340)\n\t\tat com.databricks.backend.daemon.driver.DriverLocal.executeSQLSubCommand(DriverLocal.scala:440)\n\t\tat com.databricks.backend.daemon.driver.DriverLocal.$anonfun$executeSql$1(DriverLocal.scala:464)\n\t\tat scala.collection.immutable.List.map(List.scala:293)\n\t\tat com.databricks.backend.daemon.driver.DriverLocal.executeSql(DriverLocal.scala:459)\n\t\tat com.databricks.backend.daemon.driver.JupyterDriverLocal.repl(JupyterDriverLocal.scala:1237)\n\t\tat com.databricks.backend.daemon.driver.DriverLocal.$anonfun$execute$33(DriverLocal.scala:1228)\n\t\tat com.databricks.unity.UCSEphemeralState$Handle.runWith(UCSEphemeralState.scala:51)\n\t\tat com.databricks.unity.HandleImpl.runWith(UCSHandle.scala:104)\n\t\tat com.databricks.backend.daemon.driver.DriverLocal.$anonfun$execute$28(DriverLocal.scala:1219)\n\t\tat com.databricks.logging.AttributionContextTracing.$anonfun$withAttributionContext$1(AttributionContextTracing.scala:49)\n\t\tat com.databricks.logging.AttributionContext$.$anonfun$withValue$1(AttributionContext.scala:295)\n\t\tat scala.util.DynamicVariable.withValue(DynamicVariable.scala:62)\n\t\tat com.databricks.logging.AttributionContext$.withValue(AttributionContext.scala:291)\n\t\tat com.databricks.logging.AttributionContextTracing.withAttributionContext(AttributionContextTracing.scala:47)\n\t\tat com.databricks.logging.AttributionContextTracing.withAttributionContext$(AttributionContextTracing.scala:44)\n\t\tat com.databricks.backend.daemon.driver.DriverLocal.withAttributionContext(DriverLocal.scala:120)\n\t\tat com.databricks.logging.AttributionContextTracing.withAttributionTags(AttributionContextTracing.scala:96)\n\t\tat com.databricks.logging.AttributionContextTracing.withAttributionTags$(AttributionContextTracing.scala:77)\n\t\tat com.databricks.backend.daemon.driver.DriverLocal.withAttributionTags(DriverLocal.scala:120)\n\t\tat com.databricks.backend.daemon.driver.DriverLocal.$anonfun$execute$1(DriverLocal.scala:1151)\n\t\tat com.databricks.backend.daemon.driver.DriverLocal$.$anonfun$maybeSynchronizeExecution$4(DriverLocal.scala:1613)\n\t\tat com.databricks.backend.daemon.driver.DriverLocal.execute(DriverLocal.scala:816)\n\t\tat com.databricks.backend.daemon.driver.DriverWrapper.$anonfun$tryExecutingCommand$2(DriverWrapper.scala:1040)\n\t\tat scala.util.Try$.apply(Try.scala:213)\n\t\tat com.databricks.backend.daemon.driver.DriverWrapper.$anonfun$tryExecutingCommand$1(DriverWrapper.scala:1029)\n\t\tat com.databricks.backend.daemon.driver.DriverWrapper.$anonfun$tryExecutingCommand$3(DriverWrapper.scala:1075)\n\t\tat com.databricks.logging.UsageLogging.executeThunkAndCaptureResultTags$1(UsageLogging.scala:613)\n\t\tat com.databricks.logging.UsageLogging.$anonfun$recordOperationWithResultTags$4(UsageLogging.scala:636)\n\t\tat com.databricks.logging.AttributionContextTracing.$anonfun$withAttributionContext$1(AttributionContextTracing.scala:49)\n\t\tat com.databricks.logging.AttributionContext$.$anonfun$withValue$1(AttributionContext.scala:295)\n\t\tat scala.util.DynamicVariable.withValue(DynamicVariable.scala:62)\n\t\tat com.databricks.logging.AttributionContext$.withValue(AttributionContext.scala:291)\n\t\tat com.databricks.logging.AttributionContextTracing.withAttributionContext(AttributionContextTracing.scala:47)\n\t\tat com.databricks.logging.AttributionContextTracing.withAttributionContext$(AttributionContextTracing.scala:44)\n\t\tat com.databricks.backend.daemon.driver.DriverWrapper.withAttributionContext(DriverWrapper.scala:81)\n\t\tat com.databricks.logging.AttributionContextTracing.withAttributionTags(AttributionContextTracing.scala:96)\n\t\tat com.databricks.logging.AttributionContextTracing.withAttributionTags$(AttributionContextTracing.scala:77)\n\t\tat com.databricks.backend.daemon.driver.DriverWrapper.withAttributionTags(DriverWrapper.scala:81)\n\t\tat com.databricks.logging.UsageLogging.recordOperationWithResultTags(UsageLogging.scala:608)\n\t\tat com.databricks.logging.UsageLogging.recordOperationWithResultTags$(UsageLogging.scala:517)\n\t\tat com.databricks.backend.daemon.driver.DriverWrapper.recordOperationWithResultTags(DriverWrapper.scala:81)\n\t\tat com.databricks.backend.daemon.driver.DriverWrapper.tryExecutingCommand(DriverWrapper.scala:1075)\n\t\tat com.databricks.backend.daemon.driver.DriverWrapper.executeCommandAndGetError(DriverWrapper.scala:777)\n\t\tat com.databricks.backend.daemon.driver.DriverWrapper.executeCommand(DriverWrapper.scala:870)\n\t\tat com.databricks.backend.daemon.driver.DriverWrapper.$anonfun$runInnerLoop$1(DriverWrapper.scala:641)\n\t\tat scala.runtime.java8.JFunction0$mcV$sp.apply(JFunction0$mcV$sp.java:23)\n\t\tat com.databricks.logging.AttributionContextTracing.$anonfun$withAttributionContext$1(AttributionContextTracing.scala:49)\n\t\tat com.databricks.logging.AttributionContext$.$anonfun$withValue$1(AttributionContext.scala:295)\n\t\tat scala.util.DynamicVariable.withValue(DynamicVariable.scala:62)\n\t\tat com.databricks.logging.AttributionContext$.withValue(AttributionContext.scala:291)\n\t\tat com.databricks.logging.AttributionContextTracing.withAttributionContext(AttributionContextTracing.scala:47)\n\t\tat com.databricks.logging.AttributionContextTracing.withAttributionContext$(AttributionContextTracing.scala:44)\n\t\tat com.databricks.backend.daemon.driver.DriverWrapper.withAttributionContext(DriverWrapper.scala:81)\n\t\tat com.databricks.backend.daemon.driver.DriverWrapper.runInnerLoop(DriverWrapper.scala:636)\n\t\tat com.databricks.backend.daemon.driver.DriverWrapper.runInner(DriverWrapper.scala:559)\n\t\tat com.databricks.backend.daemon.driver.DriverWrapper.run(DriverWrapper.scala:342)\n\t\tat java.base/java.lang.Thread.run(Thread.java:840)\n"
       ],
       "type": "baseError"
      }
     },
     "output_type": "display_data"
    }
   ],
   "source": [
    "%sql\n",
    "ALTER TABLE `hive_metastore`.`default`.`e_commerce_dataset`\n",
    "ADD COLUMNS (Order_Date_Standardized DATE);\n"
   ]
  },
  {
   "cell_type": "code",
   "execution_count": null,
   "metadata": {
    "application/vnd.databricks.v1+cell": {
     "cellMetadata": {
      "byteLimit": 2048000,
      "implicitDf": true,
      "rowLimit": 10000
     },
     "inputWidgets": {},
     "nuid": "b00875f1-21c0-4807-a212-c8ef1752e9bb",
     "showTitle": false,
     "tableResultSettingsMap": {},
     "title": ""
    }
   },
   "outputs": [
    {
     "data": {
      "text/html": [
       "<style scoped>\n",
       "  .table-result-container {\n",
       "    max-height: 300px;\n",
       "    overflow: auto;\n",
       "  }\n",
       "  table, th, td {\n",
       "    border: 1px solid black;\n",
       "    border-collapse: collapse;\n",
       "  }\n",
       "  th, td {\n",
       "    padding: 5px;\n",
       "  }\n",
       "  th {\n",
       "    text-align: left;\n",
       "  }\n",
       "</style><div class='table-result-container'><table class='table-result'><thead style='background-color: white'><tr><th>num_affected_rows</th></tr></thead><tbody><tr><td>51290</td></tr></tbody></table></div>"
      ]
     },
     "metadata": {
      "application/vnd.databricks.v1+output": {
       "addedWidgets": {},
       "aggData": [],
       "aggError": "",
       "aggOverflow": false,
       "aggSchema": [],
       "aggSeriesLimitReached": false,
       "aggType": "",
       "arguments": {},
       "columnCustomDisplayInfos": {},
       "data": [
        [
         51290
        ]
       ],
       "datasetInfos": [],
       "dbfsResultPath": null,
       "isJsonSchema": true,
       "metadata": {
        "createTempViewForImplicitDf": true,
        "dataframeName": "_sqldf",
        "executionCount": 67
       },
       "overflow": false,
       "plotOptions": {
        "customPlotOptions": {},
        "displayType": "table",
        "pivotAggregation": null,
        "pivotColumns": null,
        "xColumns": null,
        "yColumns": null
       },
       "removedWidgets": [],
       "schema": [
        {
         "metadata": "{}",
         "name": "num_affected_rows",
         "type": "\"long\""
        }
       ],
       "type": "table"
      }
     },
     "output_type": "display_data"
    }
   ],
   "source": [
    "%sql\n",
    "UPDATE `hive_metastore`.`default`.`e_commerce_dataset`\n",
    "SET Order_Date_Standardized = CAST(Order_Date AS DATE);\n"
   ]
  },
  {
   "cell_type": "code",
   "execution_count": null,
   "metadata": {
    "application/vnd.databricks.v1+cell": {
     "cellMetadata": {
      "byteLimit": 2048000,
      "implicitDf": true,
      "rowLimit": 10000
     },
     "inputWidgets": {},
     "nuid": "6c70f87f-5fea-4f2d-9d74-02206f7ab0e5",
     "showTitle": false,
     "tableResultSettingsMap": {},
     "title": ""
    }
   },
   "outputs": [
    {
     "data": {
      "text/html": [
       "<style scoped>\n",
       "  .table-result-container {\n",
       "    max-height: 300px;\n",
       "    overflow: auto;\n",
       "  }\n",
       "  table, th, td {\n",
       "    border: 1px solid black;\n",
       "    border-collapse: collapse;\n",
       "  }\n",
       "  th, td {\n",
       "    padding: 5px;\n",
       "  }\n",
       "  th {\n",
       "    text-align: left;\n",
       "  }\n",
       "</style><div class='table-result-container'><table class='table-result'><thead style='background-color: white'><tr><th>Order_Date_Standardized</th></tr></thead><tbody><tr><td>2018-08-10</td></tr><tr><td>2018-05-28</td></tr><tr><td>2018-03-17</td></tr><tr><td>2018-06-06</td></tr><tr><td>2018-10-05</td></tr><tr><td>2018-09-09</td></tr><tr><td>2018-08-08</td></tr><tr><td>2018-08-11</td></tr><tr><td>2018-11-02</td></tr><tr><td>2018-09-01</td></tr></tbody></table></div>"
      ]
     },
     "metadata": {
      "application/vnd.databricks.v1+output": {
       "addedWidgets": {},
       "aggData": [],
       "aggError": "",
       "aggOverflow": false,
       "aggSchema": [],
       "aggSeriesLimitReached": false,
       "aggType": "",
       "arguments": {},
       "columnCustomDisplayInfos": {},
       "data": [
        [
         "2018-08-10"
        ],
        [
         "2018-05-28"
        ],
        [
         "2018-03-17"
        ],
        [
         "2018-06-06"
        ],
        [
         "2018-10-05"
        ],
        [
         "2018-09-09"
        ],
        [
         "2018-08-08"
        ],
        [
         "2018-08-11"
        ],
        [
         "2018-11-02"
        ],
        [
         "2018-09-01"
        ]
       ],
       "datasetInfos": [],
       "dbfsResultPath": null,
       "isJsonSchema": true,
       "metadata": {
        "createTempViewForImplicitDf": true,
        "dataframeName": "_sqldf",
        "executionCount": 68
       },
       "overflow": false,
       "plotOptions": {
        "customPlotOptions": {},
        "displayType": "table",
        "pivotAggregation": null,
        "pivotColumns": null,
        "xColumns": null,
        "yColumns": null
       },
       "removedWidgets": [],
       "schema": [
        {
         "metadata": "{}",
         "name": "Order_Date_Standardized",
         "type": "\"date\""
        }
       ],
       "type": "table"
      }
     },
     "output_type": "display_data"
    }
   ],
   "source": [
    "%sql\n",
    "SELECT DISTINCT Order_Date_Standardized FROM `hive_metastore`.`default`.`e_commerce_dataset` LIMIT 10;\n"
   ]
  },
  {
   "cell_type": "code",
   "execution_count": null,
   "metadata": {
    "application/vnd.databricks.v1+cell": {
     "cellMetadata": {
      "byteLimit": 2048000,
      "rowLimit": 10000
     },
     "inputWidgets": {},
     "nuid": "e33c4227-a964-4ee5-b8ff-3432ed81e98f",
     "showTitle": false,
     "tableResultSettingsMap": {},
     "title": ""
    }
   },
   "outputs": [
    {
     "name": "stdout",
     "output_type": "stream",
     "text": [
      "+----------+-----------------------+\n",
      "|Order_Date|Order_Date_Standardized|\n",
      "+----------+-----------------------+\n",
      "|2018-04-24|             2018-04-24|\n",
      "|2018-04-24|             2018-04-24|\n",
      "|2018-04-24|             2018-04-24|\n",
      "|2018-04-24|             2018-04-24|\n",
      "|2018-04-24|             2018-04-24|\n",
      "|2018-04-24|             2018-04-24|\n",
      "|2018-04-24|             2018-04-24|\n",
      "|2018-04-24|             2018-04-24|\n",
      "|2018-04-24|             2018-04-24|\n",
      "|2018-04-24|             2018-04-24|\n",
      "|2018-04-24|             2018-04-24|\n",
      "|2018-04-24|             2018-04-24|\n",
      "|2018-04-24|             2018-04-24|\n",
      "|2018-04-24|             2018-04-24|\n",
      "|2018-04-24|             2018-04-24|\n",
      "|2018-04-24|             2018-04-24|\n",
      "|2018-04-24|             2018-04-24|\n",
      "|2018-04-24|             2018-04-24|\n",
      "|2018-04-24|             2018-04-24|\n",
      "|2018-04-24|             2018-04-24|\n",
      "+----------+-----------------------+\n",
      "only showing top 20 rows\n"
     ]
    }
   ],
   "source": [
    "%python\n",
    "from pyspark.sql.functions import col, to_date\n",
    "\n",
    "df = df.withColumn(\"Order_Date_Standardized\", to_date(col(\"Order_Date\"), \"yyyy-MM-dd\"))\n",
    "\n",
    "# Verify\n",
    "df.select(\"Order_Date\", \"Order_Date_Standardized\").show()"
   ]
  },
  {
   "cell_type": "code",
   "execution_count": null,
   "metadata": {
    "application/vnd.databricks.v1+cell": {
     "cellMetadata": {
      "byteLimit": 2048000,
      "implicitDf": true,
      "rowLimit": 10000
     },
     "inputWidgets": {},
     "nuid": "361ddc83-f437-4827-9b5d-5244a4782a5e",
     "showTitle": false,
     "tableResultSettingsMap": {},
     "title": ""
    }
   },
   "outputs": [
    {
     "data": {
      "text/html": [
       "<style scoped>\n",
       "  .table-result-container {\n",
       "    max-height: 300px;\n",
       "    overflow: auto;\n",
       "  }\n",
       "  table, th, td {\n",
       "    border: 1px solid black;\n",
       "    border-collapse: collapse;\n",
       "  }\n",
       "  th, td {\n",
       "    padding: 5px;\n",
       "  }\n",
       "  th {\n",
       "    text-align: left;\n",
       "  }\n",
       "</style><div class='table-result-container'><table class='table-result'><thead style='background-color: white'><tr><th>Customer_Id</th><th>Order_Date</th><th>Gender_Male</th><th>Gender_Female</th><th>Device_Web</th><th>Device_Mobile</th><th>Payment_CreditCard</th><th>Payment_DebitCard</th><th>Payment_EWallet</th><th>Order_High</th><th>Order_Medium</th><th>Order_Low</th><th>Order_Critical</th></tr></thead><tbody><tr><td>37077</td><td>2018-01-02</td><td>0</td><td>1</td><td>1</td><td>0</td><td>1</td><td>0</td><td>0</td><td>0</td><td>1</td><td>0</td><td>0</td></tr><tr><td>59173</td><td>2018-07-24</td><td>0</td><td>1</td><td>1</td><td>0</td><td>1</td><td>0</td><td>0</td><td>0</td><td>1</td><td>0</td><td>0</td></tr><tr><td>41066</td><td>2018-11-08</td><td>0</td><td>1</td><td>1</td><td>0</td><td>1</td><td>0</td><td>0</td><td>0</td><td>0</td><td>0</td><td>1</td></tr><tr><td>50741</td><td>2018-04-18</td><td>0</td><td>1</td><td>1</td><td>0</td><td>1</td><td>0</td><td>0</td><td>1</td><td>0</td><td>0</td><td>0</td></tr><tr><td>53639</td><td>2018-08-13</td><td>0</td><td>1</td><td>1</td><td>0</td><td>1</td><td>0</td><td>0</td><td>0</td><td>0</td><td>0</td><td>1</td></tr><tr><td>39783</td><td>2018-07-09</td><td>0</td><td>1</td><td>1</td><td>0</td><td>1</td><td>0</td><td>0</td><td>0</td><td>0</td><td>0</td><td>1</td></tr><tr><td>26767</td><td>2018-05-16</td><td>0</td><td>1</td><td>1</td><td>0</td><td>1</td><td>0</td><td>0</td><td>1</td><td>0</td><td>0</td><td>0</td></tr><tr><td>20719</td><td>2018-06-23</td><td>0</td><td>1</td><td>1</td><td>0</td><td>1</td><td>0</td><td>0</td><td>0</td><td>0</td><td>0</td><td>1</td></tr><tr><td>46947</td><td>2018-07-29</td><td>0</td><td>1</td><td>1</td><td>0</td><td>1</td><td>0</td><td>0</td><td>0</td><td>0</td><td>0</td><td>1</td></tr><tr><td>31839</td><td>2018-05-16</td><td>0</td><td>1</td><td>1</td><td>0</td><td>0</td><td>0</td><td>0</td><td>0</td><td>0</td><td>0</td><td>1</td></tr></tbody></table></div>"
      ]
     },
     "metadata": {
      "application/vnd.databricks.v1+output": {
       "addedWidgets": {},
       "aggData": [],
       "aggError": "",
       "aggOverflow": false,
       "aggSchema": [],
       "aggSeriesLimitReached": false,
       "aggType": "",
       "arguments": {},
       "columnCustomDisplayInfos": {},
       "data": [
        [
         37077,
         "2018-01-02",
         0,
         1,
         1,
         0,
         1,
         0,
         0,
         0,
         1,
         0,
         0
        ],
        [
         59173,
         "2018-07-24",
         0,
         1,
         1,
         0,
         1,
         0,
         0,
         0,
         1,
         0,
         0
        ],
        [
         41066,
         "2018-11-08",
         0,
         1,
         1,
         0,
         1,
         0,
         0,
         0,
         0,
         0,
         1
        ],
        [
         50741,
         "2018-04-18",
         0,
         1,
         1,
         0,
         1,
         0,
         0,
         1,
         0,
         0,
         0
        ],
        [
         53639,
         "2018-08-13",
         0,
         1,
         1,
         0,
         1,
         0,
         0,
         0,
         0,
         0,
         1
        ],
        [
         39783,
         "2018-07-09",
         0,
         1,
         1,
         0,
         1,
         0,
         0,
         0,
         0,
         0,
         1
        ],
        [
         26767,
         "2018-05-16",
         0,
         1,
         1,
         0,
         1,
         0,
         0,
         1,
         0,
         0,
         0
        ],
        [
         20719,
         "2018-06-23",
         0,
         1,
         1,
         0,
         1,
         0,
         0,
         0,
         0,
         0,
         1
        ],
        [
         46947,
         "2018-07-29",
         0,
         1,
         1,
         0,
         1,
         0,
         0,
         0,
         0,
         0,
         1
        ],
        [
         31839,
         "2018-05-16",
         0,
         1,
         1,
         0,
         0,
         0,
         0,
         0,
         0,
         0,
         1
        ]
       ],
       "datasetInfos": [],
       "dbfsResultPath": null,
       "isJsonSchema": true,
       "metadata": {
        "createTempViewForImplicitDf": true,
        "dataframeName": "_sqldf",
        "executionCount": 92
       },
       "overflow": false,
       "plotOptions": {
        "customPlotOptions": {},
        "displayType": "table",
        "pivotAggregation": null,
        "pivotColumns": null,
        "xColumns": null,
        "yColumns": null
       },
       "removedWidgets": [],
       "schema": [
        {
         "metadata": "{}",
         "name": "Customer_Id",
         "type": "\"long\""
        },
        {
         "metadata": "{\"__detected_date_formats\":\"yyyy-M-d\"}",
         "name": "Order_Date",
         "type": "\"date\""
        },
        {
         "metadata": "{}",
         "name": "Gender_Male",
         "type": "\"integer\""
        },
        {
         "metadata": "{}",
         "name": "Gender_Female",
         "type": "\"integer\""
        },
        {
         "metadata": "{}",
         "name": "Device_Web",
         "type": "\"integer\""
        },
        {
         "metadata": "{}",
         "name": "Device_Mobile",
         "type": "\"integer\""
        },
        {
         "metadata": "{}",
         "name": "Payment_CreditCard",
         "type": "\"integer\""
        },
        {
         "metadata": "{}",
         "name": "Payment_DebitCard",
         "type": "\"integer\""
        },
        {
         "metadata": "{}",
         "name": "Payment_EWallet",
         "type": "\"integer\""
        },
        {
         "metadata": "{}",
         "name": "Order_High",
         "type": "\"integer\""
        },
        {
         "metadata": "{}",
         "name": "Order_Medium",
         "type": "\"integer\""
        },
        {
         "metadata": "{}",
         "name": "Order_Low",
         "type": "\"integer\""
        },
        {
         "metadata": "{}",
         "name": "Order_Critical",
         "type": "\"integer\""
        }
       ],
       "type": "table"
      }
     },
     "output_type": "display_data"
    }
   ],
   "source": [
    "%sql\n",
    "SELECT \n",
    "    Customer_Id,\n",
    "    Order_Date,\n",
    "    -- Gender Encoding\n",
    "    CASE WHEN Gender = 'Male' THEN 1 ELSE 0 END AS Gender_Male,\n",
    "    CASE WHEN Gender = 'Female' THEN 1 ELSE 0 END AS Gender_Female,\n",
    "\n",
    "    -- Device Type Encoding\n",
    "    CASE WHEN Device_Type = 'Web' THEN 1 ELSE 0 END AS Device_Web,\n",
    "    CASE WHEN Device_Type = 'Mobile' THEN 1 ELSE 0 END AS Device_Mobile,\n",
    "\n",
    "    -- Payment Method Encoding\n",
    "    CASE WHEN Payment_Method = 'credit_card' THEN 1 ELSE 0 END AS Payment_CreditCard,\n",
    "    CASE WHEN Payment_Method = 'debit_card' THEN 1 ELSE 0 END AS Payment_DebitCard,\n",
    "    CASE WHEN Payment_Method = 'e_wallet' THEN 1 ELSE 0 END AS Payment_EWallet,\n",
    "\n",
    "    -- Order Priority Encoding\n",
    "    CASE WHEN Order_Priority = 'High' THEN 1 ELSE 0 END AS Order_High,\n",
    "    CASE WHEN Order_Priority = 'Medium' THEN 1 ELSE 0 END AS Order_Medium,\n",
    "    CASE WHEN Order_Priority = 'Low' THEN 1 ELSE 0 END AS Order_Low,\n",
    "    CASE WHEN Order_Priority = 'Critical' THEN 1 ELSE 0 END AS Order_Critical\n",
    "\n",
    "FROM `hive_metastore`.`default`.`e_commerce_dataset`LIMIT 10;\n"
   ]
  },
  {
   "cell_type": "code",
   "execution_count": null,
   "metadata": {
    "application/vnd.databricks.v1+cell": {
     "cellMetadata": {},
     "inputWidgets": {},
     "nuid": "a34d5aff-57a8-4a8b-bc5f-afa0d8e4daaf",
     "showTitle": false,
     "tableResultSettingsMap": {},
     "title": ""
    }
   },
   "outputs": [
    {
     "data": {
      "text/html": [
       "<style scoped>\n",
       "  .table-result-container {\n",
       "    max-height: 300px;\n",
       "    overflow: auto;\n",
       "  }\n",
       "  table, th, td {\n",
       "    border: 1px solid black;\n",
       "    border-collapse: collapse;\n",
       "  }\n",
       "  th, td {\n",
       "    padding: 5px;\n",
       "  }\n",
       "  th {\n",
       "    text-align: left;\n",
       "  }\n",
       "</style><div class='table-result-container'><table class='table-result'><thead style='background-color: white'><tr><th>State</th><th>Total_Records</th></tr></thead><tbody><tr><td>Before Encoding</td><td>51290</td></tr><tr><td>After Encoding</td><td>51290</td></tr></tbody></table></div>"
      ]
     },
     "metadata": {
      "application/vnd.databricks.v1+output": {
       "addedWidgets": {},
       "aggData": [],
       "aggError": "",
       "aggOverflow": false,
       "aggSchema": [],
       "aggSeriesLimitReached": false,
       "aggType": "",
       "arguments": {},
       "columnCustomDisplayInfos": {},
       "data": [
        [
         "Before Encoding",
         51290
        ],
        [
         "After Encoding",
         51290
        ]
       ],
       "datasetInfos": [],
       "dbfsResultPath": null,
       "isJsonSchema": true,
       "metadata": {
        "createTempViewForImplicitDf": true,
        "dataframeName": "_sqldf",
        "executionCount": 49
       },
       "overflow": false,
       "plotOptions": {
        "customPlotOptions": {},
        "displayType": "table",
        "pivotAggregation": null,
        "pivotColumns": null,
        "xColumns": null,
        "yColumns": null
       },
       "removedWidgets": [],
       "schema": [
        {
         "metadata": "{}",
         "name": "State",
         "type": "\"string\""
        },
        {
         "metadata": "{}",
         "name": "Total_Records",
         "type": "\"long\""
        }
       ],
       "type": "table"
      }
     },
     "output_type": "display_data"
    }
   ],
   "source": [
    "%sql\n",
    "SELECT 'Before Encoding' AS State, COUNT(*) AS Total_Records FROM `hive_metastore`.`default`.`e_commerce_dataset`\n",
    "UNION ALL\n",
    "SELECT 'After Encoding' AS State, COUNT(*) AS Total_Records FROM `hive_metastore`.`default`.`e_commerce_encoded`;\n"
   ]
  },
  {
   "cell_type": "code",
   "execution_count": null,
   "metadata": {
    "application/vnd.databricks.v1+cell": {
     "cellMetadata": {
      "byteLimit": 2048000,
      "implicitDf": true,
      "rowLimit": 10000
     },
     "inputWidgets": {},
     "nuid": "aa1d4dfa-6ca2-428b-bc6e-cf668d556f10",
     "showTitle": false,
     "tableResultSettingsMap": {},
     "title": ""
    }
   },
   "outputs": [
    {
     "data": {
      "text/html": [
       "<style scoped>\n",
       "  .table-result-container {\n",
       "    max-height: 300px;\n",
       "    overflow: auto;\n",
       "  }\n",
       "  table, th, td {\n",
       "    border: 1px solid black;\n",
       "    border-collapse: collapse;\n",
       "  }\n",
       "  th, td {\n",
       "    padding: 5px;\n",
       "  }\n",
       "  th {\n",
       "    text-align: left;\n",
       "  }\n",
       "</style><div class='table-result-container'><table class='table-result'><thead style='background-color: white'><tr><th>Customer_Id</th><th>Order_Date</th><th>Sales_Normalized</th><th>Quantity_Normalized</th><th>Discount_Normalized</th><th>Profit_Normalized</th><th>Shipping_Cost_Normalized</th><th>Aging_Normalized</th></tr></thead><tbody><tr><td>37077</td><td>2018-01-02</td><td>0.4930875576036866</td><td>0.0</td><td>0.49999999999999994</td><td>0.27245508982035926</td><td>0.2694610778443114</td><td>0.7368421052631579</td></tr><tr><td>59173</td><td>2018-07-24</td><td>0.8202764976958525</td><td>0.0</td><td>0.49999999999999994</td><td>0.6676646706586826</td><td>0.6646706586826348</td><td>0.10526315789473684</td></tr><tr><td>41066</td><td>2018-11-08</td><td>0.3870967741935484</td><td>1.0</td><td>0.0</td><td>0.18383233532934132</td><td>0.17964071856287425</td><td>0.7368421052631579</td></tr><tr><td>50741</td><td>2018-04-18</td><td>0.391705069124424</td><td>0.0</td><td>0.49999999999999994</td><td>0.15389221556886226</td><td>0.14970059880239522</td><td>0.631578947368421</td></tr><tr><td>53639</td><td>2018-08-13</td><td>1.0</td><td>0.0</td><td>0.49999999999999994</td><td>0.9550898203592815</td><td>0.9520958083832336</td><td>0.8421052631578947</td></tr><tr><td>39783</td><td>2018-07-09</td><td>0.17972350230414746</td><td>0.0</td><td>0.49999999999999994</td><td>0.1407185628742515</td><td>0.1377245508982036</td><td>0.7368421052631579</td></tr><tr><td>26767</td><td>2018-05-16</td><td>0.0967741935483871</td><td>0.0</td><td>0.49999999999999994</td><td>0.3203592814371258</td><td>0.3173652694610779</td><td>0.0</td></tr><tr><td>20719</td><td>2018-06-23</td><td>0.37327188940092165</td><td>1.0</td><td>0.25</td><td>0.13233532934131736</td><td>0.13173652694610777</td><td>0.631578947368421</td></tr><tr><td>46947</td><td>2018-07-29</td><td>0.9124423963133641</td><td>1.0</td><td>0.49999999999999994</td><td>0.6940119760479042</td><td>0.688622754491018</td><td>0.631578947368421</td></tr><tr><td>31839</td><td>2018-05-16</td><td>0.4930875576036866</td><td>0.0</td><td>0.25</td><td>0.32275449101796405</td><td>0.3173652694610779</td><td>0.9473684210526315</td></tr></tbody></table></div>"
      ]
     },
     "metadata": {
      "application/vnd.databricks.v1+output": {
       "addedWidgets": {},
       "aggData": [],
       "aggError": "",
       "aggOverflow": false,
       "aggSchema": [],
       "aggSeriesLimitReached": false,
       "aggType": "",
       "arguments": {},
       "columnCustomDisplayInfos": {},
       "data": [
        [
         37077,
         "2018-01-02",
         0.4930875576036866,
         0,
         0.49999999999999994,
         0.27245508982035926,
         0.2694610778443114,
         0.7368421052631579
        ],
        [
         59173,
         "2018-07-24",
         0.8202764976958525,
         0,
         0.49999999999999994,
         0.6676646706586826,
         0.6646706586826348,
         0.10526315789473684
        ],
        [
         41066,
         "2018-11-08",
         0.3870967741935484,
         1,
         0,
         0.18383233532934132,
         0.17964071856287425,
         0.7368421052631579
        ],
        [
         50741,
         "2018-04-18",
         0.391705069124424,
         0,
         0.49999999999999994,
         0.15389221556886226,
         0.14970059880239522,
         0.631578947368421
        ],
        [
         53639,
         "2018-08-13",
         1,
         0,
         0.49999999999999994,
         0.9550898203592815,
         0.9520958083832336,
         0.8421052631578947
        ],
        [
         39783,
         "2018-07-09",
         0.17972350230414746,
         0,
         0.49999999999999994,
         0.1407185628742515,
         0.1377245508982036,
         0.7368421052631579
        ],
        [
         26767,
         "2018-05-16",
         0.0967741935483871,
         0,
         0.49999999999999994,
         0.3203592814371258,
         0.3173652694610779,
         0
        ],
        [
         20719,
         "2018-06-23",
         0.37327188940092165,
         1,
         0.25,
         0.13233532934131736,
         0.13173652694610777,
         0.631578947368421
        ],
        [
         46947,
         "2018-07-29",
         0.9124423963133641,
         1,
         0.49999999999999994,
         0.6940119760479042,
         0.688622754491018,
         0.631578947368421
        ],
        [
         31839,
         "2018-05-16",
         0.4930875576036866,
         0,
         0.25,
         0.32275449101796405,
         0.3173652694610779,
         0.9473684210526315
        ]
       ],
       "datasetInfos": [],
       "dbfsResultPath": null,
       "isJsonSchema": true,
       "metadata": {
        "createTempViewForImplicitDf": true,
        "dataframeName": "_sqldf",
        "executionCount": 93
       },
       "overflow": false,
       "plotOptions": {
        "customPlotOptions": {},
        "displayType": "table",
        "pivotAggregation": null,
        "pivotColumns": null,
        "xColumns": null,
        "yColumns": null
       },
       "removedWidgets": [],
       "schema": [
        {
         "metadata": "{}",
         "name": "Customer_Id",
         "type": "\"long\""
        },
        {
         "metadata": "{\"__detected_date_formats\":\"yyyy-M-d\"}",
         "name": "Order_Date",
         "type": "\"date\""
        },
        {
         "metadata": "{}",
         "name": "Sales_Normalized",
         "type": "\"double\""
        },
        {
         "metadata": "{}",
         "name": "Quantity_Normalized",
         "type": "\"double\""
        },
        {
         "metadata": "{}",
         "name": "Discount_Normalized",
         "type": "\"double\""
        },
        {
         "metadata": "{}",
         "name": "Profit_Normalized",
         "type": "\"double\""
        },
        {
         "metadata": "{}",
         "name": "Shipping_Cost_Normalized",
         "type": "\"double\""
        },
        {
         "metadata": "{}",
         "name": "Aging_Normalized",
         "type": "\"double\""
        }
       ],
       "type": "table"
      }
     },
     "output_type": "display_data"
    }
   ],
   "source": [
    "%sql\n",
    "SELECT \n",
    "    Customer_Id,\n",
    "    Order_Date,\n",
    "    \n",
    "    -- Min-Max Normalization for Numerical Columns\n",
    "    (Sales - (SELECT MIN(Sales) FROM `hive_metastore`.`default`.`e_commerce_dataset`)) / \n",
    "    ((SELECT MAX(Sales) FROM `hive_metastore`.`default`.`e_commerce_dataset`) - \n",
    "    (SELECT MIN(Sales) FROM `hive_metastore`.`default`.`e_commerce_dataset`)) AS Sales_Normalized,\n",
    "\n",
    "    (Quantity - (SELECT MIN(Quantity) FROM `hive_metastore`.`default`.`e_commerce_dataset`)) / \n",
    "    ((SELECT MAX(Quantity) FROM `hive_metastore`.`default`.`e_commerce_dataset`) - \n",
    "    (SELECT MIN(Quantity) FROM `hive_metastore`.`default`.`e_commerce_dataset`)) AS Quantity_Normalized,\n",
    "\n",
    "    (Discount - (SELECT MIN(Discount) FROM `hive_metastore`.`default`.`e_commerce_dataset`)) / \n",
    "    ((SELECT MAX(Discount) FROM `hive_metastore`.`default`.`e_commerce_dataset`) - \n",
    "    (SELECT MIN(Discount) FROM `hive_metastore`.`default`.`e_commerce_dataset`)) AS Discount_Normalized,\n",
    "\n",
    "    (Profit - (SELECT MIN(Profit) FROM `hive_metastore`.`default`.`e_commerce_dataset`)) / \n",
    "    ((SELECT MAX(Profit) FROM `hive_metastore`.`default`.`e_commerce_dataset`) - \n",
    "    (SELECT MIN(Profit) FROM `hive_metastore`.`default`.`e_commerce_dataset`)) AS Profit_Normalized,\n",
    "\n",
    "    (Shipping_Cost - (SELECT MIN(Shipping_Cost) FROM `hive_metastore`.`default`.`e_commerce_dataset`)) / \n",
    "    ((SELECT MAX(Shipping_Cost) FROM `hive_metastore`.`default`.`e_commerce_dataset`) - \n",
    "    (SELECT MIN(Shipping_Cost) FROM `hive_metastore`.`default`.`e_commerce_dataset`)) AS Shipping_Cost_Normalized,\n",
    "\n",
    "    (Aging - (SELECT MIN(Aging) FROM `hive_metastore`.`default`.`e_commerce_dataset`)) / \n",
    "    ((SELECT MAX(Aging) FROM `hive_metastore`.`default`.`e_commerce_dataset`) - \n",
    "    (SELECT MIN(Aging) FROM `hive_metastore`.`default`.`e_commerce_dataset`)) AS Aging_Normalized\n",
    "\n",
    "FROM `hive_metastore`.`default`.`e_commerce_dataset`LIMIT 10;\n"
   ]
  },
  {
   "cell_type": "code",
   "execution_count": null,
   "metadata": {
    "application/vnd.databricks.v1+cell": {
     "cellMetadata": {
      "byteLimit": 2048000,
      "rowLimit": 10000
     },
     "inputWidgets": {},
     "nuid": "b1ab0f07-9621-4dd0-84a7-85327ede5ceb",
     "showTitle": false,
     "tableResultSettingsMap": {},
     "title": ""
    }
   },
   "outputs": [
    {
     "data": {
      "text/html": [
       "<style scoped>\n",
       "  .table-result-container {\n",
       "    max-height: 300px;\n",
       "    overflow: auto;\n",
       "  }\n",
       "  table, th, td {\n",
       "    border: 1px solid black;\n",
       "    border-collapse: collapse;\n",
       "  }\n",
       "  th, td {\n",
       "    padding: 5px;\n",
       "  }\n",
       "  th {\n",
       "    text-align: left;\n",
       "  }\n",
       "</style><div class='table-result-container'><table class='table-result'><thead style='background-color: white'><tr><th>min_sales</th><th>max_sales</th><th>min_quantity</th><th>max_quantity</th><th>min_discount</th><th>max_discount</th><th>min_profit</th><th>max_profit</th><th>min_shipping</th><th>max_shipping</th></tr></thead><tbody><tr><td>33.0</td><td>250.0</td><td>1.0</td><td>5.0</td><td>0.1</td><td>0.5</td><td>0.5</td><td>167.5</td><td>0.1</td><td>16.8</td></tr></tbody></table></div>"
      ]
     },
     "metadata": {
      "application/vnd.databricks.v1+output": {
       "addedWidgets": {},
       "aggData": [],
       "aggError": "",
       "aggOverflow": false,
       "aggSchema": [],
       "aggSeriesLimitReached": false,
       "aggType": "",
       "arguments": {},
       "columnCustomDisplayInfos": {},
       "data": [
        [
         33,
         250,
         1,
         5,
         0.1,
         0.5,
         0.5,
         167.5,
         0.1,
         16.8
        ]
       ],
       "datasetInfos": [],
       "dbfsResultPath": null,
       "isJsonSchema": true,
       "metadata": {},
       "overflow": false,
       "plotOptions": {
        "customPlotOptions": {},
        "displayType": "table",
        "pivotAggregation": null,
        "pivotColumns": null,
        "xColumns": null,
        "yColumns": null
       },
       "removedWidgets": [],
       "schema": [
        {
         "metadata": "{}",
         "name": "min_sales",
         "type": "\"double\""
        },
        {
         "metadata": "{}",
         "name": "max_sales",
         "type": "\"double\""
        },
        {
         "metadata": "{}",
         "name": "min_quantity",
         "type": "\"double\""
        },
        {
         "metadata": "{}",
         "name": "max_quantity",
         "type": "\"double\""
        },
        {
         "metadata": "{}",
         "name": "min_discount",
         "type": "\"double\""
        },
        {
         "metadata": "{}",
         "name": "max_discount",
         "type": "\"double\""
        },
        {
         "metadata": "{}",
         "name": "min_profit",
         "type": "\"double\""
        },
        {
         "metadata": "{}",
         "name": "max_profit",
         "type": "\"double\""
        },
        {
         "metadata": "{}",
         "name": "min_shipping",
         "type": "\"double\""
        },
        {
         "metadata": "{}",
         "name": "max_shipping",
         "type": "\"double\""
        }
       ],
       "type": "table"
      }
     },
     "output_type": "display_data"
    }
   ],
   "source": [
    "from pyspark.sql.functions import col, min, max\n",
    "\n",
    "# Load dataset\n",
    "df = spark.read.table(\"hive_metastore.default.e_commerce_dataset\")\n",
    "\n",
    "# Calculate Min and Max for each column\n",
    "min_max_values = df.agg(\n",
    "    min(\"Sales\").alias(\"min_sales\"), max(\"Sales\").alias(\"max_sales\"),\n",
    "    min(\"Quantity\").alias(\"min_quantity\"), max(\"Quantity\").alias(\"max_quantity\"),\n",
    "    min(\"Discount\").alias(\"min_discount\"), max(\"Discount\").alias(\"max_discount\"),\n",
    "    min(\"Profit\").alias(\"min_profit\"), max(\"Profit\").alias(\"max_profit\"),\n",
    "    min(\"Shipping_Cost\").alias(\"min_shipping\"), max(\"Shipping_Cost\").alias(\"max_shipping\")\n",
    ")\n",
    "\n",
    "display(min_max_values)"
   ]
  },
  {
   "cell_type": "code",
   "execution_count": null,
   "metadata": {
    "application/vnd.databricks.v1+cell": {
     "cellMetadata": {},
     "inputWidgets": {},
     "nuid": "92ff526d-16ee-489b-b0f4-739c0b9329cf",
     "showTitle": false,
     "tableResultSettingsMap": {},
     "title": ""
    }
   },
   "outputs": [],
   "source": []
  }
 ],
 "metadata": {
  "application/vnd.databricks.v1+notebook": {
   "computePreferences": null,
   "dashboards": [],
   "environmentMetadata": null,
   "language": "python",
   "notebookMetadata": {
    "mostRecentlyExecutedCommandWithImplicitDF": {
     "commandId": 6015249815544105,
     "dataframes": [
      "_sqldf"
     ]
    },
    "pythonIndentUnit": 2
   },
   "notebookName": "Explore hive_metastore.default.e_commerce_dataset 2025-02-08 22:25:32",
   "widgets": {}
  },
  "language_info": {
   "name": "python"
  }
 },
 "nbformat": 4,
 "nbformat_minor": 0
}
